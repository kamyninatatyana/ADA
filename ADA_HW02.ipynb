{
 "cells": [
  {
   "cell_type": "markdown",
   "metadata": {},
   "source": [
    "## Урок 2"
   ]
  },
  {
   "cell_type": "code",
   "execution_count": 1384,
   "metadata": {},
   "outputs": [],
   "source": [
    "import numpy as np\n",
    "import pandas as pd\n",
    "import matplotlib.pyplot as plt\n",
    "import math\n",
    "plt.rcParams.update({'font.size': 14,\n",
    "                     'xtick.labelsize': 14})"
   ]
  },
  {
   "cell_type": "markdown",
   "metadata": {},
   "source": [
    "### Задача 1"
   ]
  },
  {
   "cell_type": "markdown",
   "metadata": {},
   "source": [
    "Сгенерировать датасет при помощи sklearn.datasets.make_regression и обучить линейную модель при помощи градиентного спуска (GD) и стохастического градиентного спуска (SGD). Построить графики среднеквадратичной ошибки от числа итераций для обоих методов на одном рисунке, сделать выводы о разнице скорости сходимости каждого из методов."
   ]
  },
  {
   "cell_type": "code",
   "execution_count": 1385,
   "metadata": {},
   "outputs": [
    {
     "data": {
      "text/plain": [
       "array([97.246139  ,  8.54030302, 48.50179875,  0.        ])"
      ]
     },
     "execution_count": 1385,
     "metadata": {},
     "output_type": "execute_result"
    }
   ],
   "source": [
    "from sklearn import datasets\n",
    "\n",
    "X, y, coef = datasets.make_regression(n_samples=1000, \n",
    "                                      n_features=4, \n",
    "                                      n_informative=3, \n",
    "                                      n_targets=1,\n",
    "                                      noise=5, \n",
    "                                      coef=True, \n",
    "                                      random_state=42)\n",
    "coef"
   ]
  },
  {
   "cell_type": "code",
   "execution_count": 1386,
   "metadata": {},
   "outputs": [
    {
     "data": {
      "image/png": "[encoded data removed]",
      "text/plain": [
       "<Figure size 432x288 with 1 Axes>"
      ]
     },
     "metadata": {
      "needs_background": "light"
     },
     "output_type": "display_data"
    }
   ],
   "source": [
    "plt.hist(X);"
   ]
  },
  {
   "cell_type": "code",
   "execution_count": 1387,
   "metadata": {},
   "outputs": [],
   "source": [
    "def calc_mse(y, y_pred):\n",
    "    err = np.mean((y - y_pred)**2)\n",
    "    return err"
   ]
  },
  {
   "cell_type": "code",
   "execution_count": 1388,
   "metadata": {},
   "outputs": [],
   "source": [
    "df = pd.DataFrame(columns=['name', 'iterations', 'alpha', 'lambda_', 'iter', 'w1', 'w2', 'w3', 'w4', 'MSE'])\n",
    "name = 'Base'\n",
    "lambda_= 0\n",
    "iterations = 0\n",
    "alpha = 0\n",
    "w1, w2, w3, w4 = coef\n",
    "err = 0\n",
    "df.loc[len(df)] = [name, iterations, alpha, lambda_, i, w1, w2, w3, w4, err]\n",
    "# Запускать каждый раз, когда нужно полностью очистить базу значений."
   ]
  },
  {
   "cell_type": "markdown",
   "metadata": {},
   "source": [
    "### Градиентный спуск"
   ]
  },
  {
   "cell_type": "code",
   "execution_count": 1435,
   "metadata": {},
   "outputs": [],
   "source": [
    "# Метод градиентного спуска\n",
    "def eval_GD(X, y, iterations, alpha):\n",
    "    np.random.seed(42)\n",
    "    w = np.random.randn(X.shape[1])\n",
    "    n = X.shape[0]\n",
    "    for i in range(1, iterations + 1):\n",
    "        y_pred = np.dot(X, w)\n",
    "        err = calc_mse(y, y_pred)\n",
    "        w -= alpha * (1/n * 2 * np.dot((y_pred - y), X))\n",
    "        if i % 100 == 0:\n",
    "            print(i, w, err)\n",
    "            w1, w2, w3, w4 = w\n",
    "            name = 'GD'\n",
    "            lambda_= 0\n",
    "            df.loc[len(df)] = [name, iterations, alpha, lambda_, i, w1, w2, w3, w4, err]\n",
    "    return w, df"
   ]
  },
  {
   "cell_type": "code",
   "execution_count": 1436,
   "metadata": {
    "collapsed": true
   },
   "outputs": [
    {
     "name": "stdout",
     "output_type": "stream",
     "text": [
      "100 [83.84068931  6.55300704 40.2738908   0.62893984] 268.2363657214654\n",
      "200 [ 9.52050166e+01  8.03612475e+00  4.72209224e+01 -1.68356392e-03] 29.25163742635347\n",
      "300 [96.7801553   8.30822942 48.40142546 -0.14552695] 24.007635351667183\n",
      "400 [97.00182421  8.35400391 48.59804464 -0.17161955] 23.88839227852765\n",
      "500 [97.03345478  8.36133802 48.63035345 -0.17588457] 23.88561266781738\n",
      "600 [97.03802445  8.36247796 48.63561284 -0.17653999] 23.885546749646487\n",
      "700 [97.03869186  8.36265163 48.63646327 -0.17663647] 23.885545167381064\n",
      "800 [97.03879027  8.36267772 48.63660011 -0.17665019] 23.88554512906834\n",
      "900 [97.0388049   8.36268161 48.63662205 -0.17665208] 23.88554512813461\n",
      "1000 [97.03880709  8.36268218 48.63662556 -0.17665234] 23.88554512811174\n",
      "1100 [97.03880742  8.36268226 48.63662612 -0.17665237] 23.885545128111183\n",
      "1200 [97.03880747  8.36268228 48.63662621 -0.17665237] 23.88554512811117\n",
      "1300 [97.03880748  8.36268228 48.63662622 -0.17665237] 23.885545128111165\n"
     ]
    },
    {
     "data": {
      "text/plain": [
       "(array([97.03880748,  8.36268228, 48.63662622, -0.17665237]),\n",
       "      name iterations      alpha lambda_  \\\n",
       " 0    Base          0          0       0   \n",
       " 1      GD       1300 0.01000000       0   \n",
       " 2      GD       1300 0.01000000       0   \n",
       " 3      GD       1300 0.01000000       0   \n",
       " 4      GD       1300 0.01000000       0   \n",
       " ..    ...        ...        ...     ...   \n",
       " 428    GD       1300 0.01000000       0   \n",
       " 429    GD       1300 0.01000000       0   \n",
       " 430    GD       1300 0.01000000       0   \n",
       " 431    GD       1300 0.01000000       0   \n",
       " 432    GD       1300 0.01000000       0   \n",
       " \n",
       "                                               iter          w1         w2  \\\n",
       " 0    AxesSubplot(0.547727,0.125;0.352273x0.343182) 97.24613900 8.54030302   \n",
       " 1                                              100 83.84068931 6.55300704   \n",
       " 2                                              200 95.20501662 8.03612475   \n",
       " 3                                              300 96.78015530 8.30822942   \n",
       " 4                                              400 97.00182421 8.35400391   \n",
       " ..                                             ...         ...        ...   \n",
       " 428                                            900 97.03880490 8.36268161   \n",
       " 429                                           1000 97.03880709 8.36268218   \n",
       " 430                                           1100 97.03880742 8.36268226   \n",
       " 431                                           1200 97.03880747 8.36268228   \n",
       " 432                                           1300 97.03880748 8.36268228   \n",
       " \n",
       "              w3          w4          MSE  \n",
       " 0   48.50179875  0.00000000            0  \n",
       " 1   40.27389080  0.62893984 268.23636572  \n",
       " 2   47.22092240 -0.00168356  29.25163743  \n",
       " 3   48.40142546 -0.14552695  24.00763535  \n",
       " 4   48.59804464 -0.17161955  23.88839228  \n",
       " ..          ...         ...          ...  \n",
       " 428 48.63662205 -0.17665208  23.88554513  \n",
       " 429 48.63662556 -0.17665234  23.88554513  \n",
       " 430 48.63662612 -0.17665237  23.88554513  \n",
       " 431 48.63662621 -0.17665237  23.88554513  \n",
       " 432 48.63662622 -0.17665237  23.88554513  \n",
       " \n",
       " [433 rows x 10 columns],\n",
       " <AxesSubplot:xlabel='Коэффициент регуляризации', ylabel='Веса'>)"
      ]
     },
     "execution_count": 1436,
     "metadata": {},
     "output_type": "execute_result"
    }
   ],
   "source": [
    "eval_GD(X, y, 1300, 1e-2)"
   ]
  },
  {
   "cell_type": "code",
   "execution_count": 1445,
   "metadata": {},
   "outputs": [
    {
     "data": {
      "text/plain": [
       "13     1300\n",
       "432    1300\n",
       "Name: iter, dtype: object"
      ]
     },
     "execution_count": 1445,
     "metadata": {},
     "output_type": "execute_result"
    }
   ],
   "source": [
    "df['iter'].loc[df['MSE'] == min(df['MSE'].loc[(df['name']== 'GD') & (df['alpha']== 1e-2)])]"
   ]
  },
  {
   "cell_type": "code",
   "execution_count": 1391,
   "metadata": {
    "collapsed": true
   },
   "outputs": [
    {
     "name": "stdout",
     "output_type": "stream",
     "text": [
      "100 [17.83506518  0.98064565  8.21710694  1.58505698] 7695.374408387717\n",
      "200 [32.04888255  1.97530777 14.60699752  1.56517811] 5242.102063941857\n",
      "300 [43.70317895  2.85357842 19.99824688  1.49172099] 3575.462535866417\n",
      "400 [53.26044254  3.62463381 24.54459944  1.38530784] 2442.5235075475566\n",
      "500 [61.09930448  4.29821618 28.3766056   1.26074216] 1671.9140398343652\n",
      "600 [67.52979593  4.8841133  31.6050222   1.12846015] 1147.446066088548\n",
      "700 [72.80581971  5.39181089 34.3237353   0.99564336] 790.2931187507301\n",
      "800 [77.13534689  5.83027172 36.61226786  0.86706849] 546.9417060723508\n",
      "900 [80.6887546   6.20780645 38.53792766  0.74575365] 381.03972750735204\n",
      "1000 [83.60564516  6.53200997 40.15764442  0.63344731] 267.8776303383352\n",
      "1100 [86.00042403  6.8097433  41.51953867  0.53099629] 190.64945051138662\n",
      "1200 [87.9668633   7.04714652 42.66426001  0.43862065] 137.91800528158277\n",
      "1300 [89.58183579  7.24967181 43.62612717  0.35611758] 101.89530085520077\n",
      "1400 [90.90837108  7.42212885 44.43409816  0.2830111 ] 77.27522055829651\n",
      "1500 [91.99815695  7.56873674 45.11259504  0.21866071] 60.44061566577476\n",
      "1600 [92.8935873   7.69317862 45.68220432  0.16233903] 48.924379138594034\n",
      "1700 [93.62943902  7.79865621 46.16027132  0.11328631] 41.042924799965405\n",
      "1800 [9.42342452e+01 7.88794237e+00 4.65614040e+01 7.07476191e-02] 35.64677077108546\n",
      "1900 [9.47314199e+01 7.96343065e+00 4.68978999e+01 3.39973448e-02] 31.950713890936242\n",
      "2000 [9.51401800e+01 8.02718113e+00 4.71801072e+01 2.35439645e-03] 29.418131710593492\n",
      "2100 [ 9.54762995e+01  8.08096217e+00  4.74167309e+01 -2.48092470e-02] 27.682116946504262\n",
      "2200 [ 9.57527292e+01  8.12628812e+00  4.76150905e+01 -4.80647161e-02] 26.491690007216548\n",
      "2300 [ 9.59801031e+01  8.16445303e+00  4.77813390e+01 -6.79256860e-02] 25.675096037722756\n",
      "2400 [ 9.61671546e+01  8.19656048e+00  4.79206466e+01 -8.48499889e-02] 25.114747248308113\n",
      "2500 [96.32105701  8.22354998 48.03735667 -0.09924261] 24.730107246002888\n",
      "2600 [96.44770357  8.24622    48.13511672 -0.11145953] 24.465994578593403\n",
      "2700 [96.55193633  8.26524814 48.21698909 -0.12181189] 24.28458594269867\n",
      "2800 [96.63773438  8.28120862 48.28554407 -0.13057041] 24.159946373409255\n",
      "2900 [96.70836817  8.29458742 48.34293844 -0.13796962] 24.074286262800204\n",
      "3000 [96.76652608  8.30579532 48.39098154 -0.14421199] 24.015398964913008\n",
      "3100 [96.81441838  8.31517918 48.43119084 -0.14947169] 23.974905898755747\n",
      "3200 [96.85386256  8.32303159 48.46483878 -0.15389817] 23.947054204708692\n",
      "3300 [96.8863533   8.32959908 48.49299208 -0.15761929] 23.927892660783264\n",
      "3400 [96.91312002  8.3350892  48.5165448  -0.16074417] 23.914706648874457\n",
      "3500 [96.93517411  8.33967655 48.53624614 -0.16336577] 23.905630600654018\n",
      "3600 [96.9533477   8.34350787 48.55272382 -0.16556312] 23.89938208432558\n",
      "3700 [96.96832556  8.34670641 48.56650363 -0.16740325] 23.895079292316375\n",
      "3800 [96.98067125  8.34937559 48.57802594 -0.16894297] 23.892115731795993\n",
      "3900 [96.99084864  8.35160217 48.5876595  -0.17023029] 23.89007416286923\n",
      "4000 [96.99923963  8.35345886 48.59571304 -0.17130579] 23.888667474135236\n",
      "4100 [97.00615865  8.35500655 48.60244498 -0.17220369] 23.887698052470682\n",
      "4200 [97.01186464  8.35629624 48.60807163 -0.1729528 ] 23.88702985422693\n",
      "4300 [97.01657083  8.3573706  48.61277401 -0.17357737] 23.886569202086772\n",
      "4400 [97.02045288  8.35826529 48.61670356 -0.17409778] 23.88625157803925\n",
      "4500 [97.0236555   8.35901015 48.619987   -0.17453114] 23.88603253793107\n",
      "4600 [97.02629792  8.35963009 48.62273032 -0.17489182] 23.885881459846612\n",
      "4700 [97.02847838  8.36014592 48.62502218 -0.17519183] 23.88577724141976\n",
      "4800 [97.03027785  8.36057502 48.6269367  -0.17544125] 23.885705337836526\n",
      "4900 [97.03176308  8.36093187 48.62853589 -0.17564851] 23.885655722335976\n",
      "5000 [97.03298908  8.36122858 48.62987159 -0.17582064] 23.885621481608897\n",
      "5100 [97.0340012   8.36147521 48.63098711 -0.17596354] 23.885597848255344\n",
      "5200 [97.03483686  8.36168018 48.6319187  -0.1760821 ] 23.88558153417502\n",
      "5300 [97.03552689  8.36185049 48.63269661 -0.17618044] 23.885570271206173\n",
      "5400 [97.03609673  8.36199197 48.63334616 -0.17626197] 23.885562494522038\n",
      "5500 [97.03656737  8.36210948 48.6338885  -0.17632953] 23.885557124381602\n",
      "5600 [97.03695611  8.36220706 48.63434128 -0.1763855 ] 23.885553415655007\n",
      "5700 [97.03727725  8.36228807 48.63471928 -0.17643184] 23.88555085406018\n",
      "5800 [97.03754256  8.36235532 48.63503483 -0.17647019] 23.885549084599116\n",
      "5900 [97.03776178  8.36241114 48.63529823 -0.17650193] 23.88554786219413\n",
      "6000 [97.03794292  8.36245745 48.63551808 -0.17652818] 23.88554701763245\n",
      "6100 [97.03809262  8.36249588 48.63570158 -0.17654988] 23.885546434068495\n",
      "6200 [97.03821635  8.36252776 48.63585473 -0.17656782] 23.885546030808506\n",
      "6300 [97.03831862  8.3625542  48.63598254 -0.17658264] 23.88554575211928\n",
      "6400 [97.03840316  8.36257613 48.6360892  -0.17659488] 23.88554555950326\n",
      "6500 [97.03847305  8.36259432 48.6361782  -0.17660499] 23.88554542636567\n",
      "6600 [97.03853083  8.3626094  48.63625247 -0.17661333] 23.885545334332576\n",
      "6700 [97.03857862  8.3626219  48.63631444 -0.17662021] 23.88554527070853\n",
      "6800 [97.03861813  8.36263226 48.63636614 -0.17662589] 23.8855452267208\n",
      "6900 [97.03865081  8.36264084 48.63640928 -0.17663057] 23.885545196306786\n",
      "7000 [97.03867784  8.36264796 48.63644527 -0.17663443] 23.88554517527641\n",
      "7100 [97.0387002   8.36265386 48.63647529 -0.17663761] 23.88554516073353\n",
      "7200 [97.03871869  8.36265874 48.63650034 -0.17664023] 23.885545150676172\n",
      "7300 [97.03873399  8.36266279 48.63652123 -0.17664239] 23.88554514372041\n",
      "7400 [97.03874665  8.36266614 48.63653866 -0.17664417] 23.885545138909414\n",
      "7500 [97.03875713  8.36266892 48.6365532  -0.17664563] 23.885545135581673\n",
      "7600 [97.03876579  8.36267122 48.63656532 -0.17664683] 23.885545133279738\n",
      "7700 [97.03877297  8.36267312 48.63657544 -0.17664782] 23.88554513168731\n",
      "7800 [97.0387789   8.3626747  48.63658387 -0.17664864] 23.88554513058564\n",
      "7900 [97.03878382  8.36267601 48.63659091 -0.17664931] 23.88554512982343\n",
      "8000 [97.03878788  8.36267709 48.63659677 -0.17664986] 23.885545129296073\n",
      "8100 [97.03879125  8.36267798 48.63660167 -0.17665031] 23.885545128931174\n",
      "8200 [97.03879404  8.36267872 48.63660575 -0.17665068] 23.88554512867867\n",
      "8300 [97.03879635  8.36267934 48.63660915 -0.17665099] 23.885545128503942\n",
      "8400 [97.03879826  8.36267984 48.63661199 -0.17665124] 23.88554512838301\n",
      "8500 [97.03879984  8.36268026 48.63661436 -0.17665144] 23.88554512829933\n",
      "8600 [97.03880115  8.36268061 48.63661633 -0.17665161] 23.885545128241418\n",
      "8700 [97.03880224  8.3626809  48.63661797 -0.17665175] 23.885545128201333\n",
      "8800 [97.03880314  8.36268114 48.63661935 -0.17665186] 23.885545128173586\n",
      "8900 [97.03880388  8.36268134 48.63662049 -0.17665195] 23.88554512815438\n",
      "9000 [97.0388045   8.3626815  48.63662144 -0.17665203] 23.885545128141086\n",
      "9100 [97.03880501  8.36268163 48.63662224 -0.17665209] 23.88554512813188\n",
      "9200 [97.03880543  8.36268175 48.6366229  -0.17665214] 23.885545128125507\n",
      "9300 [97.03880578  8.36268184 48.63662345 -0.17665219] 23.885545128121095\n",
      "9400 [97.03880607  8.36268191 48.63662391 -0.17665222] 23.88554512811804\n",
      "9500 [97.03880631  8.36268198 48.6366243  -0.17665225] 23.885545128115933\n",
      "9600 [97.03880651  8.36268203 48.63662462 -0.17665227] 23.88554512811446\n",
      "9700 [97.03880668  8.36268207 48.63662489 -0.17665229] 23.885545128113453\n",
      "9800 [97.03880681  8.36268211 48.63662511 -0.17665231] 23.885545128112746\n",
      "9900 [97.03880693  8.36268214 48.63662529 -0.17665232] 23.88554512811226\n",
      "10000 [97.03880702  8.36268216 48.63662545 -0.17665233] 23.88554512811193\n",
      "10100 [97.0388071   8.36268218 48.63662558 -0.17665234] 23.88554512811169\n",
      "10200 [97.03880716  8.3626822  48.63662568 -0.17665234] 23.88554512811153\n",
      "10300 [97.03880722  8.36268221 48.63662577 -0.17665235] 23.88554512811142\n",
      "10400 [97.03880726  8.36268222 48.63662585 -0.17665235] 23.885545128111342\n",
      "10500 [97.0388073   8.36268223 48.63662591 -0.17665236] 23.8855451281113\n",
      "10600 [97.03880733  8.36268224 48.63662596 -0.17665236] 23.885545128111254\n",
      "10700 [97.03880736  8.36268225 48.63662601 -0.17665236] 23.88554512811122\n",
      "10800 [97.03880738  8.36268225 48.63662604 -0.17665236] 23.885545128111204\n",
      "10900 [97.03880739  8.36268226 48.63662607 -0.17665237] 23.885545128111193\n",
      "11000 [97.03880741  8.36268226 48.6366261  -0.17665237] 23.885545128111186\n",
      "11100 [97.03880742  8.36268226 48.63662612 -0.17665237] 23.885545128111183\n",
      "11200 [97.03880743  8.36268227 48.63662614 -0.17665237] 23.885545128111175\n",
      "11300 [97.03880744  8.36268227 48.63662615 -0.17665237] 23.885545128111175\n",
      "11400 [97.03880744  8.36268227 48.63662616 -0.17665237] 23.885545128111172\n"
     ]
    },
    {
     "name": "stdout",
     "output_type": "stream",
     "text": [
      "11500 [97.03880745  8.36268227 48.63662617 -0.17665237] 23.885545128111175\n",
      "11600 [97.03880746  8.36268227 48.63662618 -0.17665237] 23.88554512811117\n",
      "11700 [97.03880746  8.36268227 48.63662619 -0.17665237] 23.88554512811117\n",
      "11800 [97.03880746  8.36268228 48.63662619 -0.17665237] 23.88554512811117\n",
      "11900 [97.03880747  8.36268228 48.6366262  -0.17665237] 23.88554512811117\n",
      "12000 [97.03880747  8.36268228 48.6366262  -0.17665237] 23.88554512811117\n",
      "12100 [97.03880747  8.36268228 48.63662621 -0.17665237] 23.88554512811117\n",
      "12200 [97.03880747  8.36268228 48.63662621 -0.17665237] 23.885545128111172\n",
      "12300 [97.03880747  8.36268228 48.63662621 -0.17665237] 23.88554512811117\n",
      "12400 [97.03880747  8.36268228 48.63662621 -0.17665237] 23.885545128111175\n",
      "12500 [97.03880747  8.36268228 48.63662621 -0.17665237] 23.885545128111175\n",
      "12600 [97.03880747  8.36268228 48.63662622 -0.17665237] 23.88554512811117\n",
      "12700 [97.03880748  8.36268228 48.63662622 -0.17665237] 23.885545128111175\n",
      "12800 [97.03880748  8.36268228 48.63662622 -0.17665237] 23.88554512811116\n"
     ]
    },
    {
     "data": {
      "text/plain": [
       "(array([97.03880748,  8.36268228, 48.63662622, -0.17665237]),\n",
       "      name iterations      alpha lambda_  \\\n",
       " 0    Base          0          0       0   \n",
       " 1      GD       1300 0.01000000       0   \n",
       " 2      GD       1300 0.01000000       0   \n",
       " 3      GD       1300 0.01000000       0   \n",
       " 4      GD       1300 0.01000000       0   \n",
       " ..    ...        ...        ...     ...   \n",
       " 137    GD      12800 0.00100000       0   \n",
       " 138    GD      12800 0.00100000       0   \n",
       " 139    GD      12800 0.00100000       0   \n",
       " 140    GD      12800 0.00100000       0   \n",
       " 141    GD      12800 0.00100000       0   \n",
       " \n",
       "                                               iter          w1         w2  \\\n",
       " 0    AxesSubplot(0.547727,0.125;0.352273x0.343182) 97.24613900 8.54030302   \n",
       " 1                                              100 83.84068931 6.55300704   \n",
       " 2                                              200 95.20501662 8.03612475   \n",
       " 3                                              300 96.78015530 8.30822942   \n",
       " 4                                              400 97.00182421 8.35400391   \n",
       " ..                                             ...         ...        ...   \n",
       " 137                                          12400 97.03880747 8.36268228   \n",
       " 138                                          12500 97.03880747 8.36268228   \n",
       " 139                                          12600 97.03880747 8.36268228   \n",
       " 140                                          12700 97.03880748 8.36268228   \n",
       " 141                                          12800 97.03880748 8.36268228   \n",
       " \n",
       "              w3          w4          MSE  \n",
       " 0   48.50179875  0.00000000            0  \n",
       " 1   40.27389080  0.62893984 268.23636572  \n",
       " 2   47.22092240 -0.00168356  29.25163743  \n",
       " 3   48.40142546 -0.14552695  24.00763535  \n",
       " 4   48.59804464 -0.17161955  23.88839228  \n",
       " ..          ...         ...          ...  \n",
       " 137 48.63662621 -0.17665237  23.88554513  \n",
       " 138 48.63662621 -0.17665237  23.88554513  \n",
       " 139 48.63662622 -0.17665237  23.88554513  \n",
       " 140 48.63662622 -0.17665237  23.88554513  \n",
       " 141 48.63662622 -0.17665237  23.88554513  \n",
       " \n",
       " [142 rows x 10 columns])"
      ]
     },
     "execution_count": 1391,
     "metadata": {},
     "output_type": "execute_result"
    }
   ],
   "source": [
    "eval_GD(X, y, 12800, 1e-3)"
   ]
  },
  {
   "cell_type": "code",
   "execution_count": 1444,
   "metadata": {},
   "outputs": [
    {
     "data": {
      "text/plain": [
       "141    12800\n",
       "Name: iter, dtype: object"
      ]
     },
     "execution_count": 1444,
     "metadata": {},
     "output_type": "execute_result"
    }
   ],
   "source": [
    "df['iter'].loc[df['MSE'] == min(df['MSE'].loc[(df['name']== 'GD') & (df['alpha']== 1e-3)])]"
   ]
  },
  {
   "cell_type": "markdown",
   "metadata": {},
   "source": [
    "<table>\n",
    "<tr><th>Модель</th><th>Число итераций</th><th>Alpha</th><th>Lambda</th><th>MSE</th><th>Вес 1</th><th>Вес 2</th><th>Вес 3</th><th>Вес 4</th></tr>\n",
    "    \n",
    "<tr><td>Исходные данные</td><td>-</td><td>-</td><td>-</td><td>-</td><td>97.246139</td><td>8.54030302</td><td>48.50179875</td><td>0.</td></tr>\n",
    "    \n",
    "<tr><td>GD (1e-3)</td><td>12800</td><td>1e-3</td><td>-</td><td>23.88554512811116</td><td>97.03880748</td><td>8.36268228</td><td>48.63662622</td><td>-0.17665237</td></tr>\n",
    "\n",
    "<tr><td>GD (1e-2)</td><td>1300</td><td>1e-2</td><td>-</td><td>23.885545128111165</td><td>97.03880748</td><td>8.36268228</td><td>48.63662622</td><td>-0.17665237</td></tr>\n",
    "</table>"
   ]
  },
  {
   "cell_type": "code",
   "execution_count": 1392,
   "metadata": {},
   "outputs": [],
   "source": [
    "# Рисует столбчатую диаграмму. data = [x, значение условия выборки], var1 - поле, которое отбираем, \n",
    "# var2 - поле, по которому отбираем, color - цвет столбца, name - признак всей выборки.\n",
    "\n",
    "def draw_bar(row, col, cols, data, var1, var2, name, color, width, func):\n",
    "    if func == 'min':\n",
    "        if cols == 0:\n",
    "            for i in data:\n",
    "                ax[col].bar(i[0], min(df[var1].loc[(df[var2]==i[1]) & (df['name']== name)]), color = color, width = width)\n",
    "        else:\n",
    "            for i in data:\n",
    "                ax[row][col].bar(i[0], min(df[var1].loc[(df[var2]==i[1]) & (df['name']==name)]), color = color, width = width)\n",
    "    else:\n",
    "        if cols == 0:\n",
    "            for i in data:\n",
    "                ax[col].bar(i[0], max(df[var1].loc[(df[var2]==i[1]) & (df['name']== name)]), color = color, width = width)\n",
    "        else:\n",
    "            for i in data:\n",
    "                ax[row][col].bar(i[0], max(df[var1].loc[(df[var2]==i[1]) & (df['name']==name)]), color = color, width = width)\n",
    "    return"
   ]
  },
  {
   "cell_type": "code",
   "execution_count": 1393,
   "metadata": {},
   "outputs": [],
   "source": [
    "# Подписывает данные на диаграмме в фигуре. Row, col - положение диаграммы в фигуре. Если диаграммы расположены в 1 строку, \n",
    "# cols = 0. Data = [x, y, надпись] Alignment - положение надписи\n",
    "\n",
    "def set_title(row, col, cols, data, alignment):\n",
    "    if cols == 0:\n",
    "        for i in data:\n",
    "            ax[col].text(i[0], i[1], i[2], horizontalalignment = alignment)\n",
    "    else:\n",
    "        for i in data:\n",
    "            ax[row][col].text(i[0], i[1], i[2], horizontalalignment = alignment)\n",
    "        return"
   ]
  },
  {
   "cell_type": "code",
   "execution_count": 1394,
   "metadata": {},
   "outputs": [
    {
     "data": {
      "image/png": "[encoded data removed]",
      "text/plain": [
       "<Figure size 1152x432 with 2 Axes>"
      ]
     },
     "metadata": {
      "needs_background": "light"
     },
     "output_type": "display_data"
    }
   ],
   "source": [
    "fig , ax = plt.subplots(ncols = 2, figsize=(16, 6))\n",
    "\n",
    "#Количество итераций - скорость обучения\n",
    "draw_bar(0, 0, 0, [['1', 1e-3]], 'iter', 'alpha', 'GD', 'royalblue', 0.5, 'max')\n",
    "draw_bar(0, 0, 0, [['2', 1e-2]], 'iter', 'alpha', 'GD', 'lightcoral', 0.5, 'max')\n",
    "set_title(0, 0, 0, [['1', 13200, '1e-3'], ['2', 1500, '1e-2']], 'center')\n",
    "ax[0].set_ylabel('Количество итераций')\n",
    "ax[0].set_ylim([0, 15000])\n",
    "ax[0].text(0.8, 13200, 'Количество итераций -', horizontalalignment = 'center', style = 'italic')\n",
    "ax[0].text(0.8, 12200, 'обратно пропорционально', horizontalalignment = 'center', style = 'italic')\n",
    "ax[0].text(0.8, 11200, 'скорости обучения', horizontalalignment = 'center', style = 'italic')\n",
    "\n",
    "#MSE - скорость обучения\n",
    "draw_bar(0, 1, 0, [['1', 1e-3]], 'MSE', 'alpha', 'GD', 'royalblue', 0.5, 'min')\n",
    "draw_bar(0, 1, 0, [['2', 1e-2]], 'MSE', 'alpha', 'GD', 'lightcoral', 0.5, 'min')\n",
    "set_title(0, 1, 0, [['1', 23.886, '1e-3'], ['2', 23.886, '1e-2']], 'center')\n",
    "ax[1].set_ylabel('MSE')\n",
    "ax[1].set_ylim([23.88, 23.89])\n",
    "ax[1].text(0.8, 23.8885, 'При большей скорости обучения', horizontalalignment = 'center', style = 'italic')\n",
    "ax[1].text(0.8, 23.888, 'MSE незначительно выше', horizontalalignment = 'center', style = 'italic')\n",
    "\n",
    "fig.suptitle('Зависимость количества итераций и значения MSE от скорости обучения')\n",
    "plt.show()"
   ]
  },
  {
   "cell_type": "markdown",
   "metadata": {},
   "source": [
    "### Стохастический градиентный спуск"
   ]
  },
  {
   "cell_type": "code",
   "execution_count": 1395,
   "metadata": {},
   "outputs": [],
   "source": [
    "# mini-batch GD & SGD\n",
    "def eval_SGD(X, y, iterations, qty_in_batch=1, alpha=1e-4):\n",
    "    np.random.seed(42)\n",
    "    w = np.random.randn(X.shape[1]) # начальное приближение весов\n",
    "    n = X.shape[0] # число наблюдений\n",
    "    n_batch = n // qty_in_batch\n",
    "    if n % qty_in_batch != 0:\n",
    "        n_batch += 1\n",
    "    # print(n_batch)\n",
    "    for i in range(1, iterations + 1):\n",
    "        for b in range(n_batch):\n",
    "            start_ = qty_in_batch * b\n",
    "            end_ = qty_in_batch * (b + 1)\n",
    "            X_tmp = X[start_ : end_, :]\n",
    "            y_tmp = y[start_ : end_]\n",
    "            y_pred_tmp = np.dot(X_tmp, w)\n",
    "            err = calc_mse(y_tmp, y_pred_tmp)\n",
    "            w -= alpha * (1/n * 2 * np.dot((y_pred_tmp - y_tmp), X_tmp))\n",
    "        if i % 100 == 0:\n",
    "            print(i, w, err)\n",
    "            w1, w2, w3, w4 = w\n",
    "            name = 'SGD'\n",
    "            lambda_= 0\n",
    "            df.loc[len(df)] = [name, iterations, alpha, lambda_, i, w1, w2, w3, w4, err]\n",
    "    return w, df"
   ]
  },
  {
   "cell_type": "code",
   "execution_count": 1396,
   "metadata": {
    "collapsed": true
   },
   "outputs": [
    {
     "name": "stdout",
     "output_type": "stream",
     "text": [
      "100 [83.57993278  6.52865174 40.14607917  0.6317218 ] 16.997417709936368\n",
      "200 [9.51321691e+01 8.02505239e+00 4.71758767e+01 1.31533935e-03] 0.2037856407987225\n",
      "300 [96.76391754  8.30437721 48.38977731 -0.14529212] 0.03011796516251535\n",
      "400 [96.99780828  8.35225061 48.59533094 -0.1724383 ] 0.029665728288381207\n"
     ]
    },
    {
     "data": {
      "text/plain": [
       "(array([96.99780828,  8.35225061, 48.59533094, -0.1724383 ]),\n",
       "      name iterations      alpha lambda_  \\\n",
       " 0    Base          0          0       0   \n",
       " 1      GD       1300 0.01000000       0   \n",
       " 2      GD       1300 0.01000000       0   \n",
       " 3      GD       1300 0.01000000       0   \n",
       " 4      GD       1300 0.01000000       0   \n",
       " ..    ...        ...        ...     ...   \n",
       " 141    GD      12800 0.00100000       0   \n",
       " 142   SGD        400 0.01000000       0   \n",
       " 143   SGD        400 0.01000000       0   \n",
       " 144   SGD        400 0.01000000       0   \n",
       " 145   SGD        400 0.01000000       0   \n",
       " \n",
       "                                               iter          w1         w2  \\\n",
       " 0    AxesSubplot(0.547727,0.125;0.352273x0.343182) 97.24613900 8.54030302   \n",
       " 1                                              100 83.84068931 6.55300704   \n",
       " 2                                              200 95.20501662 8.03612475   \n",
       " 3                                              300 96.78015530 8.30822942   \n",
       " 4                                              400 97.00182421 8.35400391   \n",
       " ..                                             ...         ...        ...   \n",
       " 141                                          12800 97.03880748 8.36268228   \n",
       " 142                                            100 83.57993278 6.52865174   \n",
       " 143                                            200 95.13216908 8.02505239   \n",
       " 144                                            300 96.76391754 8.30437721   \n",
       " 145                                            400 96.99780828 8.35225061   \n",
       " \n",
       "              w3          w4          MSE  \n",
       " 0   48.50179875  0.00000000            0  \n",
       " 1   40.27389080  0.62893984 268.23636572  \n",
       " 2   47.22092240 -0.00168356  29.25163743  \n",
       " 3   48.40142546 -0.14552695  24.00763535  \n",
       " 4   48.59804464 -0.17161955  23.88839228  \n",
       " ..          ...         ...          ...  \n",
       " 141 48.63662622 -0.17665237  23.88554513  \n",
       " 142 40.14607917  0.63172180  16.99741771  \n",
       " 143 47.17587672  0.00131534   0.20378564  \n",
       " 144 48.38977731 -0.14529212   0.03011797  \n",
       " 145 48.59533094 -0.17243830   0.02966573  \n",
       " \n",
       " [146 rows x 10 columns])"
      ]
     },
     "execution_count": 1396,
     "metadata": {},
     "output_type": "execute_result"
    }
   ],
   "source": [
    "eval_SGD(X, y, 400, 1, 1e-2)"
   ]
  },
  {
   "cell_type": "markdown",
   "metadata": {},
   "source": [
    "<table>\n",
    "<tr><th>Модель</th><th>Число итераций</th><th>Alpha</th><th>Lambda</th><th>MSE</th><th>Вес 1</th><th>Вес 2</th><th>Вес 3</th><th>Вес 4</th></tr>\n",
    "    \n",
    "<tr><td>Исходные данные</td><td>-</td><td>-</td><td>-</td><td>-</td><td>97.246139</td><td>8.54030302</td><td>48.50179875</td><td>0.</td></tr>\n",
    "    \n",
    "<tr><td>SGD (1e-2)</td><td>400</td><td>1e-2</td><td>-</td><td>0.029665728288381207</td><td>96.99780828</td><td>8.35225061</td><td>48.59533094</td><td>-0.1724383</td></tr>\n",
    "</table>"
   ]
  },
  {
   "cell_type": "markdown",
   "metadata": {},
   "source": [
    "Сравним результаты GD и SGD при одинаковой скорости обучения:"
   ]
  },
  {
   "cell_type": "markdown",
   "metadata": {},
   "source": [
    "<table>\n",
    "<tr><th>Модель</th><th>Число итераций</th><th>Alpha</th><th>Lambda</th><th>MSE</th><th>Вес 1</th><th>Вес 2</th><th>Вес 3</th><th>Вес 4</th></tr>\n",
    "    \n",
    "<tr><td>Исходные данные</td><td>-</td><td>-</td><td>-</td><td>-</td><td>97.246139</td><td>8.54030302</td><td>48.50179875</td><td>0.</td></tr>\n",
    "    \n",
    "<tr><td>GD (1e-2)</td><td>1300</td><td>1e-2</td><td>-</td><td>23.885545128111165</td><td>97.03880748</td><td>8.36268228</td><td>48.63662622</td><td>-0.17665237</td></tr>\n",
    "\n",
    "<tr><td>SGD (1e-2)</td><td>400</td><td>1e-2</td><td>-</td><td>0.029665728288381207</td><td>96.99780828</td><td>8.35225061</td><td>48.59533094</td><td>-0.1724383</td></tr>\n",
    "</table>"
   ]
  },
  {
   "cell_type": "code",
   "execution_count": 1397,
   "metadata": {},
   "outputs": [
    {
     "data": {
      "image/png": "[encoded data removed]",
      "text/plain": [
       "<Figure size 432x288 with 1 Axes>"
      ]
     },
     "metadata": {
      "needs_background": "light"
     },
     "output_type": "display_data"
    }
   ],
   "source": [
    "fig, ax = plt.subplots() \n",
    " \n",
    "ax.plot(df['iter'].loc[(df['alpha']==1e-2) & (df['name']=='GD')], df['MSE'].loc[(df['alpha']==1e-2) & (df['name']=='GD')], \n",
    "        color = 'royalblue', label = 'GD') \n",
    "ax.plot(df['iter'].loc[(df['alpha']==1e-2) & (df['name']=='SGD')], df['MSE'].loc[(df['alpha']==1e-2) & (df['name']=='SGD')],\n",
    "        color = 'lightcoral', label = 'SGD') \n",
    "ax.set_xlabel('Количество итераций')\n",
    "ax.set_ylabel('MSE')\n",
    "plt.legend(['GD', 'SGD'], loc=1)\n",
    "plt.show()"
   ]
  },
  {
   "cell_type": "markdown",
   "metadata": {},
   "source": [
    "<b>Вывод:</b> На моем примере получилось, что скорость сходимости GD - выше. Так как ему для достижения минимальной MSE понадобилось 1300 итераций при скорости 1е-2, а SGD - при той же скорости 1900. <font color = 'red'><b>Так и должно было быть? Я ожидала, что быстрее сойдется SGD..."
   ]
  },
  {
   "cell_type": "markdown",
   "metadata": {},
   "source": [
    "<font color = \"red\"><b> Почему при приблизительно равных найденных весах эти два алгоритма сообщают о принципиально разной MSE? Она отличается почти в 100 раз.... Как так? При этом у GD точность повыше, а значение MSE больше. Почему?"
   ]
  },
  {
   "cell_type": "markdown",
   "metadata": {},
   "source": [
    "### Задача 2"
   ]
  },
  {
   "cell_type": "markdown",
   "metadata": {},
   "source": [
    "Модифицировать решение первого задания путем добавления L2 регуляризации и сравнить результаты."
   ]
  },
  {
   "cell_type": "markdown",
   "metadata": {},
   "source": [
    "### Градиентный спуск с использованием L2 регуляризации (Ridge)"
   ]
  },
  {
   "cell_type": "code",
   "execution_count": 1398,
   "metadata": {},
   "outputs": [],
   "source": [
    "def eval_model_reg2(X, y, iterations, alpha=1e-4, lambda_=1e-8):\n",
    "    np.random.seed(42)\n",
    "    w = np.random.randn(X.shape[1])\n",
    "    n = X.shape[0]\n",
    "    for i in range(1, iterations + 1):\n",
    "        y_pred = np.dot(X, w)\n",
    "        err = calc_mse(y, y_pred)\n",
    "        w -= alpha * (1/n * 2 * np.dot((y_pred - y), X) + 2 * lambda_ * w)\n",
    "        if i % 100 == 0:\n",
    "            print(i, w, err)\n",
    "            w1, w2, w3, w4 = w\n",
    "            name = 'GDL2'\n",
    "            df.loc[len(df)] = [name, iterations, alpha, lambda_, i, w1, w2, w3, w4, err]\n",
    "    return w, df"
   ]
  },
  {
   "cell_type": "code",
   "execution_count": 1399,
   "metadata": {},
   "outputs": [
    {
     "name": "stdout",
     "output_type": "stream",
     "text": [
      "100 [83.84068873  6.55300698 40.27389051  0.62893984] 268.236385388746\n",
      "200 [ 9.52050157e+01  8.03612466e+00  4.72209219e+01 -1.68354940e-03] 29.2516419637525\n",
      "300 [96.78015433  8.30822932 48.40142492 -0.14552693] 24.00763608836447\n",
      "400 [97.00182323  8.3540038  48.59804408 -0.17161952] 23.88839239089818\n",
      "500 [97.0334538   8.36133791 48.63035289 -0.17588455] 23.8856126848396\n",
      "600 [97.03802347  8.36247786 48.63561228 -0.17653997] 23.885546752235523\n",
      "700 [97.03869088  8.36265152 48.63646271 -0.17663644] 23.885545167777718\n",
      "800 [97.03878928  8.36267761 48.63659955 -0.17665017] 23.88554512913027\n",
      "900 [97.03880391  8.3626815  48.63662149 -0.17665206] 23.885545128145203\n",
      "1000 [97.0388061   8.36268207 48.636625   -0.17665231] 23.885545128114433\n",
      "1100 [97.03880643  8.36268216 48.63662556 -0.17665234] 23.885545128112643\n",
      "1200 [97.03880648  8.36268217 48.63662564 -0.17665235] 23.88554512811244\n",
      "1300 [97.03880649  8.36268217 48.63662566 -0.17665235] 23.885545128112405\n"
     ]
    },
    {
     "data": {
      "text/plain": [
       "(array([97.03880649,  8.36268217, 48.63662566, -0.17665235]),\n",
       "      name iterations      alpha    lambda_  \\\n",
       " 0    Base          0          0          0   \n",
       " 1      GD       1300 0.01000000          0   \n",
       " 2      GD       1300 0.01000000          0   \n",
       " 3      GD       1300 0.01000000          0   \n",
       " 4      GD       1300 0.01000000          0   \n",
       " ..    ...        ...        ...        ...   \n",
       " 154  GDL2       1300 0.01000000 0.00000001   \n",
       " 155  GDL2       1300 0.01000000 0.00000001   \n",
       " 156  GDL2       1300 0.01000000 0.00000001   \n",
       " 157  GDL2       1300 0.01000000 0.00000001   \n",
       " 158  GDL2       1300 0.01000000 0.00000001   \n",
       " \n",
       "                                               iter          w1         w2  \\\n",
       " 0    AxesSubplot(0.547727,0.125;0.352273x0.343182) 97.24613900 8.54030302   \n",
       " 1                                              100 83.84068931 6.55300704   \n",
       " 2                                              200 95.20501662 8.03612475   \n",
       " 3                                              300 96.78015530 8.30822942   \n",
       " 4                                              400 97.00182421 8.35400391   \n",
       " ..                                             ...         ...        ...   \n",
       " 154                                            900 97.03880391 8.36268150   \n",
       " 155                                           1000 97.03880610 8.36268207   \n",
       " 156                                           1100 97.03880643 8.36268216   \n",
       " 157                                           1200 97.03880648 8.36268217   \n",
       " 158                                           1300 97.03880649 8.36268217   \n",
       " \n",
       "              w3          w4          MSE  \n",
       " 0   48.50179875  0.00000000            0  \n",
       " 1   40.27389080  0.62893984 268.23636572  \n",
       " 2   47.22092240 -0.00168356  29.25163743  \n",
       " 3   48.40142546 -0.14552695  24.00763535  \n",
       " 4   48.59804464 -0.17161955  23.88839228  \n",
       " ..          ...         ...          ...  \n",
       " 154 48.63662149 -0.17665206  23.88554513  \n",
       " 155 48.63662500 -0.17665231  23.88554513  \n",
       " 156 48.63662556 -0.17665234  23.88554513  \n",
       " 157 48.63662564 -0.17665235  23.88554513  \n",
       " 158 48.63662566 -0.17665235  23.88554513  \n",
       " \n",
       " [159 rows x 10 columns])"
      ]
     },
     "execution_count": 1399,
     "metadata": {},
     "output_type": "execute_result"
    }
   ],
   "source": [
    "eval_model_reg2(X, y, 1300, alpha=1e-2, lambda_= 1e-8)"
   ]
  },
  {
   "cell_type": "code",
   "execution_count": 1400,
   "metadata": {},
   "outputs": [
    {
     "name": "stdout",
     "output_type": "stream",
     "text": [
      "100 [83.84068352  6.55300653 40.27388785  0.62893982] 268.2365623943053\n",
      "200 [ 9.52050077e+01  8.03612383e+00  4.72209175e+01 -1.68341869e-03] 29.25168280042951\n",
      "300 [96.78014564  8.30822837 48.40142002 -0.14552674] 24.00764271874584\n",
      "400 [97.00181439  8.35400283 48.59803906 -0.17161932] 23.88839340234331\n",
      "500 [97.03344494  8.36133693 48.63034784 -0.17588434] 23.885612838150845\n",
      "600 [97.0380146   8.36247688 48.63560723 -0.17653976] 23.885546775648315\n",
      "700 [97.03868202  8.36265054 48.63645765 -0.17663623] 23.885545171458993\n",
      "800 [97.03878042  8.36267663 48.6365945  -0.17664996] 23.885545129799052\n",
      "900 [97.03879505  8.36268052 48.63661644 -0.17665185] 23.885545128351907\n",
      "1000 [97.03879724  8.36268109 48.63661994 -0.1766521 ] 23.885545128249962\n",
      "1100 [97.03879757  8.36268118 48.6366205  -0.17665213] 23.885545128237194\n",
      "1200 [97.03879762  8.36268119 48.63662059 -0.17665214] 23.885545128235286\n",
      "1300 [97.03879763  8.36268119 48.63662061 -0.17665214] 23.885545128234988\n",
      "1400 [97.03879763  8.36268119 48.63662061 -0.17665214] 23.88554512823494\n",
      "1500 [97.03879763  8.36268119 48.63662061 -0.17665214] 23.885545128234934\n",
      "1600 [97.03879763  8.36268119 48.63662061 -0.17665214] 23.88554512823493\n"
     ]
    },
    {
     "data": {
      "text/plain": [
       "(array([97.03879763,  8.36268119, 48.63662061, -0.17665214]),\n",
       "      name iterations      alpha    lambda_  \\\n",
       " 0    Base          0          0          0   \n",
       " 1      GD       1300 0.01000000          0   \n",
       " 2      GD       1300 0.01000000          0   \n",
       " 3      GD       1300 0.01000000          0   \n",
       " 4      GD       1300 0.01000000          0   \n",
       " ..    ...        ...        ...        ...   \n",
       " 170  GDL2       1600 0.01000000 0.00000010   \n",
       " 171  GDL2       1600 0.01000000 0.00000010   \n",
       " 172  GDL2       1600 0.01000000 0.00000010   \n",
       " 173  GDL2       1600 0.01000000 0.00000010   \n",
       " 174  GDL2       1600 0.01000000 0.00000010   \n",
       " \n",
       "                                               iter          w1         w2  \\\n",
       " 0    AxesSubplot(0.547727,0.125;0.352273x0.343182) 97.24613900 8.54030302   \n",
       " 1                                              100 83.84068931 6.55300704   \n",
       " 2                                              200 95.20501662 8.03612475   \n",
       " 3                                              300 96.78015530 8.30822942   \n",
       " 4                                              400 97.00182421 8.35400391   \n",
       " ..                                             ...         ...        ...   \n",
       " 170                                           1200 97.03879762 8.36268119   \n",
       " 171                                           1300 97.03879763 8.36268119   \n",
       " 172                                           1400 97.03879763 8.36268119   \n",
       " 173                                           1500 97.03879763 8.36268119   \n",
       " 174                                           1600 97.03879763 8.36268119   \n",
       " \n",
       "              w3          w4          MSE  \n",
       " 0   48.50179875  0.00000000            0  \n",
       " 1   40.27389080  0.62893984 268.23636572  \n",
       " 2   47.22092240 -0.00168356  29.25163743  \n",
       " 3   48.40142546 -0.14552695  24.00763535  \n",
       " 4   48.59804464 -0.17161955  23.88839228  \n",
       " ..          ...         ...          ...  \n",
       " 170 48.63662059 -0.17665214  23.88554513  \n",
       " 171 48.63662061 -0.17665214  23.88554513  \n",
       " 172 48.63662061 -0.17665214  23.88554513  \n",
       " 173 48.63662061 -0.17665214  23.88554513  \n",
       " 174 48.63662061 -0.17665214  23.88554513  \n",
       " \n",
       " [175 rows x 10 columns])"
      ]
     },
     "execution_count": 1400,
     "metadata": {},
     "output_type": "execute_result"
    }
   ],
   "source": [
    "eval_model_reg2(X, y, 1600, alpha=1e-2, lambda_= 1e-7)"
   ]
  },
  {
   "cell_type": "code",
   "execution_count": 1401,
   "metadata": {},
   "outputs": [
    {
     "name": "stdout",
     "output_type": "stream",
     "text": [
      "100 [83.84063134  6.55300194 40.27386131  0.62893969] 268.23833245252416\n",
      "200 [ 9.52049275e+01  8.03611556e+00  4.72208736e+01 -1.68211161e-03] 29.252091175684704\n",
      "300 [96.78005869  8.30821893 48.40137103 -0.14552483] 24.007709033045725\n",
      "400 [97.00172608  8.3539931  48.59798886 -0.17161725] 23.888403527719365\n",
      "500 [97.03335638  8.36132714 48.63029738 -0.17588224] 23.88561438227225\n",
      "600 [97.037926    8.36246708 48.63555671 -0.17653765] 23.885547020800526\n",
      "700 [97.0385934   8.36264074 48.63640713 -0.17663412] 23.885545219298816\n",
      "800 [97.03869181  8.36266683 48.63654397 -0.17664785] 23.88554514751437\n",
      "900 [97.03870644  8.36267071 48.63656591 -0.17664974] 23.88554514144652\n",
      "1000 [97.03870863  8.36267129 48.63656942 -0.17664999] 23.885545140633024\n",
      "1100 [97.03870896  8.36267137 48.63656998 -0.17665003] 23.885545140510306\n",
      "1200 [97.03870901  8.36267139 48.63657007 -0.17665003] 23.885545140491356\n",
      "1300 [97.03870901  8.36267139 48.63657008 -0.17665003] 23.885545140488425\n",
      "1400 [97.03870901  8.36267139 48.63657008 -0.17665003] 23.885545140487963\n",
      "1500 [97.03870901  8.36267139 48.63657008 -0.17665003] 23.885545140487892\n",
      "1600 [97.03870901  8.36267139 48.63657008 -0.17665003] 23.885545140487878\n"
     ]
    },
    {
     "data": {
      "text/plain": [
       "(array([97.03870901,  8.36267139, 48.63657008, -0.17665003]),\n",
       "      name iterations      alpha    lambda_  \\\n",
       " 0    Base          0          0          0   \n",
       " 1      GD       1300 0.01000000          0   \n",
       " 2      GD       1300 0.01000000          0   \n",
       " 3      GD       1300 0.01000000          0   \n",
       " 4      GD       1300 0.01000000          0   \n",
       " ..    ...        ...        ...        ...   \n",
       " 186  GDL2       1600 0.01000000 0.00000100   \n",
       " 187  GDL2       1600 0.01000000 0.00000100   \n",
       " 188  GDL2       1600 0.01000000 0.00000100   \n",
       " 189  GDL2       1600 0.01000000 0.00000100   \n",
       " 190  GDL2       1600 0.01000000 0.00000100   \n",
       " \n",
       "                                               iter          w1         w2  \\\n",
       " 0    AxesSubplot(0.547727,0.125;0.352273x0.343182) 97.24613900 8.54030302   \n",
       " 1                                              100 83.84068931 6.55300704   \n",
       " 2                                              200 95.20501662 8.03612475   \n",
       " 3                                              300 96.78015530 8.30822942   \n",
       " 4                                              400 97.00182421 8.35400391   \n",
       " ..                                             ...         ...        ...   \n",
       " 186                                           1200 97.03870901 8.36267139   \n",
       " 187                                           1300 97.03870901 8.36267139   \n",
       " 188                                           1400 97.03870901 8.36267139   \n",
       " 189                                           1500 97.03870901 8.36267139   \n",
       " 190                                           1600 97.03870901 8.36267139   \n",
       " \n",
       "              w3          w4          MSE  \n",
       " 0   48.50179875  0.00000000            0  \n",
       " 1   40.27389080  0.62893984 268.23636572  \n",
       " 2   47.22092240 -0.00168356  29.25163743  \n",
       " 3   48.40142546 -0.14552695  24.00763535  \n",
       " 4   48.59804464 -0.17161955  23.88839228  \n",
       " ..          ...         ...          ...  \n",
       " 186 48.63657007 -0.17665003  23.88554514  \n",
       " 187 48.63657008 -0.17665003  23.88554514  \n",
       " 188 48.63657008 -0.17665003  23.88554514  \n",
       " 189 48.63657008 -0.17665003  23.88554514  \n",
       " 190 48.63657008 -0.17665003  23.88554514  \n",
       " \n",
       " [191 rows x 10 columns])"
      ]
     },
     "execution_count": 1401,
     "metadata": {},
     "output_type": "execute_result"
    }
   ],
   "source": [
    "eval_model_reg2(X, y, 1600, alpha=1e-2, lambda_= 1e-6)"
   ]
  },
  {
   "cell_type": "code",
   "execution_count": 1402,
   "metadata": {},
   "outputs": [
    {
     "name": "stdout",
     "output_type": "stream",
     "text": [
      "100 [83.84010953  6.55295605 40.27359592  0.62893831] 268.25603329695747\n",
      "200 [ 9.52041258e+01  8.03603279e+00  4.72204348e+01 -1.66904096e-03] 29.256175776524373\n",
      "300 [96.77918919  8.30812443 48.40088111 -0.14550574] 24.00837322462693\n",
      "400 [97.00084298  8.3538958  48.59748683 -0.17159658] 23.888505873930043\n",
      "500 [97.03247076  8.36122926 48.62979277 -0.17586123] 23.885630924359447\n",
      "600 [97.03703992  8.36236908 48.63505159 -0.17651658] 23.88555057473303\n",
      "700 [97.03770725  8.36254272 48.63590191 -0.17661304] 23.885546800380894\n",
      "800 [97.03780564  8.36256881 48.63603873 -0.17662676] 23.885546427399262\n",
      "900 [97.03782027  8.36257269 48.63606067 -0.17662866] 23.88554637513266\n",
      "1000 [97.03782246  8.36257327 48.63606417 -0.17662891] 23.88554636720492\n",
      "1100 [97.03782279  8.36257335 48.63606473 -0.17662894] 23.88554636598301\n",
      "1200 [97.03782284  8.36257336 48.63606482 -0.17662895] 23.885546365793758\n",
      "1300 [97.03782285  8.36257337 48.63606484 -0.17662895] 23.88554636576437\n",
      "1400 [97.03782285  8.36257337 48.63606484 -0.17662895] 23.8855463657598\n",
      "1500 [97.03782285  8.36257337 48.63606484 -0.17662895] 23.885546365759087\n",
      "1600 [97.03782285  8.36257337 48.63606484 -0.17662895] 23.885546365758977\n",
      "1700 [97.03782285  8.36257337 48.63606484 -0.17662895] 23.885546365758966\n",
      "1800 [97.03782285  8.36257337 48.63606484 -0.17662895] 23.88554636575896\n",
      "1900 [97.03782285  8.36257337 48.63606484 -0.17662895] 23.88554636575896\n",
      "2000 [97.03782285  8.36257337 48.63606484 -0.17662895] 23.88554636575895\n"
     ]
    },
    {
     "data": {
      "text/plain": [
       "(array([97.03782285,  8.36257337, 48.63606484, -0.17662895]),\n",
       "      name iterations      alpha    lambda_  \\\n",
       " 0    Base          0          0          0   \n",
       " 1      GD       1300 0.01000000          0   \n",
       " 2      GD       1300 0.01000000          0   \n",
       " 3      GD       1300 0.01000000          0   \n",
       " 4      GD       1300 0.01000000          0   \n",
       " ..    ...        ...        ...        ...   \n",
       " 206  GDL2       2000 0.01000000 0.00001000   \n",
       " 207  GDL2       2000 0.01000000 0.00001000   \n",
       " 208  GDL2       2000 0.01000000 0.00001000   \n",
       " 209  GDL2       2000 0.01000000 0.00001000   \n",
       " 210  GDL2       2000 0.01000000 0.00001000   \n",
       " \n",
       "                                               iter          w1         w2  \\\n",
       " 0    AxesSubplot(0.547727,0.125;0.352273x0.343182) 97.24613900 8.54030302   \n",
       " 1                                              100 83.84068931 6.55300704   \n",
       " 2                                              200 95.20501662 8.03612475   \n",
       " 3                                              300 96.78015530 8.30822942   \n",
       " 4                                              400 97.00182421 8.35400391   \n",
       " ..                                             ...         ...        ...   \n",
       " 206                                           1600 97.03782285 8.36257337   \n",
       " 207                                           1700 97.03782285 8.36257337   \n",
       " 208                                           1800 97.03782285 8.36257337   \n",
       " 209                                           1900 97.03782285 8.36257337   \n",
       " 210                                           2000 97.03782285 8.36257337   \n",
       " \n",
       "              w3          w4          MSE  \n",
       " 0   48.50179875  0.00000000            0  \n",
       " 1   40.27389080  0.62893984 268.23636572  \n",
       " 2   47.22092240 -0.00168356  29.25163743  \n",
       " 3   48.40142546 -0.14552695  24.00763535  \n",
       " 4   48.59804464 -0.17161955  23.88839228  \n",
       " ..          ...         ...          ...  \n",
       " 206 48.63606484 -0.17662895  23.88554637  \n",
       " 207 48.63606484 -0.17662895  23.88554637  \n",
       " 208 48.63606484 -0.17662895  23.88554637  \n",
       " 209 48.63606484 -0.17662895  23.88554637  \n",
       " 210 48.63606484 -0.17662895  23.88554637  \n",
       " \n",
       " [211 rows x 10 columns])"
      ]
     },
     "execution_count": 1402,
     "metadata": {},
     "output_type": "execute_result"
    }
   ],
   "source": [
    "eval_model_reg2(X, y, 2000, alpha=1e-2, lambda_= 1e-5)"
   ]
  },
  {
   "cell_type": "code",
   "execution_count": 1403,
   "metadata": {},
   "outputs": [
    {
     "name": "stdout",
     "output_type": "stream",
     "text": [
      "100 [83.83489176  6.55249716 40.27094211  0.62892455] 268.433067962402\n",
      "200 [ 9.51961088e+01  8.03520519e+00  4.72160467e+01 -1.53835247e-03] 29.297106599057145\n",
      "300 [96.77049503  8.30717963 48.39598243 -0.14531485] 24.01511997789389\n",
      "400 [96.99201284  8.35292292 48.59246713 -0.17138992] 23.889638558503677\n",
      "500 [97.0236154   8.36025053 48.62474727 -0.17565121] 23.885906409578215\n",
      "600 [97.02818009  8.36138924 48.63000093 -0.17630592] 23.885696332040773\n",
      "700 [97.02884664  8.36156267 48.63085026 -0.17640228] 23.885672856503117\n",
      "800 [97.0289449   8.36158873 48.63098689 -0.17641598] 23.88566947632814\n",
      "900 [97.02895951  8.36159261 48.63100879 -0.17641787] 23.885668962900166\n",
      "1000 [97.02896169  8.36159318 48.6310123  -0.17641812] 23.88566888397156\n",
      "1100 [97.02896202  8.36159327 48.63101285 -0.17641815] 23.88566887178188\n",
      "1200 [97.02896207  8.36159328 48.63101294 -0.17641816] 23.88566886989365\n",
      "1300 [97.02896208  8.36159328 48.63101296 -0.17641816] 23.88566886960045\n",
      "1400 [97.02896208  8.36159328 48.63101296 -0.17641816] 23.885668869554834\n",
      "1500 [97.02896208  8.36159328 48.63101296 -0.17641816] 23.88566886954772\n",
      "1600 [97.02896208  8.36159328 48.63101296 -0.17641816] 23.885668869546613\n",
      "1700 [97.02896208  8.36159328 48.63101296 -0.17641816] 23.885668869546436\n",
      "1800 [97.02896208  8.36159328 48.63101296 -0.17641816] 23.88566886954641\n"
     ]
    },
    {
     "data": {
      "text/plain": [
       "(array([97.02896208,  8.36159328, 48.63101296, -0.17641816]),\n",
       "      name iterations      alpha    lambda_  \\\n",
       " 0    Base          0          0          0   \n",
       " 1      GD       1300 0.01000000          0   \n",
       " 2      GD       1300 0.01000000          0   \n",
       " 3      GD       1300 0.01000000          0   \n",
       " 4      GD       1300 0.01000000          0   \n",
       " ..    ...        ...        ...        ...   \n",
       " 224  GDL2       1800 0.01000000 0.00010000   \n",
       " 225  GDL2       1800 0.01000000 0.00010000   \n",
       " 226  GDL2       1800 0.01000000 0.00010000   \n",
       " 227  GDL2       1800 0.01000000 0.00010000   \n",
       " 228  GDL2       1800 0.01000000 0.00010000   \n",
       " \n",
       "                                               iter          w1         w2  \\\n",
       " 0    AxesSubplot(0.547727,0.125;0.352273x0.343182) 97.24613900 8.54030302   \n",
       " 1                                              100 83.84068931 6.55300704   \n",
       " 2                                              200 95.20501662 8.03612475   \n",
       " 3                                              300 96.78015530 8.30822942   \n",
       " 4                                              400 97.00182421 8.35400391   \n",
       " ..                                             ...         ...        ...   \n",
       " 224                                           1400 97.02896208 8.36159328   \n",
       " 225                                           1500 97.02896208 8.36159328   \n",
       " 226                                           1600 97.02896208 8.36159328   \n",
       " 227                                           1700 97.02896208 8.36159328   \n",
       " 228                                           1800 97.02896208 8.36159328   \n",
       " \n",
       "              w3          w4          MSE  \n",
       " 0   48.50179875  0.00000000            0  \n",
       " 1   40.27389080  0.62893984 268.23636572  \n",
       " 2   47.22092240 -0.00168356  29.25163743  \n",
       " 3   48.40142546 -0.14552695  24.00763535  \n",
       " 4   48.59804464 -0.17161955  23.88839228  \n",
       " ..          ...         ...          ...  \n",
       " 224 48.63101296 -0.17641816  23.88566887  \n",
       " 225 48.63101296 -0.17641816  23.88566887  \n",
       " 226 48.63101296 -0.17641816  23.88566887  \n",
       " 227 48.63101296 -0.17641816  23.88566887  \n",
       " 228 48.63101296 -0.17641816  23.88566887  \n",
       " \n",
       " [229 rows x 10 columns])"
      ]
     },
     "execution_count": 1403,
     "metadata": {},
     "output_type": "execute_result"
    }
   ],
   "source": [
    "eval_model_reg2(X, y, 1800, alpha=1e-2, lambda_= 1e-4)"
   ]
  },
  {
   "cell_type": "code",
   "execution_count": 1404,
   "metadata": {},
   "outputs": [
    {
     "name": "stdout",
     "output_type": "stream",
     "text": [
      "100 [83.7827421   6.54791092 40.24441881  0.62878703] 270.2060332648961\n",
      "200 [ 9.51160063e+01  8.02693705e+00  4.71722054e+01 -2.33257857e-04] 29.714881389476176\n",
      "300 [96.68363669  8.29774223 48.34704725 -0.14340914] 24.093050487544627\n",
      "400 [96.90379926  8.34320563 48.5423258  -0.16932709] 23.91186513668095\n",
      "500 [96.93515087  8.35047509 48.57434906 -0.17355488] 23.899644761907574\n",
      "600 [96.93967101  8.35160268 48.57955137 -0.17420325] 23.89815267671339\n",
      "700 [96.94032984  8.35177412 48.58039086 -0.17429849] 23.897934902065675\n",
      "800 [96.94042678  8.35179982 48.58052566 -0.17431201] 23.897901923984325\n",
      "900 [96.94044117  8.35180364 48.58054723 -0.17431387] 23.897896880810904\n",
      "1000 [96.94044332  8.3518042  48.58055067 -0.17431412] 23.897896105887895\n",
      "1100 [96.94044364  8.35180429 48.58055122 -0.17431415] 23.89789598640265\n",
      "1200 [96.94044369  8.3518043  48.58055131 -0.17431415] 23.897895967927187\n",
      "1300 [96.9404437   8.3518043  48.58055132 -0.17431415] 23.897895965063622\n",
      "1400 [96.9404437   8.3518043  48.58055132 -0.17431416] 23.897895964618883\n",
      "1500 [96.9404437   8.3518043  48.58055132 -0.17431416] 23.897895964549694\n",
      "1600 [96.9404437   8.3518043  48.58055132 -0.17431416] 23.897895964538908\n",
      "1700 [96.9404437   8.3518043  48.58055132 -0.17431416] 23.897895964537234\n",
      "1800 [96.9404437   8.3518043  48.58055132 -0.17431416] 23.897895964537007\n",
      "1900 [96.9404437   8.3518043  48.58055132 -0.17431416] 23.897895964537\n"
     ]
    },
    {
     "data": {
      "text/plain": [
       "(array([96.9404437 ,  8.3518043 , 48.58055132, -0.17431416]),\n",
       "      name iterations      alpha    lambda_  \\\n",
       " 0    Base          0          0          0   \n",
       " 1      GD       1300 0.01000000          0   \n",
       " 2      GD       1300 0.01000000          0   \n",
       " 3      GD       1300 0.01000000          0   \n",
       " 4      GD       1300 0.01000000          0   \n",
       " ..    ...        ...        ...        ...   \n",
       " 243  GDL2       1900 0.01000000 0.00100000   \n",
       " 244  GDL2       1900 0.01000000 0.00100000   \n",
       " 245  GDL2       1900 0.01000000 0.00100000   \n",
       " 246  GDL2       1900 0.01000000 0.00100000   \n",
       " 247  GDL2       1900 0.01000000 0.00100000   \n",
       " \n",
       "                                               iter          w1         w2  \\\n",
       " 0    AxesSubplot(0.547727,0.125;0.352273x0.343182) 97.24613900 8.54030302   \n",
       " 1                                              100 83.84068931 6.55300704   \n",
       " 2                                              200 95.20501662 8.03612475   \n",
       " 3                                              300 96.78015530 8.30822942   \n",
       " 4                                              400 97.00182421 8.35400391   \n",
       " ..                                             ...         ...        ...   \n",
       " 243                                           1500 96.94044370 8.35180430   \n",
       " 244                                           1600 96.94044370 8.35180430   \n",
       " 245                                           1700 96.94044370 8.35180430   \n",
       " 246                                           1800 96.94044370 8.35180430   \n",
       " 247                                           1900 96.94044370 8.35180430   \n",
       " \n",
       "              w3          w4          MSE  \n",
       " 0   48.50179875  0.00000000            0  \n",
       " 1   40.27389080  0.62893984 268.23636572  \n",
       " 2   47.22092240 -0.00168356  29.25163743  \n",
       " 3   48.40142546 -0.14552695  24.00763535  \n",
       " 4   48.59804464 -0.17161955  23.88839228  \n",
       " ..          ...         ...          ...  \n",
       " 243 48.58055132 -0.17431416  23.89789596  \n",
       " 244 48.58055132 -0.17431416  23.89789596  \n",
       " 245 48.58055132 -0.17431416  23.89789596  \n",
       " 246 48.58055132 -0.17431416  23.89789596  \n",
       " 247 48.58055132 -0.17431416  23.89789596  \n",
       " \n",
       " [248 rows x 10 columns])"
      ]
     },
     "execution_count": 1404,
     "metadata": {},
     "output_type": "execute_result"
    }
   ],
   "source": [
    "eval_model_reg2(X, y, 1900, alpha=1e-2, lambda_= 1e-3)"
   ]
  },
  {
   "cell_type": "markdown",
   "metadata": {},
   "source": [
    "<table>\n",
    "<tr><th>Модель</th><th>Число итераций</th><th>Alpha</th><th>Lambda</th><th>MSE</th><th>Вес 1</th><th>Вес 2</th><th>Вес 3</th><th>Вес 4</th></tr>\n",
    "    \n",
    "<tr><td>Исходные данные</td><td>-</td><td>-</td><td>-</td><td>-</td><td>97.246139</td><td>8.54030302</td><td>48.50179875</td><td>0.</td></tr>\n",
    "    \n",
    "<tr><td>GD (1e-2)</td><td>1300</td><td>1e-2</td><td>-</td><td>23.885545128111165</td><td>97.03880748</td><td>8.36268228</td><td>48.63662622</td><td>-0.17665237</td></tr>\n",
    "\n",
    "<tr><td>GDL2 (1e-2)</td><td>1300</td><td>1e-2</td><td>1e-8</td><td>23.885545128112405</td><td>97.03880649</td><td>8.36268217</td><td>48.63662566</td><td>-0.17665235</td></tr>\n",
    "\n",
    "<tr><td>GDL2 (1e-2)</td><td>1600</td><td>1e-2</td><td>1e-7</td><td>23.88554512823493</td><td>97.03879763</td><td>8.36268119</td><td>48.63662061</td><td>-0.17665214</td></tr>\n",
    "\n",
    "<tr><td>GDL2 (1e-2)</td><td>1600</td><td>1e-2</td><td>1e-6</td><td>23.885545140487878</td><td>97.03870901</td><td>8.36267139</td><td>48.58055132</td><td>-0.17665003</td></tr>\n",
    "    \n",
    "<tr><td>GDL2 (1e-2)</td><td>2000</td><td>1e-2</td><td>1e-5</td><td>23.88554636575895</td><td>97.03782285</td><td>8.36257337</td><td>48.63657008</td><td>-0.17431416</td></tr>\n",
    "    \n",
    "<tr><td>GDL2 (1e-2)</td><td>1800</td><td>1e-2</td><td>1e-4</td><td>23.88566886954641</td><td>97.02896208</td><td>8.36159328</td><td>48.63101296</td><td>-0.17641816</td></tr>\n",
    "    \n",
    "<tr><td>GDL2 (1e-2)</td><td>1900</td><td>1e-2</td><td>1e-3</td><td>23.897895964537</td><td>96.9404437</td><td>8.3518043</td><td>48.58055132</td><td>-0.17431416</td></tr>\n",
    "\n",
    "</table>"
   ]
  },
  {
   "cell_type": "markdown",
   "metadata": {},
   "source": [
    "<font color = 'red'><b> И все-таки я не поняла - нужно ли подбирать значение лямбда и если да, то по каким критериям? "
   ]
  },
  {
   "cell_type": "code",
   "execution_count": 1405,
   "metadata": {},
   "outputs": [],
   "source": [
    "#Называет оси на нескольких диаграммах одновременно\n",
    "def axis_name(cols, axis, name):\n",
    "    if cols == 0:\n",
    "        for i in ax:\n",
    "            if axis == 'x':\n",
    "                i.set_xlabel(name)\n",
    "            else:\n",
    "                i.set_ylabel(name)\n",
    "    else:\n",
    "        for row in ax:\n",
    "                for i in row:\n",
    "                    if axis == 'x':\n",
    "                        i.set_xlabel(name)\n",
    "                    else:\n",
    "                        i.set_ylabel(name)"
   ]
  },
  {
   "cell_type": "code",
   "execution_count": 1406,
   "metadata": {},
   "outputs": [
    {
     "data": {
      "text/plain": [
       "Text(1, 23.892, 'что тут происходит.')"
      ]
     },
     "execution_count": 1406,
     "metadata": {},
     "output_type": "execute_result"
    },
    {
     "data": {
      "image/png": "[encoded data removed]",
      "text/plain": [
       "<Figure size 1152x432 with 2 Axes>"
      ]
     },
     "metadata": {
      "needs_background": "light"
     },
     "output_type": "display_data"
    }
   ],
   "source": [
    "fig, ax = plt.subplots(ncols = 2, figsize=(16,6))\n",
    "axis_name(0, 'x', 'Коэффициент регуляризации')\n",
    "\n",
    "#Коэффициент регуляризации - количество итераций\n",
    "draw_bar(0, 0, 0, [[1, 1e-8], [2, 1e-7], [3, 1e-6], [4, 1e-5], [5, 1e-4], [6, 1e-3]], 'iter', 'lambda_', 'GDL2', \n",
    "         'royalblue', 0.5, 'max')\n",
    "set_title(0, 0, 0, [[1, 1550, '1e-8'], [2, 1650, '1e-7'], [3, 2050, '1e-6'], [4, 2050, '1e-5'], [5, 1850, '1e-4'], \n",
    "                 [6, 1950, '1e-3']], 'center')\n",
    "ax[0].set_xlim([0, 7])\n",
    "ax[0].set_ylim(1000, 2200)\n",
    "ax[0].set_ylabel('Количество итераций')\n",
    "\n",
    "#Коэффициент регуляризации - MSE\n",
    "draw_bar(0, 1, 0, [[1, 1e-8], [2, 1e-7], [3, 1e-6], [4, 1e-5], [5, 1e-4], [6, 1e-3]], 'MSE', 'lambda_', 'GDL2', \n",
    "         'royalblue', 0.5, 'min')\n",
    "set_title(0, 1, 0, [[1, 23.886, '1e-8'], [2, 23.886, '1e-7'], [3, 23.886, '1e-6'], [4, 23.886, '1e-5'], [5, 23.886, '1e-4'], \n",
    "                 [6, 23.8984, '1e-3']], 'center')\n",
    "ax[1].set_ylabel('MSE')\n",
    "ax[1].set_xlim([0, 7])\n",
    "ax[1].set_ylim(23.885, 23.899)\n",
    "ax[1].text(1, 23.893, 'Я не понимаю,', horizontalalignment = 'left', style = 'italic', color = 'red')\n",
    "ax[1].text(1, 23.892, 'что тут происходит.', horizontalalignment = 'left', style = 'italic', color = 'red')"
   ]
  },
  {
   "cell_type": "markdown",
   "metadata": {},
   "source": [
    "Наверное, можно сделать вывод, что с ростом коэффициента регуляризации растет и количество итераций, необходимых для нахождения минимума. Но это зависимость не пропорциональная."
   ]
  },
  {
   "cell_type": "markdown",
   "metadata": {},
   "source": [
    "<font color = 'red'><b> Есть ли какая-то взаимосвязь между величиной коэффициента регуляризации и MSE?"
   ]
  },
  {
   "cell_type": "code",
   "execution_count": 1407,
   "metadata": {},
   "outputs": [
    {
     "data": {
      "image/png": "[encoded data removed]",
      "text/plain": [
       "<Figure size 1152x720 with 4 Axes>"
      ]
     },
     "metadata": {
      "needs_background": "light"
     },
     "output_type": "display_data"
    }
   ],
   "source": [
    "fig , ax = plt.subplots(nrows = 2, ncols = 2, figsize=(16,10))\n",
    "axis_name(2, 'x', 'Коэффициент регуляризации')\n",
    "axis_name(2, 'y', 'Веса')\n",
    "\n",
    "#w1 - коэффициент регуляризации\n",
    "draw_bar(0, 0, 2, [[1, 1e-8], [2, 1e-7], [3, 1e-6], [4, 1e-5], [5, 1e-4], [6, 1e-3]], 'w1', 'lambda_', 'GDL2', 'royalblue',\n",
    "         0.5, 'max')\n",
    "set_title(0, 0, 2, [[1, 97.05, '1e-8'], [2, 97.05, '1e-7'], [3, 97.05, '1e-6'], [4, 97.05, '1e-5'], [5, 97.045, '1e-4'], \n",
    "           [6, 96.95, '1e-3'], [7, 97.255, 'Base']], 'center')\n",
    "ax[0][0].bar(7, df['w1'].loc[df['name']=='Base'].item(), color = 'lightcoral', width = 0.5)\n",
    "ax[0][0].set_ylim([96.89, 97.275])\n",
    "ax[0][0].set_xlim([0, 8])\n",
    "ax[0][0].text(1, 97.20, 'W1', horizontalalignment = 'left', style = 'italic', color = 'red')\n",
    "\n",
    "#w2 - коэффициент регуляризации\n",
    "draw_bar(0, 1, 2, [[1, 1e-8], [2, 1e-7], [3, 1e-6], [4, 1e-5], [5, 1e-4], [6, 1e-3]], 'w2', 'lambda_', 'GDL2', 'royalblue',\n",
    "         0.5, 'max')\n",
    "set_title(0, 1, 2, [[1, 8.37, '1e-8'], [2, 8.37, '1e-7'], [3, 8.37, '1e-6'], [4, 8.37, '1e-5'], [5, 8.37, '1e-4'], \n",
    "           [6, 8.365, '1e-3'], [7, 8.555, 'Base']], 'center')\n",
    "ax[0][1].bar(7, df['w2'].loc[df['name']=='Base'].item(), color = 'lightcoral', width = 0.5)\n",
    "ax[0][1].set_ylim([8.35, 8.57])\n",
    "ax[0][1].set_xlim([0, 8])\n",
    "ax[0][1].text(1, 8.525, 'W2', horizontalalignment = 'left', style = 'italic', color = 'red')\n",
    "\n",
    "#w3 - коэффициент регуляризации\n",
    "draw_bar(1, 0, 2, [[1, 1e-8], [2, 1e-7], [3, 1e-6], [4, 1e-5], [5, 1e-4], [6, 1e-3]], 'w3', 'lambda_', 'GDL2', 'royalblue',\n",
    "         0.5, 'max')\n",
    "set_title(1, 0, 2, [[1, 48.639, '1e-8'], [2, 48.639, '1e-7'], [3, 48.639, '1e-6'], [4, 48.638, '1e-5'], [5, 48.633, '1e-4'], \n",
    "           [6, 48.584, '1e-3'], [7, 48.505, 'Base']], 'center')\n",
    "ax[1][0].bar(7, df['w3'].loc[df['name']=='Base'].item(), color = 'lightcoral', width = 0.5)\n",
    "ax[1][0].set_ylim([48.50, 48.65])\n",
    "ax[1][0].set_xlim([0, 8])\n",
    "ax[1][0].text(7, 48.625, 'W3', horizontalalignment = 'left', style = 'italic', color = 'red')\n",
    "\n",
    "#w4 - коэффициент регуляризации\n",
    "draw_bar(1, 1, 2, [[1, 1e-8], [2, 1e-7], [3, 1e-6], [4, 1e-5], [5, 1e-4], [6, 1e-3]], 'w4', 'lambda_', 'GDL2', 'royalblue',\n",
    "         0.5, 'min')\n",
    "set_title(1, 1, 2, [[1, -0.1772, '1e-8'], [2, -0.1772, '1e-7'], [3, -0.1772, '1e-6'], [4, -0.1772, '1e-5'], \n",
    "                    [5, -0.1770, '1e-4'], [6, -0.1747, '1e-3'], [7, -0.1725, 'Base = 0']], 'center')\n",
    "ax[1][1].bar(7, df['w4'].loc[df['name']=='Base'].item(), color = 'lightcoral', width = 0.5)\n",
    "ax[1][1].set_ylim([-0.179, -0.172])\n",
    "ax[1][1].set_xlim([0, 8])\n",
    "ax[1][1].text(7, -0.177, 'W4', horizontalalignment = 'left', style = 'italic', color = 'red')\n",
    "\n",
    "fig.suptitle('График изменения весов от значения коэффициента регуляризации для GDL2')\n",
    "plt.show()"
   ]
  },
  {
   "cell_type": "markdown",
   "metadata": {},
   "source": [
    "Значимость весов w1, w2, w3 уменьшается, а веса w4 - увеличивается."
   ]
  },
  {
   "cell_type": "markdown",
   "metadata": {},
   "source": [
    "### Стохастический градиентный спуск с использованием L2 регуляризации (Ridge)"
   ]
  },
  {
   "cell_type": "code",
   "execution_count": 1408,
   "metadata": {},
   "outputs": [],
   "source": [
    "# mini-batch GD & SGD\n",
    "def eval_SGD_L2(X, y, iterations, qty_in_batch=1, alpha=1e-4, lambda_=1e-8):\n",
    "    np.random.seed(42)\n",
    "    w = np.random.randn(X.shape[1]) # начальное приближение весов\n",
    "    n = X.shape[0] # число наблюдений\n",
    "    n_batch = n // qty_in_batch\n",
    "    if n % qty_in_batch != 0:\n",
    "        n_batch += 1\n",
    "    # print(n_batch)\n",
    "    for i in range(1, iterations + 1):\n",
    "        for b in range(n_batch):\n",
    "            start_ = qty_in_batch * b\n",
    "            end_ = qty_in_batch * (b + 1)\n",
    "            X_tmp = X[start_ : end_, :]\n",
    "            y_tmp = y[start_ : end_]\n",
    "            y_pred_tmp = np.dot(X_tmp, w)\n",
    "            err = calc_mse(y_tmp, y_pred_tmp)\n",
    "            w -= alpha * (1/n * 2 * np.dot((y_pred_tmp - y_tmp), X_tmp) + 2 * lambda_ * w)\n",
    "        if i % 100 == 0:\n",
    "            print(i, w, err)\n",
    "            w1, w2, w3, w4 = w\n",
    "            name = 'SGDL2'\n",
    "            df.loc[len(df)] = [name, iterations, alpha, lambda_, i, w1, w2, w3, w4, err]\n",
    "    return w, df"
   ]
  },
  {
   "cell_type": "code",
   "execution_count": 1409,
   "metadata": {},
   "outputs": [
    {
     "name": "stdout",
     "output_type": "stream",
     "text": [
      "100 [83.57935517  6.52860077 40.14578544  0.63172039] 16.999234905466427\n",
      "200 [9.51312799e+01 8.02496055e+00 4.71753905e+01 1.32981339e-03] 0.20406896935790625\n",
      "300 [96.76295173  8.30427219 48.3892336  -0.14527093] 0.03023118139140338\n",
      "400 [96.9968268   8.35214238 48.59477339 -0.17241531] 0.029778075462400595\n"
     ]
    },
    {
     "data": {
      "text/plain": [
       "(array([96.9968268 ,  8.35214238, 48.59477339, -0.17241531]),\n",
       "       name iterations      alpha    lambda_  \\\n",
       " 0     Base          0          0          0   \n",
       " 1       GD       1300 0.01000000          0   \n",
       " 2       GD       1300 0.01000000          0   \n",
       " 3       GD       1300 0.01000000          0   \n",
       " 4       GD       1300 0.01000000          0   \n",
       " ..     ...        ...        ...        ...   \n",
       " 247   GDL2       1900 0.01000000 0.00100000   \n",
       " 248  SGDL2        400 0.01000000 0.00000001   \n",
       " 249  SGDL2        400 0.01000000 0.00000001   \n",
       " 250  SGDL2        400 0.01000000 0.00000001   \n",
       " 251  SGDL2        400 0.01000000 0.00000001   \n",
       " \n",
       "                                               iter          w1         w2  \\\n",
       " 0    AxesSubplot(0.547727,0.125;0.352273x0.343182) 97.24613900 8.54030302   \n",
       " 1                                              100 83.84068931 6.55300704   \n",
       " 2                                              200 95.20501662 8.03612475   \n",
       " 3                                              300 96.78015530 8.30822942   \n",
       " 4                                              400 97.00182421 8.35400391   \n",
       " ..                                             ...         ...        ...   \n",
       " 247                                           1900 96.94044370 8.35180430   \n",
       " 248                                            100 83.57935517 6.52860077   \n",
       " 249                                            200 95.13127994 8.02496055   \n",
       " 250                                            300 96.76295173 8.30427219   \n",
       " 251                                            400 96.99682680 8.35214238   \n",
       " \n",
       "              w3          w4          MSE  \n",
       " 0   48.50179875  0.00000000            0  \n",
       " 1   40.27389080  0.62893984 268.23636572  \n",
       " 2   47.22092240 -0.00168356  29.25163743  \n",
       " 3   48.40142546 -0.14552695  24.00763535  \n",
       " 4   48.59804464 -0.17161955  23.88839228  \n",
       " ..          ...         ...          ...  \n",
       " 247 48.58055132 -0.17431416  23.89789596  \n",
       " 248 40.14578544  0.63172039  16.99923491  \n",
       " 249 47.17539049  0.00132981   0.20406897  \n",
       " 250 48.38923360 -0.14527093   0.03023118  \n",
       " 251 48.59477339 -0.17241531   0.02977808  \n",
       " \n",
       " [252 rows x 10 columns])"
      ]
     },
     "execution_count": 1409,
     "metadata": {},
     "output_type": "execute_result"
    }
   ],
   "source": [
    "eval_SGD_L2(X, y, 400, 1, 1e-2, 1e-8)"
   ]
  },
  {
   "cell_type": "code",
   "execution_count": 1410,
   "metadata": {},
   "outputs": [
    {
     "name": "stdout",
     "output_type": "stream",
     "text": [
      "100 [83.57415699  6.52814208 40.14314198  0.63170771] 17.015593201321433\n",
      "200 [9.51232784e+01 8.02413405e+00 4.71710148e+01 1.46006164e-03] 0.20662759090417426\n",
      "300 [96.75426036  8.30332711 48.38434076 -0.14508019] 0.031259601849738736\n",
      "400 [96.98799444  8.3511684  48.58975605 -0.17220843] 0.030798672418639293\n"
     ]
    },
    {
     "data": {
      "text/plain": [
       "(array([96.98799444,  8.3511684 , 48.58975605, -0.17220843]),\n",
       "       name iterations      alpha    lambda_  \\\n",
       " 0     Base          0          0          0   \n",
       " 1       GD       1300 0.01000000          0   \n",
       " 2       GD       1300 0.01000000          0   \n",
       " 3       GD       1300 0.01000000          0   \n",
       " 4       GD       1300 0.01000000          0   \n",
       " ..     ...        ...        ...        ...   \n",
       " 251  SGDL2        400 0.01000000 0.00000001   \n",
       " 252  SGDL2        400 0.01000000 0.00000010   \n",
       " 253  SGDL2        400 0.01000000 0.00000010   \n",
       " 254  SGDL2        400 0.01000000 0.00000010   \n",
       " 255  SGDL2        400 0.01000000 0.00000010   \n",
       " \n",
       "                                               iter          w1         w2  \\\n",
       " 0    AxesSubplot(0.547727,0.125;0.352273x0.343182) 97.24613900 8.54030302   \n",
       " 1                                              100 83.84068931 6.55300704   \n",
       " 2                                              200 95.20501662 8.03612475   \n",
       " 3                                              300 96.78015530 8.30822942   \n",
       " 4                                              400 97.00182421 8.35400391   \n",
       " ..                                             ...         ...        ...   \n",
       " 251                                            400 96.99682680 8.35214238   \n",
       " 252                                            100 83.57415699 6.52814208   \n",
       " 253                                            200 95.12327837 8.02413405   \n",
       " 254                                            300 96.75426036 8.30332711   \n",
       " 255                                            400 96.98799444 8.35116840   \n",
       " \n",
       "              w3          w4          MSE  \n",
       " 0   48.50179875  0.00000000            0  \n",
       " 1   40.27389080  0.62893984 268.23636572  \n",
       " 2   47.22092240 -0.00168356  29.25163743  \n",
       " 3   48.40142546 -0.14552695  24.00763535  \n",
       " 4   48.59804464 -0.17161955  23.88839228  \n",
       " ..          ...         ...          ...  \n",
       " 251 48.59477339 -0.17241531   0.02977808  \n",
       " 252 40.14314198  0.63170771  17.01559320  \n",
       " 253 47.17101481  0.00146006   0.20662759  \n",
       " 254 48.38434076 -0.14508019   0.03125960  \n",
       " 255 48.58975605 -0.17220843   0.03079867  \n",
       " \n",
       " [256 rows x 10 columns])"
      ]
     },
     "execution_count": 1410,
     "metadata": {},
     "output_type": "execute_result"
    }
   ],
   "source": [
    "eval_SGD_L2(X, y, 400, 1, 1e-2, 1e-7)"
   ]
  },
  {
   "cell_type": "code",
   "execution_count": 1411,
   "metadata": {},
   "outputs": [
    {
     "name": "stdout",
     "output_type": "stream",
     "text": [
      "100 [83.5222033   6.52355786 40.1167222   0.63158094] 17.179525817236904\n",
      "200 [9.50433296e+01 8.01587683e+00 4.71272972e+01 2.76075742e-03] 0.23307029051949554\n",
      "300 [96.66742974  8.29388695 48.33546381 -0.14317603] 0.04248025746931541\n",
      "400 [96.89975869  8.34144018 48.53963821 -0.1701434 ] 0.04194089742608848\n"
     ]
    },
    {
     "data": {
      "text/plain": [
       "(array([96.89975869,  8.34144018, 48.53963821, -0.1701434 ]),\n",
       "       name iterations      alpha    lambda_  \\\n",
       " 0     Base          0          0          0   \n",
       " 1       GD       1300 0.01000000          0   \n",
       " 2       GD       1300 0.01000000          0   \n",
       " 3       GD       1300 0.01000000          0   \n",
       " 4       GD       1300 0.01000000          0   \n",
       " ..     ...        ...        ...        ...   \n",
       " 255  SGDL2        400 0.01000000 0.00000010   \n",
       " 256  SGDL2        400 0.01000000 0.00000100   \n",
       " 257  SGDL2        400 0.01000000 0.00000100   \n",
       " 258  SGDL2        400 0.01000000 0.00000100   \n",
       " 259  SGDL2        400 0.01000000 0.00000100   \n",
       " \n",
       "                                               iter          w1         w2  \\\n",
       " 0    AxesSubplot(0.547727,0.125;0.352273x0.343182) 97.24613900 8.54030302   \n",
       " 1                                              100 83.84068931 6.55300704   \n",
       " 2                                              200 95.20501662 8.03612475   \n",
       " 3                                              300 96.78015530 8.30822942   \n",
       " 4                                              400 97.00182421 8.35400391   \n",
       " ..                                             ...         ...        ...   \n",
       " 255                                            400 96.98799444 8.35116840   \n",
       " 256                                            100 83.52220330 6.52355786   \n",
       " 257                                            200 95.04332959 8.01587683   \n",
       " 258                                            300 96.66742974 8.29388695   \n",
       " 259                                            400 96.89975869 8.34144018   \n",
       " \n",
       "              w3          w4          MSE  \n",
       " 0   48.50179875  0.00000000            0  \n",
       " 1   40.27389080  0.62893984 268.23636572  \n",
       " 2   47.22092240 -0.00168356  29.25163743  \n",
       " 3   48.40142546 -0.14552695  24.00763535  \n",
       " 4   48.59804464 -0.17161955  23.88839228  \n",
       " ..          ...         ...          ...  \n",
       " 255 48.58975605 -0.17220843   0.03079867  \n",
       " 256 40.11672220  0.63158094  17.17952582  \n",
       " 257 47.12729717  0.00276076   0.23307029  \n",
       " 258 48.33546381 -0.14317603   0.04248026  \n",
       " 259 48.53963821 -0.17014340   0.04194090  \n",
       " \n",
       " [260 rows x 10 columns])"
      ]
     },
     "execution_count": 1411,
     "metadata": {},
     "output_type": "execute_result"
    }
   ],
   "source": [
    "eval_SGD_L2(X, y, 400, 1, 1e-2, 1e-6)"
   ]
  },
  {
   "cell_type": "code",
   "execution_count": 1412,
   "metadata": {},
   "outputs": [
    {
     "name": "stdout",
     "output_type": "stream",
     "text": [
      "100 [83.00546629  6.47797787 39.85399868  0.63032067] 18.85341408741176\n",
      "200 [9.42504858e+01 7.93407826e+00 4.66940070e+01 1.55906653e-02] 0.5818593800290759\n",
      "300 [95.8073639   8.20053457 47.85178665 -0.12444826] 0.2468364348673046\n",
      "400 [96.02610056  8.24530145 48.04395956 -0.14985881] 0.24549675317381434\n"
     ]
    },
    {
     "data": {
      "text/plain": [
       "(array([96.02610056,  8.24530145, 48.04395956, -0.14985881]),\n",
       "       name iterations      alpha    lambda_  \\\n",
       " 0     Base          0          0          0   \n",
       " 1       GD       1300 0.01000000          0   \n",
       " 2       GD       1300 0.01000000          0   \n",
       " 3       GD       1300 0.01000000          0   \n",
       " 4       GD       1300 0.01000000          0   \n",
       " ..     ...        ...        ...        ...   \n",
       " 259  SGDL2        400 0.01000000 0.00000100   \n",
       " 260  SGDL2        400 0.01000000 0.00001000   \n",
       " 261  SGDL2        400 0.01000000 0.00001000   \n",
       " 262  SGDL2        400 0.01000000 0.00001000   \n",
       " 263  SGDL2        400 0.01000000 0.00001000   \n",
       " \n",
       "                                               iter          w1         w2  \\\n",
       " 0    AxesSubplot(0.547727,0.125;0.352273x0.343182) 97.24613900 8.54030302   \n",
       " 1                                              100 83.84068931 6.55300704   \n",
       " 2                                              200 95.20501662 8.03612475   \n",
       " 3                                              300 96.78015530 8.30822942   \n",
       " 4                                              400 97.00182421 8.35400391   \n",
       " ..                                             ...         ...        ...   \n",
       " 259                                            400 96.89975869 8.34144018   \n",
       " 260                                            100 83.00546629 6.47797787   \n",
       " 261                                            200 94.25048584 7.93407826   \n",
       " 262                                            300 95.80736390 8.20053457   \n",
       " 263                                            400 96.02610056 8.24530145   \n",
       " \n",
       "              w3          w4          MSE  \n",
       " 0   48.50179875  0.00000000            0  \n",
       " 1   40.27389080  0.62893984 268.23636572  \n",
       " 2   47.22092240 -0.00168356  29.25163743  \n",
       " 3   48.40142546 -0.14552695  24.00763535  \n",
       " 4   48.59804464 -0.17161955  23.88839228  \n",
       " ..          ...         ...          ...  \n",
       " 259 48.53963821 -0.17014340   0.04194090  \n",
       " 260 39.85399868  0.63032067  18.85341409  \n",
       " 261 46.69400703  0.01559067   0.58185938  \n",
       " 262 47.85178665 -0.12444826   0.24683643  \n",
       " 263 48.04395956 -0.14985881   0.24549675  \n",
       " \n",
       " [264 rows x 10 columns])"
      ]
     },
     "execution_count": 1412,
     "metadata": {},
     "output_type": "execute_result"
    }
   ],
   "source": [
    "eval_SGD_L2(X, y, 400, 1, 1e-2, 1e-5)"
   ]
  },
  {
   "cell_type": "code",
   "execution_count": 1413,
   "metadata": {},
   "outputs": [
    {
     "name": "stdout",
     "output_type": "stream",
     "text": [
      "100 [78.1061108   6.04724876 37.36774407  0.61839112] 38.67167289385711\n",
      "200 [86.93981967  7.18762464 42.72122285  0.12769812] 11.344468923655834\n",
      "300 [8.79612390e+01 7.36213879e+00 4.34783417e+01 3.48800348e-02] 10.168053881381386\n",
      "400 [8.80810887e+01 7.38664471e+00 4.35833314e+01 2.08420141e-02] 10.159376353930378\n"
     ]
    },
    {
     "data": {
      "text/plain": [
       "(array([8.80810887e+01, 7.38664471e+00, 4.35833314e+01, 2.08420141e-02]),\n",
       "       name iterations      alpha    lambda_  \\\n",
       " 0     Base          0          0          0   \n",
       " 1       GD       1300 0.01000000          0   \n",
       " 2       GD       1300 0.01000000          0   \n",
       " 3       GD       1300 0.01000000          0   \n",
       " 4       GD       1300 0.01000000          0   \n",
       " ..     ...        ...        ...        ...   \n",
       " 263  SGDL2        400 0.01000000 0.00001000   \n",
       " 264  SGDL2        400 0.01000000 0.00010000   \n",
       " 265  SGDL2        400 0.01000000 0.00010000   \n",
       " 266  SGDL2        400 0.01000000 0.00010000   \n",
       " 267  SGDL2        400 0.01000000 0.00010000   \n",
       " \n",
       "                                               iter          w1         w2  \\\n",
       " 0    AxesSubplot(0.547727,0.125;0.352273x0.343182) 97.24613900 8.54030302   \n",
       " 1                                              100 83.84068931 6.55300704   \n",
       " 2                                              200 95.20501662 8.03612475   \n",
       " 3                                              300 96.78015530 8.30822942   \n",
       " 4                                              400 97.00182421 8.35400391   \n",
       " ..                                             ...         ...        ...   \n",
       " 263                                            400 96.02610056 8.24530145   \n",
       " 264                                            100 78.10611080 6.04724876   \n",
       " 265                                            200 86.93981967 7.18762464   \n",
       " 266                                            300 87.96123898 7.36213879   \n",
       " 267                                            400 88.08108865 7.38664471   \n",
       " \n",
       "              w3          w4          MSE  \n",
       " 0   48.50179875  0.00000000            0  \n",
       " 1   40.27389080  0.62893984 268.23636572  \n",
       " 2   47.22092240 -0.00168356  29.25163743  \n",
       " 3   48.40142546 -0.14552695  24.00763535  \n",
       " 4   48.59804464 -0.17161955  23.88839228  \n",
       " ..          ...         ...          ...  \n",
       " 263 48.04395956 -0.14985881   0.24549675  \n",
       " 264 37.36774407  0.61839112  38.67167289  \n",
       " 265 42.72122285  0.12769812  11.34446892  \n",
       " 266 43.47834168  0.03488003  10.16805388  \n",
       " 267 43.58333142  0.02084201  10.15937635  \n",
       " \n",
       " [268 rows x 10 columns])"
      ]
     },
     "execution_count": 1413,
     "metadata": {},
     "output_type": "execute_result"
    }
   ],
   "source": [
    "eval_SGD_L2(X, y, 400, 1, 1e-2, 1e-4)"
   ]
  },
  {
   "cell_type": "code",
   "execution_count": 1414,
   "metadata": {},
   "outputs": [
    {
     "name": "stdout",
     "output_type": "stream",
     "text": [
      "100 [47.29503911  3.41877003 21.98527823  0.53004119] 336.8516740873477\n",
      "200 [48.17468144  3.52974652 22.50152223  0.47254591] 325.2267869149377\n",
      "300 [48.19147661  3.5325807  22.51362116  0.47085129] 325.09350218964045\n",
      "400 [48.19180201  3.53264683 22.51389896  0.47080986] 325.0928088163008\n"
     ]
    },
    {
     "data": {
      "text/plain": [
       "(array([48.19180201,  3.53264683, 22.51389896,  0.47080986]),\n",
       "       name iterations      alpha    lambda_  \\\n",
       " 0     Base          0          0          0   \n",
       " 1       GD       1300 0.01000000          0   \n",
       " 2       GD       1300 0.01000000          0   \n",
       " 3       GD       1300 0.01000000          0   \n",
       " 4       GD       1300 0.01000000          0   \n",
       " ..     ...        ...        ...        ...   \n",
       " 267  SGDL2        400 0.01000000 0.00010000   \n",
       " 268  SGDL2        400 0.01000000 0.00100000   \n",
       " 269  SGDL2        400 0.01000000 0.00100000   \n",
       " 270  SGDL2        400 0.01000000 0.00100000   \n",
       " 271  SGDL2        400 0.01000000 0.00100000   \n",
       " \n",
       "                                               iter          w1         w2  \\\n",
       " 0    AxesSubplot(0.547727,0.125;0.352273x0.343182) 97.24613900 8.54030302   \n",
       " 1                                              100 83.84068931 6.55300704   \n",
       " 2                                              200 95.20501662 8.03612475   \n",
       " 3                                              300 96.78015530 8.30822942   \n",
       " 4                                              400 97.00182421 8.35400391   \n",
       " ..                                             ...         ...        ...   \n",
       " 267                                            400 88.08108865 7.38664471   \n",
       " 268                                            100 47.29503911 3.41877003   \n",
       " 269                                            200 48.17468144 3.52974652   \n",
       " 270                                            300 48.19147661 3.53258070   \n",
       " 271                                            400 48.19180201 3.53264683   \n",
       " \n",
       "              w3          w4          MSE  \n",
       " 0   48.50179875  0.00000000            0  \n",
       " 1   40.27389080  0.62893984 268.23636572  \n",
       " 2   47.22092240 -0.00168356  29.25163743  \n",
       " 3   48.40142546 -0.14552695  24.00763535  \n",
       " 4   48.59804464 -0.17161955  23.88839228  \n",
       " ..          ...         ...          ...  \n",
       " 267 43.58333142  0.02084201  10.15937635  \n",
       " 268 21.98527823  0.53004119 336.85167409  \n",
       " 269 22.50152223  0.47254591 325.22678691  \n",
       " 270 22.51362116  0.47085129 325.09350219  \n",
       " 271 22.51389896  0.47080986 325.09280882  \n",
       " \n",
       " [272 rows x 10 columns])"
      ]
     },
     "execution_count": 1414,
     "metadata": {},
     "output_type": "execute_result"
    }
   ],
   "source": [
    "eval_SGD_L2(X, y, 400, 1, 1e-2, 1e-3)"
   ]
  },
  {
   "cell_type": "markdown",
   "metadata": {},
   "source": [
    "<table>\n",
    "<tr><th>Модель</th><th>Число итераций</th><th>Alpha</th><th>Lambda</th><th>MSE</th><th>Вес 1</th><th>Вес 2</th><th>Вес 3</th><th>Вес 4</th></tr>\n",
    "    \n",
    "<tr><td>Исходные данные</td><td>-</td><td>-</td><td>-</td><td>-</td><td>97.246139</td><td>8.54030302</td><td>48.50179875</td><td>0.</td></tr>\n",
    "    \n",
    "<tr><td>SGD (1e-2)</td><td>1900</td><td>1e-2</td><td>-</td><td>0.03253962205253113</td><td>97.03765463</td><td>8.36153553</td><td>48.63648456</td><td>-0.17780612</td></tr>\n",
    "    \n",
    "<tr><td>SGDL2 (1e-2)</td><td>400</td><td>1e-2</td><td>1e-8</td><td>0.029778075462400595</td><td>96.9968268</td><td>8.35214238</td><td>48.59477339</td><td>-0.17241531</td></tr>\n",
    "\n",
    "<tr><td>SGDL2 (1e-2)</td><td>400</td><td>1e-2</td><td>1e-7</td><td>0.030798672418639293</td><td>96.98799444</td><td>8.3511684</td><td>48.58975605</td><td>-0.17220843</td></tr>\n",
    "\n",
    "<tr><td>SGDL2 (1e-2)</td><td>400</td><td>1e-2</td><td>1e-6</td><td>0.04194089742608848</td><td>96.89975869</td><td>8.34144018</td><td>48.53963821</td><td>-0.1701434</td></tr>\n",
    "   \n",
    "<tr><td>SGDL2 (1e-2)</td><td>400</td><td>1e-2</td><td>1e-5</td><td>0.24549675317381434</td><td>96.02610056</td><td>8.24530145</td><td>48.04395956</td><td>-0.14985881</td></tr>\n",
    "    \n",
    "<tr><td>SGDL2 (1e-2)</td><td>400</td><td>1e-2</td><td>1e-4</td><td>10.159376353930378</td><td>8.80810887e+01</td><td>7.38664471e+00</td><td>4.35833314e+01</td><td>2.08420141e-02</td></tr>\n",
    "    \n",
    "<tr><td>SGDL2 (1e-2)</td><td>400</td><td>1e-2</td><td>1e-3</td><td>325.0928088163008</td><td>48.19180201</td><td>3.53264683</td><td>22.51389896</td><td>0.47080986</td></tr>\n",
    "    \n",
    "</table>"
   ]
  },
  {
   "cell_type": "code",
   "execution_count": 1415,
   "metadata": {},
   "outputs": [
    {
     "data": {
      "image/png": "[encoded data removed]",
      "text/plain": [
       "<Figure size 1152x720 with 4 Axes>"
      ]
     },
     "metadata": {
      "needs_background": "light"
     },
     "output_type": "display_data"
    }
   ],
   "source": [
    "fig , ax = plt.subplots(nrows = 2, ncols = 2, figsize=(16,10))\n",
    "axis_name(2, 'x', 'Коэффициент регуляризации')\n",
    "axis_name(2, 'y', 'Веса')\n",
    "\n",
    "#w1 - коэффициент регуляризации\n",
    "draw_bar(0, 0, 2, [[1, 1e-8], [2, 1e-7], [3, 1e-6], [4, 1e-5], [5, 1e-4], [6, 1e-3]], 'w1', 'lambda_', 'SGDL2', 'royalblue',\n",
    "         0.5, 'max')\n",
    "set_title(0, 0, 2, [[1, 98, '1e-8'], [2, 97.6, '1e-7'], [3, 97.4, '1e-6'], [4, 97.4, '1e-5'], [5, 90.0, '1e-4'], \n",
    "           [6, 50, '1e-3'], [7, 97.9, 'Base']], 'center')\n",
    "ax[0][0].bar(7, df['w1'].loc[df['name']=='Base'].item(), color = 'lightcoral', width = 0.5)\n",
    "ax[0][0].set_ylim([48, 103])\n",
    "ax[0][0].set_xlim([0, 8])\n",
    "ax[0][0].text(6, 97.20, 'W1', horizontalalignment = 'left', style = 'italic', color = 'red')\n",
    "\n",
    "#w2 - коэффициент регуляризации\n",
    "draw_bar(0, 1, 2, [[1, 1e-8], [2, 1e-7], [3, 1e-6], [4, 1e-5], [5, 1e-4], [6, 1e-3]], 'w2', 'lambda_', 'SGDL2', 'royalblue',\n",
    "         0.5, 'max')\n",
    "set_title(0, 1, 2, [[1, 8.5, '1e-8'], [2, 8.5, '1e-7'], [3, 8.5, '1e-6'], [4, 8.37, '1e-5'], [5, 7.5, '1e-4'], \n",
    "           [6, 3.8, '1e-3'], [7, 8.6, 'Base']], 'center')\n",
    "ax[0][1].bar(7, df['w2'].loc[df['name']=='Base'].item(), color = 'lightcoral', width = 0.5)\n",
    "ax[0][1].set_ylim([3.5, 9])\n",
    "ax[0][1].set_xlim([0, 8])\n",
    "ax[0][1].text(6, 8.525, 'W2', horizontalalignment = 'left', style = 'italic', color = 'red')\n",
    "\n",
    "#w3 - коэффициент регуляризации\n",
    "draw_bar(1, 0, 2, [[1, 1e-8], [2, 1e-7], [3, 1e-6], [4, 1e-5], [5, 1e-4], [6, 1e-3]], 'w3', 'lambda_', 'SGDL2', 'royalblue',\n",
    "         0.5, 'max')\n",
    "set_title(1, 0, 2, [[1, 49, '1e-8'], [2, 49, '1e-7'], [3, 49, '1e-6'], [4, 48.6, '1e-5'], [5, 44, '1e-4'], \n",
    "           [6, 23, '1e-3'], [7, 49, 'Base']], 'center')\n",
    "ax[1][0].bar(7, df['w3'].loc[df['name']=='Base'].item(), color = 'lightcoral', width = 0.5)\n",
    "ax[1][0].set_ylim([22, 52])\n",
    "ax[1][0].set_xlim([0, 8])\n",
    "ax[1][0].text(6, 48.625, 'W3', horizontalalignment = 'left', style = 'italic', color = 'red')\n",
    "\n",
    "#w4 - коэффициент регуляризации\n",
    "draw_bar(1, 1, 2, [[1, 1e-8], [2, 1e-7], [3, 1e-6], [4, 1e-5], [5, 1e-4], [6, 1e-3]], 'w4', 'lambda_', 'SGDL2', 'royalblue',\n",
    "         0.5, 'min')\n",
    "set_title(1, 1, 2, [[1, -0.27, '1e-8'], [2, -0.27, '1e-7'], [3, -0.27, '1e-6'], [4, -0.27, '1e-5'], \n",
    "                    [5, -0.1770, '1e-4'], [6, 0.5, '1e-3'], [7, 0, 'Base = 0']], 'center')\n",
    "ax[1][1].bar(7, df['w4'].loc[df['name']=='Base'].item(), color = 'lightcoral', width = 0.5)\n",
    "ax[1][1].set_ylim([-1, 1])\n",
    "ax[1][1].set_xlim([0, 8])\n",
    "ax[1][1].text(7, 0.75, 'W4', horizontalalignment = 'left', style = 'italic', color = 'red')\n",
    "\n",
    "fig.suptitle('График изменения весов от значения коэффициента регуляризации для SGDL2')\n",
    "plt.show()"
   ]
  },
  {
   "cell_type": "markdown",
   "metadata": {},
   "source": [
    "### Задача 3"
   ]
  },
  {
   "cell_type": "markdown",
   "metadata": {},
   "source": [
    "Модернизировать решение задания 2, заменив L2 регуляризацию на L1 регуляризацию."
   ]
  },
  {
   "cell_type": "markdown",
   "metadata": {},
   "source": [
    "### Градиентный спуск с использованием L1 регуляризации (Lasso)"
   ]
  },
  {
   "cell_type": "code",
   "execution_count": 1416,
   "metadata": {},
   "outputs": [],
   "source": [
    "def eval_model_reg1(X, y, iterations, alpha=1e-4, lambda_=1e-8):\n",
    "    np.random.seed(42)\n",
    "    w = np.random.randn(X.shape[1])\n",
    "    n = X.shape[0]\n",
    "    for i in range(1, iterations + 1):\n",
    "        y_pred = np.dot(X, w)\n",
    "        err = calc_mse(y, y_pred)\n",
    "        w -= alpha * (1/n * 2 * np.dot((y_pred - y), X) + lambda_ * np.abs(w))\n",
    "        if i % 100 == 0:\n",
    "            print(i, w, err)\n",
    "            w1, w2, w3, w4 = w\n",
    "            name = 'GDL1'\n",
    "            df.loc[len(df)] = [name, iterations, alpha, lambda_, i, w1, w2, w3, w4, err]\n",
    "    return w, df"
   ]
  },
  {
   "cell_type": "code",
   "execution_count": 1417,
   "metadata": {},
   "outputs": [
    {
     "name": "stdout",
     "output_type": "stream",
     "text": [
      "100 [83.84068902  6.55300701 40.27389065  0.62893984] 268.23637555512505\n",
      "200 [ 9.52050162e+01  8.03612471e+00  4.72209222e+01 -1.68355666e-03] 29.251639695053413\n",
      "300 [96.78015482  8.30822937 48.40142519 -0.14552694] 24.00763571995747\n",
      "400 [97.00182372  8.35400386 48.59804436 -0.17161954] 23.888392334696764\n",
      "500 [97.03345429  8.36133796 48.63035317 -0.17588456] 23.885612676325493\n",
      "600 [97.03802396  8.36247791 48.63561256 -0.17653998] 23.885546750940296\n",
      "700 [97.03869137  8.36265157 48.63646299 -0.17663646] 23.885545167579025\n",
      "800 [97.03878978  8.36267767 48.63659983 -0.17665018] 23.88554512909899\n",
      "900 [97.03880441  8.36268155 48.63662177 -0.17665207] 23.8855451281396\n",
      "1000 [97.0388066   8.36268213 48.63662528 -0.17665233] 23.88554512811278\n",
      "1100 [97.03880693  8.36268221 48.63662584 -0.17665236] 23.88554512811161\n",
      "1200 [97.03880698  8.36268222 48.63662593 -0.17665236] 23.885545128111495\n",
      "1300 [97.03880698  8.36268222 48.63662594 -0.17665236] 23.88554512811148\n",
      "1400 [97.03880699  8.36268222 48.63662594 -0.17665236] 23.885545128111477\n",
      "1500 [97.03880699  8.36268222 48.63662594 -0.17665236] 23.88554512811148\n",
      "1600 [97.03880699  8.36268222 48.63662594 -0.17665236] 23.885545128111474\n"
     ]
    },
    {
     "data": {
      "text/plain": [
       "(array([97.03880699,  8.36268222, 48.63662594, -0.17665236]),\n",
       "      name iterations      alpha    lambda_  \\\n",
       " 0    Base          0          0          0   \n",
       " 1      GD       1300 0.01000000          0   \n",
       " 2      GD       1300 0.01000000          0   \n",
       " 3      GD       1300 0.01000000          0   \n",
       " 4      GD       1300 0.01000000          0   \n",
       " ..    ...        ...        ...        ...   \n",
       " 283  GDL1       1600 0.01000000 0.00000001   \n",
       " 284  GDL1       1600 0.01000000 0.00000001   \n",
       " 285  GDL1       1600 0.01000000 0.00000001   \n",
       " 286  GDL1       1600 0.01000000 0.00000001   \n",
       " 287  GDL1       1600 0.01000000 0.00000001   \n",
       " \n",
       "                                               iter          w1         w2  \\\n",
       " 0    AxesSubplot(0.547727,0.125;0.352273x0.343182) 97.24613900 8.54030302   \n",
       " 1                                              100 83.84068931 6.55300704   \n",
       " 2                                              200 95.20501662 8.03612475   \n",
       " 3                                              300 96.78015530 8.30822942   \n",
       " 4                                              400 97.00182421 8.35400391   \n",
       " ..                                             ...         ...        ...   \n",
       " 283                                           1200 97.03880698 8.36268222   \n",
       " 284                                           1300 97.03880698 8.36268222   \n",
       " 285                                           1400 97.03880699 8.36268222   \n",
       " 286                                           1500 97.03880699 8.36268222   \n",
       " 287                                           1600 97.03880699 8.36268222   \n",
       " \n",
       "              w3          w4          MSE  \n",
       " 0   48.50179875  0.00000000            0  \n",
       " 1   40.27389080  0.62893984 268.23636572  \n",
       " 2   47.22092240 -0.00168356  29.25163743  \n",
       " 3   48.40142546 -0.14552695  24.00763535  \n",
       " 4   48.59804464 -0.17161955  23.88839228  \n",
       " ..          ...         ...          ...  \n",
       " 283 48.63662593 -0.17665236  23.88554513  \n",
       " 284 48.63662594 -0.17665236  23.88554513  \n",
       " 285 48.63662594 -0.17665236  23.88554513  \n",
       " 286 48.63662594 -0.17665236  23.88554513  \n",
       " 287 48.63662594 -0.17665236  23.88554513  \n",
       " \n",
       " [288 rows x 10 columns])"
      ]
     },
     "execution_count": 1417,
     "metadata": {},
     "output_type": "execute_result"
    }
   ],
   "source": [
    "eval_model_reg1(X, y, 1600, alpha=1e-2, lambda_=1e-8)"
   ]
  },
  {
   "cell_type": "code",
   "execution_count": 1418,
   "metadata": {},
   "outputs": [
    {
     "name": "stdout",
     "output_type": "stream",
     "text": [
      "100 [83.84068642  6.55300678 40.27388933  0.62893983] 268.23646405806863\n",
      "200 [ 9.52050122e+01  8.03612429e+00  4.72209200e+01 -1.68349130e-03] 29.2516601133732\n",
      "300 [96.78015047  8.3082289  48.40142274 -0.14552686] 24.00763903459639\n",
      "400 [97.0018193   8.35400337 48.59804185 -0.17161945] 23.888392840246357\n",
      "500 [97.03344986  8.36133748 48.63035064 -0.17588447] 23.885612752926292\n",
      "600 [97.03801953  8.36247742 48.63561003 -0.17653989] 23.88554676261244\n",
      "700 [97.03868694  8.36265108 48.63646046 -0.17663637] 23.885545169388514\n",
      "800 [97.03878535  8.36267718 48.6365973  -0.17665009] 23.885545129402672\n",
      "900 [97.03879998  8.36268106 48.63661924 -0.17665198] 23.885545128212303\n",
      "1000 [97.03880217  8.36268164 48.63662275 -0.17665224] 23.885545128149907\n",
      "1100 [97.0388025   8.36268172 48.63662331 -0.17665227] 23.88554512814324\n",
      "1200 [97.03880255  8.36268173 48.6366234  -0.17665227] 23.885545128142283\n",
      "1300 [97.03880255  8.36268173 48.63662341 -0.17665227] 23.885545128142127\n",
      "1400 [97.03880256  8.36268173 48.63662341 -0.17665227] 23.88554512814211\n",
      "1500 [97.03880256  8.36268173 48.63662342 -0.17665227] 23.88554512814211\n",
      "1600 [97.03880256  8.36268173 48.63662342 -0.17665227] 23.885545128142105\n",
      "1700 [97.03880256  8.36268173 48.63662342 -0.17665227] 23.885545128142105\n",
      "1800 [97.03880256  8.36268173 48.63662342 -0.17665227] 23.885545128142102\n"
     ]
    },
    {
     "data": {
      "text/plain": [
       "(array([97.03880256,  8.36268173, 48.63662342, -0.17665227]),\n",
       "      name iterations      alpha    lambda_  \\\n",
       " 0    Base          0          0          0   \n",
       " 1      GD       1300 0.01000000          0   \n",
       " 2      GD       1300 0.01000000          0   \n",
       " 3      GD       1300 0.01000000          0   \n",
       " 4      GD       1300 0.01000000          0   \n",
       " ..    ...        ...        ...        ...   \n",
       " 301  GDL1       1800 0.01000000 0.00000010   \n",
       " 302  GDL1       1800 0.01000000 0.00000010   \n",
       " 303  GDL1       1800 0.01000000 0.00000010   \n",
       " 304  GDL1       1800 0.01000000 0.00000010   \n",
       " 305  GDL1       1800 0.01000000 0.00000010   \n",
       " \n",
       "                                               iter          w1         w2  \\\n",
       " 0    AxesSubplot(0.547727,0.125;0.352273x0.343182) 97.24613900 8.54030302   \n",
       " 1                                              100 83.84068931 6.55300704   \n",
       " 2                                              200 95.20501662 8.03612475   \n",
       " 3                                              300 96.78015530 8.30822942   \n",
       " 4                                              400 97.00182421 8.35400391   \n",
       " ..                                             ...         ...        ...   \n",
       " 301                                           1400 97.03880256 8.36268173   \n",
       " 302                                           1500 97.03880256 8.36268173   \n",
       " 303                                           1600 97.03880256 8.36268173   \n",
       " 304                                           1700 97.03880256 8.36268173   \n",
       " 305                                           1800 97.03880256 8.36268173   \n",
       " \n",
       "              w3          w4          MSE  \n",
       " 0   48.50179875  0.00000000            0  \n",
       " 1   40.27389080  0.62893984 268.23636572  \n",
       " 2   47.22092240 -0.00168356  29.25163743  \n",
       " 3   48.40142546 -0.14552695  24.00763535  \n",
       " 4   48.59804464 -0.17161955  23.88839228  \n",
       " ..          ...         ...          ...  \n",
       " 301 48.63662341 -0.17665227  23.88554513  \n",
       " 302 48.63662342 -0.17665227  23.88554513  \n",
       " 303 48.63662342 -0.17665227  23.88554513  \n",
       " 304 48.63662342 -0.17665227  23.88554513  \n",
       " 305 48.63662342 -0.17665227  23.88554513  \n",
       " \n",
       " [306 rows x 10 columns])"
      ]
     },
     "execution_count": 1418,
     "metadata": {},
     "output_type": "execute_result"
    }
   ],
   "source": [
    "eval_model_reg1(X, y, 1800, alpha=1e-2, lambda_=1e-7)"
   ]
  },
  {
   "cell_type": "code",
   "execution_count": 1419,
   "metadata": {},
   "outputs": [
    {
     "name": "stdout",
     "output_type": "stream",
     "text": [
      "100 [83.84066033  6.55300449 40.27387606  0.62893976] 268.2373490881612\n",
      "200 [ 9.52049721e+01  8.03612015e+00  4.72208980e+01 -1.68283776e-03] 29.251864298692244\n",
      "300 [96.780107    8.30822418 48.40139824 -0.14552599] 24.00767218360711\n",
      "400 [97.00177515  8.35399851 48.59801675 -0.17161855] 23.888397898473315\n",
      "500 [97.03340559  8.36133258 48.63032541 -0.17588357] 23.885613521686203\n",
      "600 [97.03797523  8.36247252 48.63558477 -0.17653899] 23.88554688208959\n",
      "700 [97.03864264  8.36264618 48.6364352  -0.17663547] 23.885545190239828\n",
      "800 [97.03874104  8.36267228 48.63657204 -0.17664919] 23.88554513519604\n",
      "900 [97.03875567  8.36267616 48.63659398 -0.17665109] 23.885545131695917\n",
      "1000 [97.03875786  8.36267674 48.63659748 -0.17665134] 23.885545131277816\n",
      "1100 [97.03875819  8.36267682 48.63659804 -0.17665137] 23.885545131216187\n",
      "1200 [97.03875824  8.36267683 48.63659813 -0.17665138] 23.885545131206708\n",
      "1300 [97.03875825  8.36267683 48.63659815 -0.17665138] 23.88554513120524\n",
      "1400 [97.03875825  8.36267683 48.63659815 -0.17665138] 23.88554513120501\n",
      "1500 [97.03875825  8.36267683 48.63659815 -0.17665138] 23.885545131204974\n",
      "1600 [97.03875825  8.36267683 48.63659815 -0.17665138] 23.885545131204967\n",
      "1700 [97.03875825  8.36267683 48.63659815 -0.17665138] 23.885545131204964\n"
     ]
    },
    {
     "data": {
      "text/plain": [
       "(array([97.03875825,  8.36267683, 48.63659815, -0.17665138]),\n",
       "      name iterations      alpha    lambda_  \\\n",
       " 0    Base          0          0          0   \n",
       " 1      GD       1300 0.01000000          0   \n",
       " 2      GD       1300 0.01000000          0   \n",
       " 3      GD       1300 0.01000000          0   \n",
       " 4      GD       1300 0.01000000          0   \n",
       " ..    ...        ...        ...        ...   \n",
       " 318  GDL1       1700 0.01000000 0.00000100   \n",
       " 319  GDL1       1700 0.01000000 0.00000100   \n",
       " 320  GDL1       1700 0.01000000 0.00000100   \n",
       " 321  GDL1       1700 0.01000000 0.00000100   \n",
       " 322  GDL1       1700 0.01000000 0.00000100   \n",
       " \n",
       "                                               iter          w1         w2  \\\n",
       " 0    AxesSubplot(0.547727,0.125;0.352273x0.343182) 97.24613900 8.54030302   \n",
       " 1                                              100 83.84068931 6.55300704   \n",
       " 2                                              200 95.20501662 8.03612475   \n",
       " 3                                              300 96.78015530 8.30822942   \n",
       " 4                                              400 97.00182421 8.35400391   \n",
       " ..                                             ...         ...        ...   \n",
       " 318                                           1300 97.03875825 8.36267683   \n",
       " 319                                           1400 97.03875825 8.36267683   \n",
       " 320                                           1500 97.03875825 8.36267683   \n",
       " 321                                           1600 97.03875825 8.36267683   \n",
       " 322                                           1700 97.03875825 8.36267683   \n",
       " \n",
       "              w3          w4          MSE  \n",
       " 0   48.50179875  0.00000000            0  \n",
       " 1   40.27389080  0.62893984 268.23636572  \n",
       " 2   47.22092240 -0.00168356  29.25163743  \n",
       " 3   48.40142546 -0.14552695  24.00763535  \n",
       " 4   48.59804464 -0.17161955  23.88839228  \n",
       " ..          ...         ...          ...  \n",
       " 318 48.63659815 -0.17665138  23.88554513  \n",
       " 319 48.63659815 -0.17665138  23.88554513  \n",
       " 320 48.63659815 -0.17665138  23.88554513  \n",
       " 321 48.63659815 -0.17665138  23.88554513  \n",
       " 322 48.63659815 -0.17665138  23.88554513  \n",
       " \n",
       " [323 rows x 10 columns])"
      ]
     },
     "execution_count": 1419,
     "metadata": {},
     "output_type": "execute_result"
    }
   ],
   "source": [
    "eval_model_reg1(X, y, 1700, alpha=1e-2, lambda_=1e-6)"
   ]
  },
  {
   "cell_type": "code",
   "execution_count": 1420,
   "metadata": {},
   "outputs": [
    {
     "name": "stdout",
     "output_type": "stream",
     "text": [
      "100 [83.84039942  6.55298154 40.27374336  0.62893907] 268.24619945466077\n",
      "200 [ 9.52045712e+01  8.03607877e+00  4.72206786e+01 -1.67630237e-03] 29.253906363958553\n",
      "300 [96.77967226  8.30817693 48.40115327 -0.14551732] 24.008003935858238\n",
      "400 [97.00133363  8.35394987 48.59776571 -0.17160961] 23.888448753834485\n",
      "500 [97.03296282  8.36128365 48.63007307 -0.1758746 ] 23.885621484475326\n",
      "600 [97.03753224  8.36242353 48.63533218 -0.17653002] 23.885548352433382\n",
      "700 [97.03819961  8.36259718 48.63618255 -0.1766265 ] 23.88554567439305\n",
      "800 [97.03829801  8.36262328 48.63631938 -0.17664022] 23.885545468781753\n",
      "900 [97.03831264  8.36262716 48.63634132 -0.17664211] 23.88554544218607\n",
      "1000 [97.03831483  8.36262774 48.63634483 -0.17664237] 23.88554543821128\n",
      "1100 [97.03831516  8.36262782 48.63634539 -0.1766424 ] 23.885545437600094\n",
      "1200 [97.03831521  8.36262783 48.63634547 -0.1766424 ] 23.885545437505467\n",
      "1300 [97.03831522  8.36262783 48.63634549 -0.17664241] 23.885545437490773\n",
      "1400 [97.03831522  8.36262783 48.63634549 -0.17664241] 23.885545437488478\n",
      "1500 [97.03831522  8.36262783 48.63634549 -0.17664241] 23.88554543748813\n",
      "1600 [97.03831522  8.36262783 48.63634549 -0.17664241] 23.885545437488073\n",
      "1700 [97.03831522  8.36262783 48.63634549 -0.17664241] 23.885545437488062\n"
     ]
    },
    {
     "data": {
      "text/plain": [
       "(array([97.03831522,  8.36262783, 48.63634549, -0.17664241]),\n",
       "      name iterations      alpha    lambda_  \\\n",
       " 0    Base          0          0          0   \n",
       " 1      GD       1300 0.01000000          0   \n",
       " 2      GD       1300 0.01000000          0   \n",
       " 3      GD       1300 0.01000000          0   \n",
       " 4      GD       1300 0.01000000          0   \n",
       " ..    ...        ...        ...        ...   \n",
       " 335  GDL1       1700 0.01000000 0.00001000   \n",
       " 336  GDL1       1700 0.01000000 0.00001000   \n",
       " 337  GDL1       1700 0.01000000 0.00001000   \n",
       " 338  GDL1       1700 0.01000000 0.00001000   \n",
       " 339  GDL1       1700 0.01000000 0.00001000   \n",
       " \n",
       "                                               iter          w1         w2  \\\n",
       " 0    AxesSubplot(0.547727,0.125;0.352273x0.343182) 97.24613900 8.54030302   \n",
       " 1                                              100 83.84068931 6.55300704   \n",
       " 2                                              200 95.20501662 8.03612475   \n",
       " 3                                              300 96.78015530 8.30822942   \n",
       " 4                                              400 97.00182421 8.35400391   \n",
       " ..                                             ...         ...        ...   \n",
       " 335                                           1300 97.03831522 8.36262783   \n",
       " 336                                           1400 97.03831522 8.36262783   \n",
       " 337                                           1500 97.03831522 8.36262783   \n",
       " 338                                           1600 97.03831522 8.36262783   \n",
       " 339                                           1700 97.03831522 8.36262783   \n",
       " \n",
       "              w3          w4          MSE  \n",
       " 0   48.50179875  0.00000000            0  \n",
       " 1   40.27389080  0.62893984 268.23636572  \n",
       " 2   47.22092240 -0.00168356  29.25163743  \n",
       " 3   48.40142546 -0.14552695  24.00763535  \n",
       " 4   48.59804464 -0.17161955  23.88839228  \n",
       " ..          ...         ...          ...  \n",
       " 335 48.63634549 -0.17664241  23.88554544  \n",
       " 336 48.63634549 -0.17664241  23.88554544  \n",
       " 337 48.63634549 -0.17664241  23.88554544  \n",
       " 338 48.63634549 -0.17664241  23.88554544  \n",
       " 339 48.63634549 -0.17664241  23.88554544  \n",
       " \n",
       " [340 rows x 10 columns])"
      ]
     },
     "execution_count": 1420,
     "metadata": {},
     "output_type": "execute_result"
    }
   ],
   "source": [
    "eval_model_reg1(X, y, 1700, alpha=1e-2, lambda_=1e-5)"
   ]
  },
  {
   "cell_type": "code",
   "execution_count": 1421,
   "metadata": {},
   "outputs": [
    {
     "name": "stdout",
     "output_type": "stream",
     "text": [
      "100 [83.83779045  6.55275205 40.27241641  0.62893219] 268.33470967541354\n",
      "200 [ 9.52005625e+01  8.03566494e+00  4.72184845e+01 -1.61095299e-03] 29.274348222226966\n",
      "300 [96.7753251   8.30770453 48.39870369 -0.14543059] 24.01134767016282\n",
      "400 [96.9969187   8.35346346 48.59525545 -0.17152023] 23.88898461379529\n",
      "500 [97.02853538  8.36079435 48.62754985 -0.17578492] 23.885728628492583\n",
      "600 [97.03310259  8.36193368 48.63280635 -0.17644031] 23.88559061021725\n",
      "700 [97.03376957  8.36210723 48.63365622 -0.17653679] 23.88557807705795\n",
      "800 [97.03386791  8.36213331 48.63379296 -0.17655051] 23.88557636695738\n",
      "900 [97.03388253  8.36213719 48.63381488 -0.1765524 ] 23.885576109611073\n",
      "1000 [97.03388471  8.36213776 48.63381839 -0.17655266] 23.885576070104413\n",
      "1100 [97.03388504  8.36213785 48.63381895 -0.17655269] 23.885576064003654\n",
      "1200 [97.03388509  8.36213786 48.63381904 -0.17655269] 23.885576063058526\n",
      "1300 [97.0338851   8.36213786 48.63381905 -0.17655269] 23.88557606291175\n",
      "1400 [97.0338851   8.36213786 48.63381905 -0.17655269] 23.885576062888912\n",
      "1500 [97.0338851   8.36213786 48.63381905 -0.17655269] 23.885576062885345\n",
      "1600 [97.0338851   8.36213786 48.63381905 -0.17655269] 23.885576062884798\n",
      "1700 [97.0338851   8.36213786 48.63381905 -0.17655269] 23.885576062884706\n",
      "1800 [97.0338851   8.36213786 48.63381905 -0.17655269] 23.88557606288469\n"
     ]
    },
    {
     "data": {
      "text/plain": [
       "(array([97.0338851 ,  8.36213786, 48.63381905, -0.17655269]),\n",
       "      name iterations      alpha    lambda_  \\\n",
       " 0    Base          0          0          0   \n",
       " 1      GD       1300 0.01000000          0   \n",
       " 2      GD       1300 0.01000000          0   \n",
       " 3      GD       1300 0.01000000          0   \n",
       " 4      GD       1300 0.01000000          0   \n",
       " ..    ...        ...        ...        ...   \n",
       " 353  GDL1       1800 0.01000000 0.00010000   \n",
       " 354  GDL1       1800 0.01000000 0.00010000   \n",
       " 355  GDL1       1800 0.01000000 0.00010000   \n",
       " 356  GDL1       1800 0.01000000 0.00010000   \n",
       " 357  GDL1       1800 0.01000000 0.00010000   \n",
       " \n",
       "                                               iter          w1         w2  \\\n",
       " 0    AxesSubplot(0.547727,0.125;0.352273x0.343182) 97.24613900 8.54030302   \n",
       " 1                                              100 83.84068931 6.55300704   \n",
       " 2                                              200 95.20501662 8.03612475   \n",
       " 3                                              300 96.78015530 8.30822942   \n",
       " 4                                              400 97.00182421 8.35400391   \n",
       " ..                                             ...         ...        ...   \n",
       " 353                                           1400 97.03388510 8.36213786   \n",
       " 354                                           1500 97.03388510 8.36213786   \n",
       " 355                                           1600 97.03388510 8.36213786   \n",
       " 356                                           1700 97.03388510 8.36213786   \n",
       " 357                                           1800 97.03388510 8.36213786   \n",
       " \n",
       "              w3          w4          MSE  \n",
       " 0   48.50179875  0.00000000            0  \n",
       " 1   40.27389080  0.62893984 268.23636572  \n",
       " 2   47.22092240 -0.00168356  29.25163743  \n",
       " 3   48.40142546 -0.14552695  24.00763535  \n",
       " 4   48.59804464 -0.17161955  23.88839228  \n",
       " ..          ...         ...          ...  \n",
       " 353 48.63381905 -0.17655269  23.88557606  \n",
       " 354 48.63381905 -0.17655269  23.88557606  \n",
       " 355 48.63381905 -0.17655269  23.88557606  \n",
       " 356 48.63381905 -0.17655269  23.88557606  \n",
       " 357 48.63381905 -0.17655269  23.88557606  \n",
       " \n",
       " [358 rows x 10 columns])"
      ]
     },
     "execution_count": 1421,
     "metadata": {},
     "output_type": "execute_result"
    }
   ],
   "source": [
    "eval_model_reg1(X, y, 1800, alpha=1e-2, lambda_=1e-4)"
   ]
  },
  {
   "cell_type": "code",
   "execution_count": 1422,
   "metadata": {},
   "outputs": [
    {
     "name": "stdout",
     "output_type": "stream",
     "text": [
      "100 [83.8117078   6.55045783 40.25915067  0.62886341] 269.2204670266992\n",
      "200 [ 9.51604926e+01  8.03152866e+00  4.71965529e+01 -9.57907004e-04] 29.48088550820245\n",
      "300 [96.73187435  8.30298315 48.3742208  -0.14456334] 24.04740359538568\n",
      "400 [96.95279132  8.34860233 48.57016686 -0.17062645] 23.897071033614747\n",
      "500 [96.98428318  8.35590428 48.60233185 -0.17488813] 23.889548814271613\n",
      "600 [96.98882832  8.35703811 48.6075624  -0.17554324] 23.88876574419772\n",
      "700 [96.9894915   8.35721067 48.60840729 -0.1756397 ] 23.888655336141625\n",
      "800 [96.98958919  8.35723657 48.6085431  -0.17565343] 23.88863869926263\n",
      "900 [96.9896037   8.35724042 48.60856485 -0.17565532] 23.88863615480674\n",
      "1000 [96.98960587  8.35724099 48.60856832 -0.17565558] 23.88863576347379\n",
      "1100 [96.9896062   8.35724108 48.60856887 -0.17565561] 23.888635703071312\n",
      "1200 [96.98960625  8.35724109 48.60856896 -0.17565561] 23.88863569372164\n",
      "1300 [96.98960625  8.35724109 48.60856898 -0.17565561] 23.888635692270967\n",
      "1400 [96.98960626  8.35724109 48.60856898 -0.17565561] 23.888635692045426\n",
      "1500 [96.98960626  8.35724109 48.60856898 -0.17565561] 23.888635692010308\n",
      "1600 [96.98960626  8.35724109 48.60856898 -0.17565561] 23.888635692004826\n",
      "1700 [96.98960626  8.35724109 48.60856898 -0.17565561] 23.888635692003977\n",
      "1800 [96.98960626  8.35724109 48.60856898 -0.17565561] 23.888635692003866\n",
      "1900 [96.98960626  8.35724109 48.60856898 -0.17565561] 23.888635692003863\n",
      "2000 [96.98960626  8.35724109 48.60856898 -0.17565561] 23.88863569200386\n"
     ]
    },
    {
     "data": {
      "text/plain": [
       "(array([96.98960626,  8.35724109, 48.60856898, -0.17565561]),\n",
       "      name iterations      alpha    lambda_  \\\n",
       " 0    Base          0          0          0   \n",
       " 1      GD       1300 0.01000000          0   \n",
       " 2      GD       1300 0.01000000          0   \n",
       " 3      GD       1300 0.01000000          0   \n",
       " 4      GD       1300 0.01000000          0   \n",
       " ..    ...        ...        ...        ...   \n",
       " 373  GDL1       2000 0.01000000 0.00100000   \n",
       " 374  GDL1       2000 0.01000000 0.00100000   \n",
       " 375  GDL1       2000 0.01000000 0.00100000   \n",
       " 376  GDL1       2000 0.01000000 0.00100000   \n",
       " 377  GDL1       2000 0.01000000 0.00100000   \n",
       " \n",
       "                                               iter          w1         w2  \\\n",
       " 0    AxesSubplot(0.547727,0.125;0.352273x0.343182) 97.24613900 8.54030302   \n",
       " 1                                              100 83.84068931 6.55300704   \n",
       " 2                                              200 95.20501662 8.03612475   \n",
       " 3                                              300 96.78015530 8.30822942   \n",
       " 4                                              400 97.00182421 8.35400391   \n",
       " ..                                             ...         ...        ...   \n",
       " 373                                           1600 96.98960626 8.35724109   \n",
       " 374                                           1700 96.98960626 8.35724109   \n",
       " 375                                           1800 96.98960626 8.35724109   \n",
       " 376                                           1900 96.98960626 8.35724109   \n",
       " 377                                           2000 96.98960626 8.35724109   \n",
       " \n",
       "              w3          w4          MSE  \n",
       " 0   48.50179875  0.00000000            0  \n",
       " 1   40.27389080  0.62893984 268.23636572  \n",
       " 2   47.22092240 -0.00168356  29.25163743  \n",
       " 3   48.40142546 -0.14552695  24.00763535  \n",
       " 4   48.59804464 -0.17161955  23.88839228  \n",
       " ..          ...         ...          ...  \n",
       " 373 48.60856898 -0.17565561  23.88863569  \n",
       " 374 48.60856898 -0.17565561  23.88863569  \n",
       " 375 48.60856898 -0.17565561  23.88863569  \n",
       " 376 48.60856898 -0.17565561  23.88863569  \n",
       " 377 48.60856898 -0.17565561  23.88863569  \n",
       " \n",
       " [378 rows x 10 columns])"
      ]
     },
     "execution_count": 1422,
     "metadata": {},
     "output_type": "execute_result"
    }
   ],
   "source": [
    "eval_model_reg1(X, y, 2000, alpha=1e-2, lambda_=1e-3)"
   ]
  },
  {
   "cell_type": "markdown",
   "metadata": {},
   "source": [
    "<table>\n",
    "<tr><th>Модель</th><th>Число итераций</th><th>Alpha</th><th>Lambda</th><th>MSE</th><th>Вес 1</th><th>Вес 2</th><th>Вес 3</th><th>Вес 4</th></tr>\n",
    "    \n",
    "<tr><td>Исходные данные</td><td>-</td><td>-</td><td>-</td><td>-</td><td>97.246139</td><td>8.54030302</td><td>48.50179875</td><td>0.</td></tr>\n",
    "    \n",
    "<tr><td>GD (1e-2)</td><td>1300</td><td>1e-2</td><td>-</td><td>23.885545128111165</td><td>97.03880748</td><td>8.36268228</td><td>48.63662622</td><td>-0.17665237</td></tr>\n",
    "\n",
    "<tr><td>GDL2 (1e-2)</td><td>1800</td><td>1e-2</td><td>1e-8</td><td>23.885545128112405</td><td>97.03880649</td><td>8.36268217</td><td>48.63662566</td><td>-0.17665235</td></tr>\n",
    "\n",
    "<tr><td>GDL2 (1e-2)</td><td>1500</td><td>1e-2</td><td>1e-7</td><td>23.885545128234934</td><td>97.03879763</td><td>8.36268119</td><td>48.63662061</td><td>-0.17665214</td></tr>\n",
    "\n",
    "<tr><td>GDL2 (1e-2)</td><td>1700</td><td>1e-2</td><td>1e-6</td><td>23.885545140487885</td><td>97.03870901</td><td>8.36267139</td><td>48.63657008</td><td>-0.17665003</td></tr>\n",
    "    \n",
    "<tr><td>GDL1 (1e-2)</td><td>1600</td><td>1e-2</td><td>1e-8</td><td>23.885545128111474</td><td>97.03880699</td><td>8.36268222</td><td>48.63662594</td><td>-0.17665236</td></tr>\n",
    "\n",
    "<tr><td>GDL1 (1e-2)</td><td>1800</td><td>1e-2</td><td>1e-7</td><td>23.885545128142102</td><td>97.03880256</td><td>8.36268173</td><td>48.63662342</td><td>-0.17665227</td></tr>\n",
    "\n",
    "<tr><td>GDL1 (1e-2)</td><td>1700</td><td>1e-2</td><td>1e-6</td><td>23.885545131204964</td><td>97.03875825</td><td>8.36267683</td><td>48.63659815</td><td>-0.17665138</td></tr>\n",
    "    \n",
    "<tr><td>GDL1 (1e-2)</td><td>1700</td><td>1e-2</td><td>1e-5</td><td>23.885545437488062</td><td>97.03831522</td><td>8.36262783</td><td>48.63634549</td><td>-0.17664241</td></tr>\n",
    "\n",
    "<tr><td>GDL1 (1e-2)</td><td>1800</td><td>1e-2</td><td>1e-4</td><td>23.88557606288469</td><td>97.0338851</td><td>8.36213786</td><td>48.63381905</td><td>-0.17655269</td></tr>\n",
    "    \n",
    "<tr><td>GDL1 (1e-2)</td><td>2000</td><td>1e-2</td><td>1e-3</td><td>23.88863569200386</td><td>96.98960626</td><td>8.35724109</td><td>48.60856898</td><td>-0.17565561</td></tr>\n",
    "\n",
    "</table>"
   ]
  },
  {
   "cell_type": "code",
   "execution_count": 1423,
   "metadata": {},
   "outputs": [
    {
     "data": {
      "image/png": "[encoded data removed]",
      "text/plain": [
       "<Figure size 1152x720 with 4 Axes>"
      ]
     },
     "metadata": {
      "needs_background": "light"
     },
     "output_type": "display_data"
    }
   ],
   "source": [
    "fig , ax = plt.subplots(nrows = 2, ncols = 2, figsize=(16,10))\n",
    "axis_name(2, 'x', 'Коэффициент регуляризации')\n",
    "axis_name(2, 'y', 'Веса')\n",
    "\n",
    "#w1 - коэффициент регуляризации\n",
    "draw_bar(0, 0, 2, [[1, 1e-8], [2, 1e-7], [3, 1e-6], [4, 1e-5], [5, 1e-4], [6, 1e-3]], 'w1', 'lambda_', 'GDL1', 'royalblue',\n",
    "         0.5, 'max')\n",
    "set_title(0, 0, 2, [[1, 98, '1e-8'], [2, 97.6, '1e-7'], [3, 97.4, '1e-6'], [4, 97.4, '1e-5'], [5, 90.0, '1e-4'], \n",
    "           [6, 50, '1e-3'], [7, 97.9, 'Base']], 'center')\n",
    "ax[0][0].bar(7, df['w1'].loc[df['name']=='Base'].item(), color = 'lightcoral', width = 0.5)\n",
    "ax[0][0].set_ylim([48, 103])\n",
    "ax[0][0].set_xlim([0, 8])\n",
    "ax[0][0].text(6, 97.20, 'W1', horizontalalignment = 'left', style = 'italic', color = 'red')\n",
    "\n",
    "#w2 - коэффициент регуляризации\n",
    "draw_bar(0, 1, 2, [[1, 1e-8], [2, 1e-7], [3, 1e-6], [4, 1e-5], [5, 1e-4], [6, 1e-3]], 'w2', 'lambda_', 'GDL1', 'royalblue',\n",
    "         0.5, 'max')\n",
    "set_title(0, 1, 2, [[1, 8.5, '1e-8'], [2, 8.5, '1e-7'], [3, 8.5, '1e-6'], [4, 8.37, '1e-5'], [5, 7.5, '1e-4'], \n",
    "           [6, 3.8, '1e-3'], [7, 8.6, 'Base']], 'center')\n",
    "ax[0][1].bar(7, df['w2'].loc[df['name']=='Base'].item(), color = 'lightcoral', width = 0.5)\n",
    "ax[0][1].set_ylim([3.5, 9])\n",
    "ax[0][1].set_xlim([0, 8])\n",
    "ax[0][1].text(6, 8.525, 'W2', horizontalalignment = 'left', style = 'italic', color = 'red')\n",
    "\n",
    "#w3 - коэффициент регуляризации\n",
    "draw_bar(1, 0, 2, [[1, 1e-8], [2, 1e-7], [3, 1e-6], [4, 1e-5], [5, 1e-4], [6, 1e-3]], 'w3', 'lambda_', 'GDL1', 'royalblue',\n",
    "         0.5, 'max')\n",
    "set_title(1, 0, 2, [[1, 49, '1e-8'], [2, 49, '1e-7'], [3, 49, '1e-6'], [4, 48.6, '1e-5'], [5, 44, '1e-4'], \n",
    "           [6, 23, '1e-3'], [7, 49, 'Base']], 'center')\n",
    "ax[1][0].bar(7, df['w3'].loc[df['name']=='Base'].item(), color = 'lightcoral', width = 0.5)\n",
    "ax[1][0].set_ylim([22, 52])\n",
    "ax[1][0].set_xlim([0, 8])\n",
    "ax[1][0].text(6, 48.625, 'W3', horizontalalignment = 'left', style = 'italic', color = 'red')\n",
    "\n",
    "#w4 - коэффициент регуляризации\n",
    "draw_bar(1, 1, 2, [[1, 1e-8], [2, 1e-7], [3, 1e-6], [4, 1e-5], [5, 1e-4], [6, 1e-3]], 'w4', 'lambda_', 'GDL1', 'royalblue',\n",
    "         0.5, 'min')\n",
    "set_title(1, 1, 2, [[1, -0.27, '1e-8'], [2, -0.27, '1e-7'], [3, -0.27, '1e-6'], [4, -0.27, '1e-5'], \n",
    "                    [5, -0.1770, '1e-4'], [6, 0.5, '1e-3'], [7, 0, 'Base = 0']], 'center')\n",
    "ax[1][1].bar(7, df['w4'].loc[df['name']=='Base'].item(), color = 'lightcoral', width = 0.5)\n",
    "ax[1][1].set_ylim([-1, 1])\n",
    "ax[1][1].set_xlim([0, 8])\n",
    "ax[1][1].text(7, 0.75, 'W4', horizontalalignment = 'left', style = 'italic', color = 'red')\n",
    "\n",
    "fig.suptitle('График изменения весов от значения коэффициента регуляризации для GDL1')\n",
    "plt.show()"
   ]
  },
  {
   "cell_type": "code",
   "execution_count": 1424,
   "metadata": {},
   "outputs": [
    {
     "data": {
      "text/html": [
       "<div>\n",
       "<style scoped>\n",
       "    .dataframe tbody tr th:only-of-type {\n",
       "        vertical-align: middle;\n",
       "    }\n",
       "\n",
       "    .dataframe tbody tr th {\n",
       "        vertical-align: top;\n",
       "    }\n",
       "\n",
       "    .dataframe thead th {\n",
       "        text-align: right;\n",
       "    }\n",
       "</style>\n",
       "<table border=\"1\" class=\"dataframe\">\n",
       "  <thead>\n",
       "    <tr style=\"text-align: right;\">\n",
       "      <th></th>\n",
       "      <th>iter</th>\n",
       "      <th>w1</th>\n",
       "      <th>w2</th>\n",
       "      <th>w3</th>\n",
       "      <th>w4</th>\n",
       "      <th>MSE</th>\n",
       "    </tr>\n",
       "  </thead>\n",
       "  <tbody>\n",
       "    <tr>\n",
       "      <th>0</th>\n",
       "      <td>100</td>\n",
       "      <td>83.84068642</td>\n",
       "      <td>6.55300678</td>\n",
       "      <td>40.27388933</td>\n",
       "      <td>0.62893983</td>\n",
       "      <td>268.23646406</td>\n",
       "    </tr>\n",
       "    <tr>\n",
       "      <th>1</th>\n",
       "      <td>200</td>\n",
       "      <td>95.20501217</td>\n",
       "      <td>8.03612429</td>\n",
       "      <td>47.22091996</td>\n",
       "      <td>-0.00168349</td>\n",
       "      <td>29.25166011</td>\n",
       "    </tr>\n",
       "    <tr>\n",
       "      <th>2</th>\n",
       "      <td>300</td>\n",
       "      <td>96.78015047</td>\n",
       "      <td>8.30822890</td>\n",
       "      <td>48.40142274</td>\n",
       "      <td>-0.14552686</td>\n",
       "      <td>24.00763903</td>\n",
       "    </tr>\n",
       "    <tr>\n",
       "      <th>3</th>\n",
       "      <td>400</td>\n",
       "      <td>97.00181930</td>\n",
       "      <td>8.35400337</td>\n",
       "      <td>48.59804185</td>\n",
       "      <td>-0.17161945</td>\n",
       "      <td>23.88839284</td>\n",
       "    </tr>\n",
       "    <tr>\n",
       "      <th>4</th>\n",
       "      <td>500</td>\n",
       "      <td>97.03344986</td>\n",
       "      <td>8.36133748</td>\n",
       "      <td>48.63035064</td>\n",
       "      <td>-0.17588447</td>\n",
       "      <td>23.88561275</td>\n",
       "    </tr>\n",
       "  </tbody>\n",
       "</table>\n",
       "</div>"
      ],
      "text/plain": [
       "   iter          w1         w2          w3          w4          MSE\n",
       "0   100 83.84068642 6.55300678 40.27388933  0.62893983 268.23646406\n",
       "1   200 95.20501217 8.03612429 47.22091996 -0.00168349  29.25166011\n",
       "2   300 96.78015047 8.30822890 48.40142274 -0.14552686  24.00763903\n",
       "3   400 97.00181930 8.35400337 48.59804185 -0.17161945  23.88839284\n",
       "4   500 97.03344986 8.36133748 48.63035064 -0.17588447  23.88561275"
      ]
     },
     "execution_count": 1424,
     "metadata": {},
     "output_type": "execute_result"
    }
   ],
   "source": [
    "GDL1_df = GDL1_df.astype({'iter': np.int64})\n",
    "GDL1_df.head()"
   ]
  },
  {
   "cell_type": "markdown",
   "metadata": {},
   "source": [
    "### Стохастический градиентный спуск с использованием L1 регуляризации (Lasso)"
   ]
  },
  {
   "cell_type": "code",
   "execution_count": 1425,
   "metadata": {},
   "outputs": [],
   "source": [
    "# mini-batch GD & SGD\n",
    "def eval_SGD_L1(X, y, iterations, qty_in_batch=1, alpha=1e-4, lambda_=1e-8):\n",
    "    np.random.seed(42)\n",
    "    w = np.random.randn(X.shape[1]) # начальное приближение весов\n",
    "    n = X.shape[0] # число наблюдений\n",
    "    n_batch = n // qty_in_batch\n",
    "    if n % qty_in_batch != 0:\n",
    "        n_batch += 1\n",
    "    # print(n_batch)\n",
    "    for i in range(1, iterations + 1):\n",
    "        for b in range(n_batch):\n",
    "            start_ = qty_in_batch * b\n",
    "            end_ = qty_in_batch * (b + 1)\n",
    "            X_tmp = X[start_ : end_, :]\n",
    "            y_tmp = y[start_ : end_]\n",
    "            y_pred_tmp = np.dot(X_tmp, w)\n",
    "            err = calc_mse(y_tmp, y_pred_tmp)\n",
    "            w -= alpha * (1/n * 2 * np.dot((y_pred_tmp - y_tmp), X_tmp) + lambda_ * np.abs(w))\n",
    "        if i % 100 == 0:\n",
    "            print(i, w, err)\n",
    "            w1, w2, w3, w4 = w\n",
    "            name = 'SGDL1'\n",
    "            df.loc[len(df)] = [name, iterations, alpha, lambda_, i, w1, w2, w3, w4, err]\n",
    "    return w, df"
   ]
  },
  {
   "cell_type": "code",
   "execution_count": 1426,
   "metadata": {},
   "outputs": [
    {
     "name": "stdout",
     "output_type": "stream",
     "text": [
      "100 [83.57964397  6.52862625 40.1459323   0.6317211 ] 16.998326312743615\n",
      "200 [9.51317245e+01 8.02500647e+00 4.71756336e+01 1.32257643e-03] 0.20392728124326687\n",
      "300 [96.76343465  8.3043247  48.38950544 -0.14528248] 0.03017415677561663\n",
      "400 [96.99731758  8.3521965  48.59505214 -0.17242834] 0.029721235058425863\n"
     ]
    },
    {
     "data": {
      "text/plain": [
       "(array([96.99731758,  8.3521965 , 48.59505214, -0.17242834]),\n",
       "       name iterations      alpha    lambda_  \\\n",
       " 0     Base          0          0          0   \n",
       " 1       GD       1300 0.01000000          0   \n",
       " 2       GD       1300 0.01000000          0   \n",
       " 3       GD       1300 0.01000000          0   \n",
       " 4       GD       1300 0.01000000          0   \n",
       " ..     ...        ...        ...        ...   \n",
       " 377   GDL1       2000 0.01000000 0.00100000   \n",
       " 378  SGDL1        400 0.01000000 0.00000001   \n",
       " 379  SGDL1        400 0.01000000 0.00000001   \n",
       " 380  SGDL1        400 0.01000000 0.00000001   \n",
       " 381  SGDL1        400 0.01000000 0.00000001   \n",
       " \n",
       "                                               iter          w1         w2  \\\n",
       " 0    AxesSubplot(0.547727,0.125;0.352273x0.343182) 97.24613900 8.54030302   \n",
       " 1                                              100 83.84068931 6.55300704   \n",
       " 2                                              200 95.20501662 8.03612475   \n",
       " 3                                              300 96.78015530 8.30822942   \n",
       " 4                                              400 97.00182421 8.35400391   \n",
       " ..                                             ...         ...        ...   \n",
       " 377                                           2000 96.98960626 8.35724109   \n",
       " 378                                            100 83.57964397 6.52862625   \n",
       " 379                                            200 95.13172451 8.02500647   \n",
       " 380                                            300 96.76343465 8.30432470   \n",
       " 381                                            400 96.99731758 8.35219650   \n",
       " \n",
       "              w3          w4          MSE  \n",
       " 0   48.50179875  0.00000000            0  \n",
       " 1   40.27389080  0.62893984 268.23636572  \n",
       " 2   47.22092240 -0.00168356  29.25163743  \n",
       " 3   48.40142546 -0.14552695  24.00763535  \n",
       " 4   48.59804464 -0.17161955  23.88839228  \n",
       " ..          ...         ...          ...  \n",
       " 377 48.60856898 -0.17565561  23.88863569  \n",
       " 378 40.14593230  0.63172110  16.99832631  \n",
       " 379 47.17563361  0.00132258   0.20392728  \n",
       " 380 48.38950544 -0.14528248   0.03017416  \n",
       " 381 48.59505214 -0.17242834   0.02972124  \n",
       " \n",
       " [382 rows x 10 columns])"
      ]
     },
     "execution_count": 1426,
     "metadata": {},
     "output_type": "execute_result"
    }
   ],
   "source": [
    "eval_SGD_L1(X, y, 400, qty_in_batch=1, alpha=1e-2, lambda_=1e-8)"
   ]
  },
  {
   "cell_type": "code",
   "execution_count": 1427,
   "metadata": {},
   "outputs": [
    {
     "name": "stdout",
     "output_type": "stream",
     "text": [
      "100 [83.5770448   6.52839689 40.14461053  0.63171476] 17.006504622119984\n",
      "200 [9.51277235e+01 8.02459319e+00 4.71734457e+01 1.38770559e-03] 0.20520421156550223\n",
      "300 [96.75908888  8.30385216 48.38705878 -0.14519566] 0.030682220303348988\n",
      "400 [96.99290154  8.35170956 48.59254306 -0.17233877] 0.03022311397090803\n"
     ]
    },
    {
     "data": {
      "text/plain": [
       "(array([96.99290154,  8.35170956, 48.59254306, -0.17233877]),\n",
       "       name iterations      alpha    lambda_  \\\n",
       " 0     Base          0          0          0   \n",
       " 1       GD       1300 0.01000000          0   \n",
       " 2       GD       1300 0.01000000          0   \n",
       " 3       GD       1300 0.01000000          0   \n",
       " 4       GD       1300 0.01000000          0   \n",
       " ..     ...        ...        ...        ...   \n",
       " 381  SGDL1        400 0.01000000 0.00000001   \n",
       " 382  SGDL1        400 0.01000000 0.00000010   \n",
       " 383  SGDL1        400 0.01000000 0.00000010   \n",
       " 384  SGDL1        400 0.01000000 0.00000010   \n",
       " 385  SGDL1        400 0.01000000 0.00000010   \n",
       " \n",
       "                                               iter          w1         w2  \\\n",
       " 0    AxesSubplot(0.547727,0.125;0.352273x0.343182) 97.24613900 8.54030302   \n",
       " 1                                              100 83.84068931 6.55300704   \n",
       " 2                                              200 95.20501662 8.03612475   \n",
       " 3                                              300 96.78015530 8.30822942   \n",
       " 4                                              400 97.00182421 8.35400391   \n",
       " ..                                             ...         ...        ...   \n",
       " 381                                            400 96.99731758 8.35219650   \n",
       " 382                                            100 83.57704480 6.52839689   \n",
       " 383                                            200 95.12772354 8.02459319   \n",
       " 384                                            300 96.75908888 8.30385216   \n",
       " 385                                            400 96.99290154 8.35170956   \n",
       " \n",
       "              w3          w4          MSE  \n",
       " 0   48.50179875  0.00000000            0  \n",
       " 1   40.27389080  0.62893984 268.23636572  \n",
       " 2   47.22092240 -0.00168356  29.25163743  \n",
       " 3   48.40142546 -0.14552695  24.00763535  \n",
       " 4   48.59804464 -0.17161955  23.88839228  \n",
       " ..          ...         ...          ...  \n",
       " 381 48.59505214 -0.17242834   0.02972124  \n",
       " 382 40.14461053  0.63171476  17.00650462  \n",
       " 383 47.17344566  0.00138771   0.20520421  \n",
       " 384 48.38705878 -0.14519566   0.03068222  \n",
       " 385 48.59254306 -0.17233877   0.03022311  \n",
       " \n",
       " [386 rows x 10 columns])"
      ]
     },
     "execution_count": 1427,
     "metadata": {},
     "output_type": "execute_result"
    }
   ],
   "source": [
    "eval_SGD_L1(X, y, 400, qty_in_batch=1, alpha=1e-2, lambda_=1e-7)"
   ]
  },
  {
   "cell_type": "code",
   "execution_count": 1428,
   "metadata": {},
   "outputs": [
    {
     "name": "stdout",
     "output_type": "stream",
     "text": [
      "100 [83.55106014  6.52610389 40.13139653  0.63165135] 17.08837518898934\n",
      "200 [9.50877306e+01 8.02046240e+00 4.71515760e+01 2.03855025e-03] 0.218187816980342\n",
      "300 [96.715652    8.29912941 48.36260506 -0.14432755] 0.035994256876029494\n",
      "400 [96.94876305  8.34684296 48.56746625 -0.1714431 ] 0.035471231532565727\n"
     ]
    },
    {
     "data": {
      "text/plain": [
       "(array([96.94876305,  8.34684296, 48.56746625, -0.1714431 ]),\n",
       "       name iterations      alpha    lambda_  \\\n",
       " 0     Base          0          0          0   \n",
       " 1       GD       1300 0.01000000          0   \n",
       " 2       GD       1300 0.01000000          0   \n",
       " 3       GD       1300 0.01000000          0   \n",
       " 4       GD       1300 0.01000000          0   \n",
       " ..     ...        ...        ...        ...   \n",
       " 385  SGDL1        400 0.01000000 0.00000010   \n",
       " 386  SGDL1        400 0.01000000 0.00000100   \n",
       " 387  SGDL1        400 0.01000000 0.00000100   \n",
       " 388  SGDL1        400 0.01000000 0.00000100   \n",
       " 389  SGDL1        400 0.01000000 0.00000100   \n",
       " \n",
       "                                               iter          w1         w2  \\\n",
       " 0    AxesSubplot(0.547727,0.125;0.352273x0.343182) 97.24613900 8.54030302   \n",
       " 1                                              100 83.84068931 6.55300704   \n",
       " 2                                              200 95.20501662 8.03612475   \n",
       " 3                                              300 96.78015530 8.30822942   \n",
       " 4                                              400 97.00182421 8.35400391   \n",
       " ..                                             ...         ...        ...   \n",
       " 385                                            400 96.99290154 8.35170956   \n",
       " 386                                            100 83.55106014 6.52610389   \n",
       " 387                                            200 95.08773056 8.02046240   \n",
       " 388                                            300 96.71565200 8.29912941   \n",
       " 389                                            400 96.94876305 8.34684296   \n",
       " \n",
       "              w3          w4          MSE  \n",
       " 0   48.50179875  0.00000000            0  \n",
       " 1   40.27389080  0.62893984 268.23636572  \n",
       " 2   47.22092240 -0.00168356  29.25163743  \n",
       " 3   48.40142546 -0.14552695  24.00763535  \n",
       " 4   48.59804464 -0.17161955  23.88839228  \n",
       " ..          ...         ...          ...  \n",
       " 385 48.59254306 -0.17233877   0.03022311  \n",
       " 386 40.13139653  0.63165135  17.08837519  \n",
       " 387 47.15157596  0.00203855   0.21818782  \n",
       " 388 48.36260506 -0.14432755   0.03599426  \n",
       " 389 48.56746625 -0.17144310   0.03547123  \n",
       " \n",
       " [390 rows x 10 columns])"
      ]
     },
     "execution_count": 1428,
     "metadata": {},
     "output_type": "execute_result"
    }
   ],
   "source": [
    "eval_SGD_L1(X, y, 400, qty_in_batch=1, alpha=1e-2, lambda_=1e-6)"
   ]
  },
  {
   "cell_type": "code",
   "execution_count": 1429,
   "metadata": {},
   "outputs": [
    {
     "name": "stdout",
     "output_type": "stream",
     "text": [
      "100 [83.29191518  6.50323967 39.99962602  0.63101919] 17.915777507950178\n",
      "200 [9.46894686e+01 7.97934873e+00 4.69338548e+01 8.50250946e-03] 0.3692923587114076\n",
      "300 [96.28335208  8.2521654  48.11934884 -0.13565428] 0.11209491990591486\n",
      "400 [96.50956212  8.2984641  48.3180831  -0.1624889 ] 0.11073431720325266\n"
     ]
    },
    {
     "data": {
      "text/plain": [
       "(array([96.50956212,  8.2984641 , 48.3180831 , -0.1624889 ]),\n",
       "       name iterations      alpha    lambda_  \\\n",
       " 0     Base          0          0          0   \n",
       " 1       GD       1300 0.01000000          0   \n",
       " 2       GD       1300 0.01000000          0   \n",
       " 3       GD       1300 0.01000000          0   \n",
       " 4       GD       1300 0.01000000          0   \n",
       " ..     ...        ...        ...        ...   \n",
       " 389  SGDL1        400 0.01000000 0.00000100   \n",
       " 390  SGDL1        400 0.01000000 0.00001000   \n",
       " 391  SGDL1        400 0.01000000 0.00001000   \n",
       " 392  SGDL1        400 0.01000000 0.00001000   \n",
       " 393  SGDL1        400 0.01000000 0.00001000   \n",
       " \n",
       "                                               iter          w1         w2  \\\n",
       " 0    AxesSubplot(0.547727,0.125;0.352273x0.343182) 97.24613900 8.54030302   \n",
       " 1                                              100 83.84068931 6.55300704   \n",
       " 2                                              200 95.20501662 8.03612475   \n",
       " 3                                              300 96.78015530 8.30822942   \n",
       " 4                                              400 97.00182421 8.35400391   \n",
       " ..                                             ...         ...        ...   \n",
       " 389                                            400 96.94876305 8.34684296   \n",
       " 390                                            100 83.29191518 6.50323967   \n",
       " 391                                            200 94.68946865 7.97934873   \n",
       " 392                                            300 96.28335208 8.25216540   \n",
       " 393                                            400 96.50956212 8.29846410   \n",
       " \n",
       "              w3          w4          MSE  \n",
       " 0   48.50179875  0.00000000            0  \n",
       " 1   40.27389080  0.62893984 268.23636572  \n",
       " 2   47.22092240 -0.00168356  29.25163743  \n",
       " 3   48.40142546 -0.14552695  24.00763535  \n",
       " 4   48.59804464 -0.17161955  23.88839228  \n",
       " ..          ...         ...          ...  \n",
       " 389 48.56746625 -0.17144310   0.03547123  \n",
       " 390 39.99962602  0.63101919  17.91577751  \n",
       " 391 46.93385479  0.00850251   0.36929236  \n",
       " 392 48.11934884 -0.13565428   0.11209492  \n",
       " 393 48.31808310 -0.16248890   0.11073432  \n",
       " \n",
       " [394 rows x 10 columns])"
      ]
     },
     "execution_count": 1429,
     "metadata": {},
     "output_type": "execute_result"
    }
   ],
   "source": [
    "eval_SGD_L1(X, y, 400, qty_in_batch=1, alpha=1e-2, lambda_=1e-5)"
   ]
  },
  {
   "cell_type": "code",
   "execution_count": 1430,
   "metadata": {},
   "outputs": [
    {
     "name": "stdout",
     "output_type": "stream",
     "text": [
      "100 [80.76910747  6.28102488 38.7180482   0.62487469] 27.01053623534872\n",
      "200 [9.08676006e+01 7.58688281e+00 4.48505250e+01 6.88899947e-02] 3.85362708323818\n",
      "300 [ 9.21581941e+01  7.80759632e+00  4.58088498e+01 -5.00075785e-02] 3.017687764824399\n",
      "400 [ 9.23256765e+01  7.84185773e+00  4.59556298e+01 -7.30850599e-02] 2.9977558059523104\n"
     ]
    },
    {
     "data": {
      "text/plain": [
       "(array([ 9.23256765e+01,  7.84185773e+00,  4.59556298e+01, -7.30850599e-02]),\n",
       "       name iterations      alpha    lambda_  \\\n",
       " 0     Base          0          0          0   \n",
       " 1       GD       1300 0.01000000          0   \n",
       " 2       GD       1300 0.01000000          0   \n",
       " 3       GD       1300 0.01000000          0   \n",
       " 4       GD       1300 0.01000000          0   \n",
       " ..     ...        ...        ...        ...   \n",
       " 393  SGDL1        400 0.01000000 0.00001000   \n",
       " 394  SGDL1        400 0.01000000 0.00010000   \n",
       " 395  SGDL1        400 0.01000000 0.00010000   \n",
       " 396  SGDL1        400 0.01000000 0.00010000   \n",
       " 397  SGDL1        400 0.01000000 0.00010000   \n",
       " \n",
       "                                               iter          w1         w2  \\\n",
       " 0    AxesSubplot(0.547727,0.125;0.352273x0.343182) 97.24613900 8.54030302   \n",
       " 1                                              100 83.84068931 6.55300704   \n",
       " 2                                              200 95.20501662 8.03612475   \n",
       " 3                                              300 96.78015530 8.30822942   \n",
       " 4                                              400 97.00182421 8.35400391   \n",
       " ..                                             ...         ...        ...   \n",
       " 393                                            400 96.50956212 8.29846410   \n",
       " 394                                            100 80.76910747 6.28102488   \n",
       " 395                                            200 90.86760059 7.58688281   \n",
       " 396                                            300 92.15819406 7.80759632   \n",
       " 397                                            400 92.32567646 7.84185773   \n",
       " \n",
       "              w3          w4          MSE  \n",
       " 0   48.50179875  0.00000000            0  \n",
       " 1   40.27389080  0.62893984 268.23636572  \n",
       " 2   47.22092240 -0.00168356  29.25163743  \n",
       " 3   48.40142546 -0.14552695  24.00763535  \n",
       " 4   48.59804464 -0.17161955  23.88839228  \n",
       " ..          ...         ...          ...  \n",
       " 393 48.31808310 -0.16248890   0.11073432  \n",
       " 394 38.71804820  0.62487469  27.01053624  \n",
       " 395 44.85052505  0.06888999   3.85362708  \n",
       " 396 45.80884985 -0.05000758   3.01768776  \n",
       " 397 45.95562979 -0.07308506   2.99775581  \n",
       " \n",
       " [398 rows x 10 columns])"
      ]
     },
     "execution_count": 1430,
     "metadata": {},
     "output_type": "execute_result"
    }
   ],
   "source": [
    "eval_SGD_L1(X, y, 400, qty_in_batch=1, alpha=1e-2, lambda_=1e-4)"
   ]
  },
  {
   "cell_type": "code",
   "execution_count": 1431,
   "metadata": {},
   "outputs": [
    {
     "name": "stdout",
     "output_type": "stream",
     "text": [
      "100 [61.12208889  4.57786403 28.82558952  0.5749503 ] 164.55059649103956\n",
      "200 [64.22110735  4.97323757 30.67504477  0.38998625] 138.52234943042484\n",
      "300 [64.38202919  5.00055392 30.79271692  0.37467447] 137.77995984159034\n",
      "400 [64.39050871  5.00228193 30.80005506  0.37364396] 137.77328950649058\n"
     ]
    },
    {
     "data": {
      "text/plain": [
       "(array([64.39050871,  5.00228193, 30.80005506,  0.37364396]),\n",
       "       name iterations      alpha    lambda_  \\\n",
       " 0     Base          0          0          0   \n",
       " 1       GD       1300 0.01000000          0   \n",
       " 2       GD       1300 0.01000000          0   \n",
       " 3       GD       1300 0.01000000          0   \n",
       " 4       GD       1300 0.01000000          0   \n",
       " ..     ...        ...        ...        ...   \n",
       " 397  SGDL1        400 0.01000000 0.00010000   \n",
       " 398  SGDL1        400 0.01000000 0.00100000   \n",
       " 399  SGDL1        400 0.01000000 0.00100000   \n",
       " 400  SGDL1        400 0.01000000 0.00100000   \n",
       " 401  SGDL1        400 0.01000000 0.00100000   \n",
       " \n",
       "                                               iter          w1         w2  \\\n",
       " 0    AxesSubplot(0.547727,0.125;0.352273x0.343182) 97.24613900 8.54030302   \n",
       " 1                                              100 83.84068931 6.55300704   \n",
       " 2                                              200 95.20501662 8.03612475   \n",
       " 3                                              300 96.78015530 8.30822942   \n",
       " 4                                              400 97.00182421 8.35400391   \n",
       " ..                                             ...         ...        ...   \n",
       " 397                                            400 92.32567646 7.84185773   \n",
       " 398                                            100 61.12208889 4.57786403   \n",
       " 399                                            200 64.22110735 4.97323757   \n",
       " 400                                            300 64.38202919 5.00055392   \n",
       " 401                                            400 64.39050871 5.00228193   \n",
       " \n",
       "              w3          w4          MSE  \n",
       " 0   48.50179875  0.00000000            0  \n",
       " 1   40.27389080  0.62893984 268.23636572  \n",
       " 2   47.22092240 -0.00168356  29.25163743  \n",
       " 3   48.40142546 -0.14552695  24.00763535  \n",
       " 4   48.59804464 -0.17161955  23.88839228  \n",
       " ..          ...         ...          ...  \n",
       " 397 45.95562979 -0.07308506   2.99775581  \n",
       " 398 28.82558952  0.57495030 164.55059649  \n",
       " 399 30.67504477  0.38998625 138.52234943  \n",
       " 400 30.79271692  0.37467447 137.77995984  \n",
       " 401 30.80005506  0.37364396 137.77328951  \n",
       " \n",
       " [402 rows x 10 columns])"
      ]
     },
     "execution_count": 1431,
     "metadata": {},
     "output_type": "execute_result"
    }
   ],
   "source": [
    "eval_SGD_L1(X, y, 400, qty_in_batch=1, alpha=1e-2, lambda_=1e-3)"
   ]
  },
  {
   "cell_type": "markdown",
   "metadata": {},
   "source": [
    "<table>\n",
    "<tr><th>Модель</th><th>Число итераций</th><th>Alpha</th><th>Lambda</th><th>MSE</th><th>Вес 1</th><th>Вес 2</th><th>Вес 3</th><th>Вес 4</th></tr>\n",
    "    \n",
    "<tr><td>Исходные данные</td><td>-</td><td>-</td><td>-</td><td>-</td><td>97.246139</td><td>8.54030302</td><td>48.50179875</td><td>0.</td></tr>\n",
    "    \n",
    "<tr><td>SGD (1e-2)</td><td>1900</td><td>1e-2</td><td>-</td><td>0.03253962205253113</td><td>97.03765463</td><td>8.36153553</td><td>48.63648456</td><td>-0.17780612</td></tr>\n",
    "\n",
    "<tr><td>SGDL2 (1e-2)</td><td>1800</td><td>1e-2</td><td>1e-7</td><td>0.03312084145425702</td><td>97.03273002</td><td>8.36099029</td><td>48.6336778</td><td>-0.17770621</td></tr>\n",
    "    \n",
    "<tr><td>SGDL1 (1e-2)</td><td>400</td><td>1e-2</td><td>1e-8</td><td>0.029721235058425863</td><td>96.99731758</td><td>8.3521965</td><td>48.6336778</td><td>-0.17242834</td></tr>\n",
    "    \n",
    "<tr><td>SGDL1 (1e-2)</td><td>400</td><td>1e-2</td><td>1e-7</td><td>0.03022311397090803</td><td>96.99290154</td><td>8.35170956</td><td>48.59254306</td><td>-0.17233877</td></tr>\n",
    "    \n",
    "<tr><td>SGDL1 (1e-2)</td><td>400</td><td>1e-2</td><td>1e-6</td><td>0.035471231532565727</td><td>96.94876305</td><td>8.34684296</td><td>48.56746625</td><td>-0.1714431</td></tr>\n",
    "   \n",
    "<tr><td>SGDL1 (1e-2)</td><td>400</td><td>1e-2</td><td>1e-5</td><td>0.11073431720325266</td><td>96.50956212</td><td>8.2984641</td><td>48.3180831</td><td>-0.1624889</td></tr>\n",
    "\n",
    "<tr><td>SGDL1 (1e-2)</td><td>400</td><td>1e-2</td><td>1e-4</td><td>2.9977558059523104</td><td>9.23256765e+01</td><td>7.84185773e+00</td><td>4.59556298e+01</td><td>-7.30850599e-02</td></tr>\n",
    "    \n",
    "<tr><td>SGDL1 (1e-2)</td><td>400</td><td>1e-2</td><td>1e-3</td><td>137.77328950649058</td><td>64.39050871</td><td>5.00228193</td><td>30.80005506</td><td>0.37364396</td></tr>\n",
    "   \n",
    "</table>"
   ]
  },
  {
   "cell_type": "markdown",
   "metadata": {},
   "source": [
    "### Задача 4"
   ]
  },
  {
   "cell_type": "markdown",
   "metadata": {},
   "source": [
    "Построить график изменения весов от числа итераций при GD и SGD (на одном рисунке)."
   ]
  },
  {
   "cell_type": "markdown",
   "metadata": {},
   "source": [
    "<font color='red'><b> Я не стала строить все на одной диаграмме - так как размерность весов разная, а их отличия между алгоритмами столь минимальны, что при построении на одной диаграмме - просто ничего не видно."
   ]
  },
  {
   "cell_type": "code",
   "execution_count": null,
   "metadata": {},
   "outputs": [],
   "source": [
    "fig , ax = plt.subplots(nrows = 2, ncols = 2, figsize=(16,10))\n",
    " \n",
    "ax[0][0].plot(GD_df['iter'], GD_df['w1'], color = 'green', label = 'GD_w1') \n",
    "ax[0][0].plot(SGD_df['iter'], SGD_df['w1'], color = 'blue', label = 'SGD_w1') \n",
    "ax[0][0].set_ylim([97.03, 97.04])\n",
    "ax[0][0].set_xlim([450, 2000])\n",
    "ax[0][0].legend(['GD w1', 'SGD w1'], loc=4)\n",
    "ax[0][0].set_xlabel('Количество итераций')\n",
    "ax[0][0].set_ylabel('Веса')\n",
    "\n",
    "ax[0][1].plot(GD_df['iter'], GD_df['w2'], color = 'green', label = 'GD_w2') \n",
    "ax[0][1].plot(SGD_df['iter'], SGD_df['w2'], color = 'blue', label = 'SGD_w2') \n",
    "ax[0][1].set_ylim([8.35, 8.365])\n",
    "ax[0][1].set_xlim([350, 2000])\n",
    "ax[0][1].legend(['GD w2', 'SGD w2'], loc=4)\n",
    "ax[0][1].set_xlabel('Количество итераций')\n",
    "ax[0][1].set_ylabel('Веса')\n",
    "\n",
    "ax[1][0].plot(GD_df['iter'], GD_df['w3'], color = 'green', label = 'GD_w3') \n",
    "ax[1][0].plot(SGD_df['iter'], SGD_df['w3'], color = 'blue', label = 'SGD_w3') \n",
    "ax[1][0].set_ylim([48.635, 48.637])\n",
    "ax[1][0].set_xlim([500, 2000])\n",
    "ax[1][0].legend(['GD w3', 'SGD w3'], loc=4)\n",
    "ax[1][0].set_xlabel('Количество итераций')\n",
    "ax[1][0].set_ylabel('Веса')\n",
    "\n",
    "ax[1][1].plot(GD_df['iter'], GD_df['w4'], color = 'green', label = 'GD_w4') \n",
    "ax[1][1].plot(SGD_df['iter'], SGD_df['w4'], color = 'blue', label = 'SGD_w4') \n",
    "ax[1][1].set_ylim([-0.178, -0.171])\n",
    "ax[1][1].set_xlim([350, 2000])\n",
    "ax[1][1].legend(['GD w4', 'SGD w4'], loc=4)\n",
    "ax[1][1].set_xlabel('Количество итераций')\n",
    "ax[1][1].set_ylabel('Веса')\n",
    "\n",
    "fig.suptitle('График изменения весов от числа итераций при GD и SGD')\n",
    "plt.show()"
   ]
  },
  {
   "cell_type": "markdown",
   "metadata": {},
   "source": [
    "### Задача 5"
   ]
  },
  {
   "cell_type": "markdown",
   "metadata": {},
   "source": [
    "Построить график изменения весов для L1 и L2 регуляризации от коэффициента регуляризации."
   ]
  }
 ],
 "metadata": {
  "kernelspec": {
   "display_name": "Python 3",
   "language": "python",
   "name": "python3"
  },
  "language_info": {
   "codemirror_mode": {
    "name": "ipython",
    "version": 3
   },
   "file_extension": ".py",
   "mimetype": "text/x-python",
   "name": "python",
   "nbconvert_exporter": "python",
   "pygments_lexer": "ipython3",
   "version": "3.8.5"
  }
 },
 "nbformat": 4,
 "nbformat_minor": 4
}
