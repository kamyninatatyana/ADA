{
 "cells": [
  {
   "cell_type": "markdown",
   "metadata": {},
   "source": [
    "## Урок 6"
   ]
  },
  {
   "cell_type": "markdown",
   "metadata": {},
   "source": [
    "### Задание 1"
   ]
  },
  {
   "cell_type": "markdown",
   "metadata": {},
   "source": [
    "Для реализованной в методичке модели градиентного бустинга построить графики зависимости ошибки от количества деревьев в ансамбле и от максимальной глубины деревьев.\n",
    "Сделать выводы о зависимости ошибки от этих параметров. Подобрать оптимальные значения этих гиперпараметров."
   ]
  },
  {
   "cell_type": "code",
   "execution_count": 113,
   "metadata": {},
   "outputs": [],
   "source": [
    "from sklearn.tree import DecisionTreeRegressor\n",
    "from sklearn import model_selection\n",
    "import numpy as np\n",
    "import matplotlib.pyplot as plt"
   ]
  },
  {
   "cell_type": "code",
   "execution_count": 114,
   "metadata": {},
   "outputs": [],
   "source": [
    "from sklearn.datasets import load_diabetes"
   ]
  },
  {
   "cell_type": "code",
   "execution_count": 115,
   "metadata": {},
   "outputs": [
    {
     "data": {
      "text/plain": [
       "((442, 10), (442,))"
      ]
     },
     "execution_count": 115,
     "metadata": {},
     "output_type": "execute_result"
    }
   ],
   "source": [
    "X, y = load_diabetes(return_X_y=True)\n",
    "X.shape, y.shape"
   ]
  },
  {
   "cell_type": "code",
   "execution_count": 116,
   "metadata": {},
   "outputs": [],
   "source": [
    "X_train, X_test, y_train, y_test = model_selection.train_test_split(X, y, test_size=0.25, random_state=42)"
   ]
  },
  {
   "cell_type": "code",
   "execution_count": 117,
   "metadata": {},
   "outputs": [],
   "source": [
    "def gb_predict(X, trees_list, coef_list, eta):\n",
    "    # Реализуемый алгоритм градиентного бустинга будет инициализироваться нулевыми значениями,\n",
    "    # поэтому все деревья из списка trees_list уже являются дополнительными и при предсказании \n",
    "    # прибавляются с шагом eta\n",
    "    return np.array([sum([\n",
    "        eta * coef * alg.predict([x])[0] for alg, coef in zip(trees_list, coef_list)]) \n",
    "                     for x in X])"
   ]
  },
  {
   "cell_type": "code",
   "execution_count": 118,
   "metadata": {},
   "outputs": [],
   "source": [
    "def mean_squared_error(y_real, prediction):\n",
    "    return (sum((y_real - prediction) ** 2)) / len(y_real)"
   ]
  },
  {
   "cell_type": "code",
   "execution_count": 119,
   "metadata": {},
   "outputs": [],
   "source": [
    "def bias(y, z):\n",
    "    return - 2 * (z - y)"
   ]
  },
  {
   "cell_type": "code",
   "execution_count": 120,
   "metadata": {},
   "outputs": [],
   "source": [
    "def gb_fit(n_trees, max_depth, X_train, X_test, y_train, y_test, coefs, eta):\n",
    "    \n",
    "    # eta - скорость обучения\n",
    "    # Деревья будем записывать в список\n",
    "    trees = []\n",
    "    \n",
    "    # Будем записывать ошибки на обучающей и тестовой выборке на каждой итерации в список\n",
    "    train_errors = []\n",
    "    test_errors = []\n",
    "    \n",
    "    for i in range(n_trees):\n",
    "        tree = DecisionTreeRegressor(max_depth=max_depth, random_state=42)\n",
    "\n",
    "        # инициализируем бустинг начальным алгоритмом, возвращающим ноль, \n",
    "        # поэтому первый алгоритм просто обучаем на выборке и добавляем в список\n",
    "        if len(trees) == 0:\n",
    "            # обучаем первое дерево на обучающей выборке\n",
    "            tree.fit(X_train, y_train)\n",
    "            \n",
    "            train_errors.append(mean_squared_error(y_train, gb_predict(X_train, trees, coefs, eta)))\n",
    "            test_errors.append(mean_squared_error(y_test, gb_predict(X_test, trees, coefs, eta)))\n",
    "        else:\n",
    "            # Получим ответы на текущей композиции\n",
    "            z_train = gb_predict(X_train, trees, coefs, eta)\n",
    "            \n",
    "            # алгоритмы начиная со второго обучаем на сдвиг\n",
    "            tree.fit(X_train, bias(y_train, z_train))\n",
    "            \n",
    "            train_errors.append(mean_squared_error(y_train, gb_predict(X_train, trees, coefs, eta)))\n",
    "            test_errors.append(mean_squared_error(y_test, gb_predict(X_test, trees, coefs, eta)))\n",
    "\n",
    "        trees.append(tree)\n",
    "        \n",
    "    return trees, train_errors, test_errors"
   ]
  },
  {
   "cell_type": "markdown",
   "metadata": {},
   "source": [
    "<b>На уроке наименьшая ошибка была найдена по следующим параметрам:"
   ]
  },
  {
   "cell_type": "code",
   "execution_count": 165,
   "metadata": {},
   "outputs": [],
   "source": [
    "n_trees_25 = 25\n",
    "coefs = [1] * n_trees\n",
    "max_depth = 3\n",
    "eta = 0.05\n",
    "\n",
    "trees_25, train_errors_25, test_errors_25 = gb_fit(n_trees_25, max_depth, X_train, X_test, y_train, y_test, coefs, eta)"
   ]
  },
  {
   "cell_type": "code",
   "execution_count": 166,
   "metadata": {},
   "outputs": [],
   "source": [
    "def evaluate_alg(X_train, X_test, y_train, y_test, trees, coefs, eta):\n",
    "    train_prediction = gb_predict(X_train, trees, coefs, eta)\n",
    "    test_prediction = gb_predict(X_test, trees, coefs, eta)\n",
    "\n",
    "    print(f'Деревьев: {n_trees}. Глубина: {max_depth}. Шаг: {eta}.\\\n",
    "    Ошибка трейн: {round(mean_squared_error(y_train, train_prediction))}.\\\n",
    "    Ошибка тест: {round(mean_squared_error(y_test, test_prediction))}.')    "
   ]
  },
  {
   "cell_type": "code",
   "execution_count": 167,
   "metadata": {},
   "outputs": [
    {
     "name": "stdout",
     "output_type": "stream",
     "text": [
      "Деревьев: 100. Глубина: 3. Шаг: 0.05.    Ошибка трейн: 2104.    Ошибка тест: 2993.\n"
     ]
    }
   ],
   "source": [
    "evaluate_alg(X_train, X_test, y_train, y_test, trees_25, coefs, eta)"
   ]
  },
  {
   "cell_type": "code",
   "execution_count": 208,
   "metadata": {},
   "outputs": [],
   "source": [
    "def get_error_plot(n_trees, train_err, test_err, ymax):\n",
    "    plt.figure(figsize=(8, 6))\n",
    "    plt.xlabel('Iteration number')\n",
    "    plt.ylabel('MSE')\n",
    "    plt.xlim(0, n_trees)\n",
    "    plt.ylim(0, ymax)\n",
    "    plt.plot(list(range(n_trees)), train_err, label='train error')\n",
    "    plt.plot(list(range(n_trees)), test_err, label='test error')\n",
    "    plt.legend(loc='upper right')\n",
    "    plt.show()"
   ]
  },
  {
   "cell_type": "code",
   "execution_count": 209,
   "metadata": {},
   "outputs": [
    {
     "data": {
      "image/png": "[encoded data removed]",
      "text/plain": [
       "<Figure size 576x432 with 1 Axes>"
      ]
     },
     "metadata": {
      "needs_background": "light"
     },
     "output_type": "display_data"
    }
   ],
   "source": [
    "get_error_plot(n_trees_25, train_errors_25, test_errors_25, max(train_errors_25)*1.1)"
   ]
  },
  {
   "cell_type": "markdown",
   "metadata": {},
   "source": [
    "Попробуем определить количество деревьев, при котором ошибка будет наименьшей."
   ]
  },
  {
   "cell_type": "code",
   "execution_count": 184,
   "metadata": {},
   "outputs": [
    {
     "name": "stdout",
     "output_type": "stream",
     "text": [
      "test_errors_100=[26711.73873873874, 24346.945749023584, 20262.53048266786, 16860.19758092093, 14111.316878990516, 11924.862068017928, 10118.731849654505, 8717.327033605925, 7597.207104206079, 6630.349556335033, 5836.188084895494, 5247.421521799444, 4763.501499232097, 4379.765273482544, 4043.7368574405255, 3782.2157768619218, 3601.1373564483565, 3459.6468518414013, 3322.4072454445386, 3219.4217394958323, 3122.147120782329, 3073.7997721308466, 3035.4405368315647, 3022.176032741318, 3005.3035126596046, 2993.4572220304362, 2989.5025903638325, 2975.3463235810245, 2971.1595575027145, 2968.8894877530975, 2976.9388489724047, 2981.7886129455237, 2980.0138878199004, 2963.0879574675564, 2967.5068252472147, 2989.860776289201, 3002.0617570458344, 3011.11834091481, 3014.082380719929, 3005.340578144629, 2997.1583454222005, 2982.274066537032, 3000.109209547173, 3018.7030247616567, 3046.8017141159016, 3057.82333083493, 3060.0697947163226, 3058.301837479964, 3056.8612221631565, 3042.2054718841105, 3047.841823204035, 3052.934525222806, 3064.623659156811, 3103.514337162939, 3101.0028461543743, 3108.3483662523076, 3109.9551925730834, 3122.2309374923775, 3111.760130945375, 3101.727636707155, 3112.7918044589605, 3118.629407936609, 3116.4994775851897, 3112.5331838429497, 3113.8612008193086, 3124.8462654297155, 3126.134445075512, 3121.324582444459, 3148.5683249852345, 3151.195314229404, 3161.8671486633066, 3171.855156342799, 3174.6609945236664, 3169.829060147548, 3170.6389492327726, 3167.261475518078, 3166.65507358931, 3169.723542027788, 3173.333545240377, 3169.8860363103986, 3184.0370397971255, 3183.832970759808, 3190.5927112880013, 3186.4808321307687, 3194.139777317246, 3195.3389446463025, 3194.53164273798, 3200.053941314477, 3200.872031042983, 3204.490974706474, 3201.8205036286936, 3205.989494517004, 3206.6277527196903, 3207.5278205455024, 3214.1278657681573, 3226.8750923936796, 3218.7301433285597, 3208.6287772353667, 3221.177060544302, 3215.6679311983994]\n",
      "min(test_errors_100)=2963.0879574675564, индекс: 33\n"
     ]
    }
   ],
   "source": [
    "n_trees_100 = 100\n",
    "coefs = [1] * n_trees\n",
    "max_depth = 3\n",
    "eta = 0.05\n",
    "\n",
    "trees_100, train_errors_100, test_errors_100 = gb_fit(n_trees_100, max_depth, X_train, X_test, y_train, y_test, coefs, eta)\n",
    "print(f'{test_errors_100=}')\n",
    "print(f'{min(test_errors_100)=}, индекс: {test_errors_100.index(min(test_errors_100))}')\n",
    "\n",
    "\n",
    "#2963.0879574675564\n",
    "#33"
   ]
  },
  {
   "cell_type": "code",
   "execution_count": 228,
   "metadata": {},
   "outputs": [
    {
     "data": {
      "image/png": "[encoded data removed]",
      "text/plain": [
       "<Figure size 576x432 with 1 Axes>"
      ]
     },
     "metadata": {
      "needs_background": "light"
     },
     "output_type": "display_data"
    },
    {
     "data": {
      "image/png": "[encoded data removed]",
      "text/plain": [
       "<Figure size 576x432 with 1 Axes>"
      ]
     },
     "metadata": {
      "needs_background": "light"
     },
     "output_type": "display_data"
    }
   ],
   "source": [
    "get_error_plot(n_trees_100, train_errors_100, test_errors_100, max(train_errors_100))\n",
    "get_error_plot(n_trees_100, train_errors_100, test_errors_100, 4000)"
   ]
  },
  {
   "cell_type": "markdown",
   "metadata": {},
   "source": [
    "Увеличенную диаграмму интересно посмотреть, так как на ней видно, что у кривых несколько локальных минимумов."
   ]
  },
  {
   "cell_type": "markdown",
   "metadata": {},
   "source": [
    "<b> Вывод:</b> Оптимальное количество n_trees = 34. Минимум = 2963.0879574675564"
   ]
  },
  {
   "cell_type": "markdown",
   "metadata": {},
   "source": [
    "Теперь подберем оптимальную глубину дерева:"
   ]
  },
  {
   "cell_type": "code",
   "execution_count": 218,
   "metadata": {},
   "outputs": [
    {
     "name": "stdout",
     "output_type": "stream",
     "text": [
      "[26711.73873873874, 24401.253611528267, 20292.415556571756, 16970.71987312888, 14331.172623011937, 12151.285762502697, 10363.832648426229, 8934.811025284494, 7839.36068112654, 7000.27072698702, 6211.031982729819, 5637.311047918854, 5128.947794609292, 4781.84775533035, 4414.231286873111, 4176.619294523169, 3972.8137406276082, 3832.5459393370515, 3664.191300132364, 3543.0162111669274, 3466.992136102172, 3356.987833944672, 3314.0027791772536, 3264.8599360552585, 3199.734085852069, 3180.35468742704, 3164.976073417435, 3144.6520421875316, 3101.1500058087945, 3062.845855227914, 3032.631298464945, 3008.3941670781046, 2999.5086344478864, 2998.896014992839, 2972.587287837855, 2956.90814307924, 2939.970836723613, 2916.9040114048053, 2907.0068352695203, 2893.356563821193, 2892.2493047134362, 2894.964599768799, 2891.67507674606, 2882.6974770631973, 2865.1477341753243, 2855.3898621115, 2860.3832566643346, 2859.257575239987, 2859.0666383884873, 2853.331496031549, 2836.720364594743, 2840.2635915554188, 2842.5621046199476, 2844.7907385990916, 2833.812815955506, 2840.335285968503, 2840.742441675419, 2830.1934201144645, 2819.4465217342677, 2808.0999026847826, 2808.453930177445, 2804.753247898072, 2808.6449451250164, 2817.916210297388, 2812.2163321208695, 2813.7715265060488, 2811.4589845178757, 2800.831005035476, 2794.2633527140247, 2785.500973755811, 2786.1988143180715, 2795.237146125184, 2799.8036104089256, 2790.1706896606847, 2793.993981458385, 2796.9665073424612, 2801.815279077146, 2798.1441866608084, 2797.7000695836405, 2797.8764046302294, 2797.694582508854, 2790.1078819808595, 2792.8393227195634, 2796.109207902808, 2804.6557918958797, 2800.450943045691, 2791.227076865347, 2792.43064884527, 2783.772759627407, 2792.288702234519, 2796.1733104306636, 2803.694765469388, 2795.1304265348513, 2800.137065498497, 2800.275304535921, 2799.883251779175, 2793.5225295113796, 2794.756769142484, 2795.4664658843367, 2796.437363829114]\n",
      "2783.772759627407\n",
      "88\n"
     ]
    }
   ],
   "source": [
    "n_trees_d1 = 100\n",
    "coefs = [1] * n_trees\n",
    "max_depth_d1 = 1\n",
    "eta = 0.05\n",
    "\n",
    "trees_d1, train_errors_d1, test_errors_d1 = gb_fit(n_trees_d1, max_depth_d1, X_train, X_test, y_train, y_test, coefs, eta)  \n",
    "\n",
    "print(test_errors_d1)\n",
    "print(min(test_errors_d1))\n",
    "print(test_errors_d1.index(min(test_errors_d1)))"
   ]
  },
  {
   "cell_type": "markdown",
   "metadata": {},
   "source": [
    "<b>Вывод:</b> При глубине дерева 1, оптимальное количество деревьев 89, минимум равен 2783.772759627407"
   ]
  },
  {
   "cell_type": "code",
   "execution_count": 219,
   "metadata": {},
   "outputs": [
    {
     "name": "stdout",
     "output_type": "stream",
     "text": [
      "[26711.73873873874, 24370.4612452326, 20248.585302263076, 16824.2417548436, 14123.03759994083, 11944.438015326228, 10129.493832277714, 8663.3373246962, 7524.4553601938405, 6612.98956492995, 5955.227684901946, 5301.875455207022, 4824.479788809631, 4499.699225608368, 4153.452820716345, 3880.7317466505015, 3673.0403981334357, 3557.055634814291, 3402.9512338372547, 3278.67984719561, 3196.3954256049246, 3149.394887603158, 3104.305231419607, 3062.8830368474037, 3005.578842524469, 2992.1300068747155, 2981.6310260580135, 2967.6784041584447, 2944.5483998860777, 2929.997586051719, 2928.105124688287, 2900.5858440682823, 2904.434900515893, 2895.2920115967772, 2906.263798592195, 2914.5257648494953, 2910.8672137123217, 2906.4124767598723, 2915.6206539103796, 2899.47590659085, 2906.9774093634264, 2911.769578590584, 2897.725506857514, 2887.615135713898, 2896.1952272038493, 2888.6814441056977, 2899.4267820898845, 2896.2316783209794, 2894.8875395355485, 2877.8218320140118, 2887.3703554686103, 2886.8924134706085, 2891.1725772927975, 2906.4270751797867, 2889.871801900519, 2896.2380811659355, 2929.330532836279, 2935.778741075389, 2934.6832997169117, 2922.157752208158, 2940.6063251355595, 2937.495487889538, 2943.3188083268456, 2959.6291188965683, 2967.412056743506, 2962.0324299393064, 2962.35679278178, 2950.5488805042787, 2943.5990678085354, 2942.525045092859, 2947.8108082410877, 2947.637142124323, 2982.5097339625186, 2985.885751139502, 2988.263515841006, 3006.3159756363934, 3008.856932310537, 3012.990449463448, 3013.8886782651916, 3007.289383359579, 3012.31703789751, 3017.226644379666, 3020.700632518256, 3016.58585661876, 3022.120256652778, 3016.9270110906245, 3019.7592106057336, 3008.0311742175227, 3009.305899500753, 3008.5659396739793, 3029.3904252181105, 3035.086164879446, 3042.675179608996, 3034.214837597741, 3033.6006543527214, 3031.621693929763, 3037.8499292954148, 3032.8334101440214, 3038.613317703632, 3021.2652509080817]\n",
      "2877.8218320140118\n",
      "49\n"
     ]
    }
   ],
   "source": [
    "n_trees_d2 = 100\n",
    "coefs = [1] * n_trees\n",
    "max_depth_d2 = 2\n",
    "eta = 0.05\n",
    "\n",
    "trees_d2, train_errors_d2, test_errors_d2 = gb_fit(n_trees_d2, max_depth_d2, X_train, X_test, y_train, y_test, coefs, eta)  \n",
    "\n",
    "print(test_errors_d2)\n",
    "print(min(test_errors_d2))\n",
    "print(test_errors_d2.index(min(test_errors_d2)))"
   ]
  },
  {
   "cell_type": "markdown",
   "metadata": {},
   "source": [
    "<b>Вывод:</b> При глубине дерева 2, оптимальное количество деревьев 50, минимум равен 2877.8218320140118"
   ]
  },
  {
   "cell_type": "code",
   "execution_count": 220,
   "metadata": {},
   "outputs": [
    {
     "name": "stdout",
     "output_type": "stream",
     "text": [
      "[26711.73873873874, 24357.67926731597, 20284.435935642992, 16939.860863564743, 14233.405510355222, 12124.26767238541, 10302.176311584448, 8914.710753816575, 7747.430678390078, 6845.238931655876, 6077.395595258388, 5506.920982632908, 4942.141436724462, 4548.242183930948, 4258.129352310611, 4010.021268701601, 3778.796350531743, 3628.012629299963, 3533.132034160121, 3433.5966843166007, 3361.273249928364, 3298.136701610176, 3255.9683365399587, 3210.853703842159, 3179.4964234005947, 3146.968946215392, 3113.2175028755637, 3132.4612299166215, 3134.832980689005, 3138.870053673051, 3117.1040409575808, 3110.0757311309167, 3078.887201049908, 3068.894365764255, 3062.6442077662637, 3067.8056656328586, 3069.860580540901, 3050.0757123815874, 3049.144047603781, 3032.3478469428283, 3039.3804911476855, 3065.8958719222346, 3071.808064044453, 3073.1538224145906, 3056.0749256482777, 3050.4873027978924, 3052.2391958670605, 3070.2753506360737, 3078.878973067415, 3080.973290492186]\n",
      "3032.3478469428283\n",
      "39\n"
     ]
    }
   ],
   "source": [
    "n_trees_d4 = 50\n",
    "coefs = [1] * n_trees\n",
    "max_depth_d4 = 4\n",
    "eta = 0.05\n",
    "\n",
    "trees_d4, train_errors_d4, test_errors_d4 = gb_fit(n_trees_d4, max_depth_d4, X_train, X_test, y_train, y_test, coefs, eta)  \n",
    "\n",
    "print(test_errors_d4)\n",
    "print(min(test_errors_d4))\n",
    "print(test_errors_d4.index(min(test_errors_d4)))"
   ]
  },
  {
   "cell_type": "markdown",
   "metadata": {},
   "source": [
    "<b>Вывод:</b> При глубине дерева 4, оптимальное количество деревьев 40, минимум равен 3032.3478469428283"
   ]
  },
  {
   "cell_type": "code",
   "execution_count": 221,
   "metadata": {},
   "outputs": [
    {
     "name": "stdout",
     "output_type": "stream",
     "text": [
      "[26711.73873873874, 24308.996106514078, 20395.71253180888, 17025.675295470945, 14252.727407066246, 12093.29281538389, 10374.582321158407, 8861.869587108693, 7727.095479125964, 6877.348227146519, 6120.704793954695, 5553.623162618222, 5084.046987300423, 4736.469017043626, 4434.2524984276915, 4203.7238900153125, 4053.2178984437173, 3903.5961222586293, 3779.6108773493247, 3671.6786693680983, 3673.909781878181, 3627.613486457798, 3627.792669251349, 3652.3905826877167, 3624.3269077523146, 3613.884984325194, 3616.230272231371, 3639.1995804250796, 3606.0094059174157, 3640.8452814967677, 3648.918002980096, 3644.38781206391, 3663.515988555597, 3664.184717959323, 3668.693277113887, 3676.402520993523, 3669.1793617716894, 3670.7765435140673, 3669.8014871053606, 3655.505644906792]\n",
      "3606.0094059174157\n",
      "28\n"
     ]
    }
   ],
   "source": [
    "n_trees_d5 = 40\n",
    "coefs = [1] * n_trees\n",
    "max_depth_d5 = 5\n",
    "eta = 0.05\n",
    "\n",
    "trees_d5, train_errors_d5, test_errors_d5 = gb_fit(n_trees_d5, max_depth_d5, X_train, X_test, y_train, y_test, coefs, eta)  \n",
    "\n",
    "print(test_errors_d5)\n",
    "print(min(test_errors_d5))\n",
    "print(test_errors_d5.index(min(test_errors_d5)))"
   ]
  },
  {
   "cell_type": "markdown",
   "metadata": {},
   "source": [
    "<b>Вывод:</b> При глубине дерева 5, оптимальное количество деревьев 29, минимум равен 3606.0094059174157"
   ]
  },
  {
   "cell_type": "code",
   "execution_count": 234,
   "metadata": {},
   "outputs": [],
   "source": [
    "X1 = np.array([89, 50, 34, 40, 29])\n",
    "X2 = np.array([1, 2, 3, 4, 5])\n",
    "y = np.array([2783, 2877, 2963, 3032, 3606])"
   ]
  },
  {
   "cell_type": "code",
   "execution_count": 231,
   "metadata": {},
   "outputs": [],
   "source": [
    "X1 = [89, 50, 40, 34, 29]\n",
    "X2 = [1, 2, 3, 4, 5]\n",
    "y = [2783, 2877, 2963, 3032, 3606]"
   ]
  },
  {
   "cell_type": "code",
   "execution_count": 235,
   "metadata": {},
   "outputs": [
    {
     "ename": "ValueError",
     "evalue": "The truth value of an array with more than one element is ambiguous. Use a.any() or a.all()",
     "output_type": "error",
     "traceback": [
      "\u001b[1;31m---------------------------------------------------------------------------\u001b[0m",
      "\u001b[1;31mValueError\u001b[0m                                Traceback (most recent call last)",
      "\u001b[1;32m<ipython-input-235-c9c1de0a961b>\u001b[0m in \u001b[0;36m<module>\u001b[1;34m\u001b[0m\n\u001b[1;32m----> 1\u001b[1;33m \u001b[0mget_error_plot\u001b[0m\u001b[1;33m(\u001b[0m\u001b[0mX1\u001b[0m\u001b[1;33m,\u001b[0m \u001b[0mX2\u001b[0m\u001b[1;33m,\u001b[0m \u001b[0my\u001b[0m\u001b[1;33m,\u001b[0m \u001b[0mmax\u001b[0m\u001b[1;33m(\u001b[0m\u001b[0mX2\u001b[0m\u001b[1;33m)\u001b[0m\u001b[1;33m)\u001b[0m\u001b[1;33m\u001b[0m\u001b[1;33m\u001b[0m\u001b[0m\n\u001b[0m",
      "\u001b[1;32m<ipython-input-208-a8dacf497f76>\u001b[0m in \u001b[0;36mget_error_plot\u001b[1;34m(n_trees, train_err, test_err, ymax)\u001b[0m\n\u001b[0;32m      3\u001b[0m     \u001b[0mplt\u001b[0m\u001b[1;33m.\u001b[0m\u001b[0mxlabel\u001b[0m\u001b[1;33m(\u001b[0m\u001b[1;34m'Iteration number'\u001b[0m\u001b[1;33m)\u001b[0m\u001b[1;33m\u001b[0m\u001b[1;33m\u001b[0m\u001b[0m\n\u001b[0;32m      4\u001b[0m     \u001b[0mplt\u001b[0m\u001b[1;33m.\u001b[0m\u001b[0mylabel\u001b[0m\u001b[1;33m(\u001b[0m\u001b[1;34m'MSE'\u001b[0m\u001b[1;33m)\u001b[0m\u001b[1;33m\u001b[0m\u001b[1;33m\u001b[0m\u001b[0m\n\u001b[1;32m----> 5\u001b[1;33m     \u001b[0mplt\u001b[0m\u001b[1;33m.\u001b[0m\u001b[0mxlim\u001b[0m\u001b[1;33m(\u001b[0m\u001b[1;36m0\u001b[0m\u001b[1;33m,\u001b[0m \u001b[0mn_trees\u001b[0m\u001b[1;33m)\u001b[0m\u001b[1;33m\u001b[0m\u001b[1;33m\u001b[0m\u001b[0m\n\u001b[0m\u001b[0;32m      6\u001b[0m     \u001b[0mplt\u001b[0m\u001b[1;33m.\u001b[0m\u001b[0mylim\u001b[0m\u001b[1;33m(\u001b[0m\u001b[1;36m0\u001b[0m\u001b[1;33m,\u001b[0m \u001b[0mymax\u001b[0m\u001b[1;33m)\u001b[0m\u001b[1;33m\u001b[0m\u001b[1;33m\u001b[0m\u001b[0m\n\u001b[0;32m      7\u001b[0m     \u001b[0mplt\u001b[0m\u001b[1;33m.\u001b[0m\u001b[0mplot\u001b[0m\u001b[1;33m(\u001b[0m\u001b[0mlist\u001b[0m\u001b[1;33m(\u001b[0m\u001b[0mrange\u001b[0m\u001b[1;33m(\u001b[0m\u001b[0mn_trees\u001b[0m\u001b[1;33m)\u001b[0m\u001b[1;33m)\u001b[0m\u001b[1;33m,\u001b[0m \u001b[0mtrain_err\u001b[0m\u001b[1;33m,\u001b[0m \u001b[0mlabel\u001b[0m\u001b[1;33m=\u001b[0m\u001b[1;34m'train error'\u001b[0m\u001b[1;33m)\u001b[0m\u001b[1;33m\u001b[0m\u001b[1;33m\u001b[0m\u001b[0m\n",
      "\u001b[1;32mD:\\anaconda3\\lib\\site-packages\\matplotlib\\pyplot.py\u001b[0m in \u001b[0;36mxlim\u001b[1;34m(*args, **kwargs)\u001b[0m\n\u001b[0;32m   1563\u001b[0m     \u001b[1;32mif\u001b[0m \u001b[1;32mnot\u001b[0m \u001b[0margs\u001b[0m \u001b[1;32mand\u001b[0m \u001b[1;32mnot\u001b[0m \u001b[0mkwargs\u001b[0m\u001b[1;33m:\u001b[0m\u001b[1;33m\u001b[0m\u001b[1;33m\u001b[0m\u001b[0m\n\u001b[0;32m   1564\u001b[0m         \u001b[1;32mreturn\u001b[0m \u001b[0max\u001b[0m\u001b[1;33m.\u001b[0m\u001b[0mget_xlim\u001b[0m\u001b[1;33m(\u001b[0m\u001b[1;33m)\u001b[0m\u001b[1;33m\u001b[0m\u001b[1;33m\u001b[0m\u001b[0m\n\u001b[1;32m-> 1565\u001b[1;33m     \u001b[0mret\u001b[0m \u001b[1;33m=\u001b[0m \u001b[0max\u001b[0m\u001b[1;33m.\u001b[0m\u001b[0mset_xlim\u001b[0m\u001b[1;33m(\u001b[0m\u001b[1;33m*\u001b[0m\u001b[0margs\u001b[0m\u001b[1;33m,\u001b[0m \u001b[1;33m**\u001b[0m\u001b[0mkwargs\u001b[0m\u001b[1;33m)\u001b[0m\u001b[1;33m\u001b[0m\u001b[1;33m\u001b[0m\u001b[0m\n\u001b[0m\u001b[0;32m   1566\u001b[0m     \u001b[1;32mreturn\u001b[0m \u001b[0mret\u001b[0m\u001b[1;33m\u001b[0m\u001b[1;33m\u001b[0m\u001b[0m\n\u001b[0;32m   1567\u001b[0m \u001b[1;33m\u001b[0m\u001b[0m\n",
      "\u001b[1;32mD:\\anaconda3\\lib\\site-packages\\matplotlib\\axes\\_base.py\u001b[0m in \u001b[0;36mset_xlim\u001b[1;34m(self, left, right, emit, auto, xmin, xmax)\u001b[0m\n\u001b[0;32m   3322\u001b[0m                     'Invalid limit will be ignored.')\n\u001b[0;32m   3323\u001b[0m                 \u001b[0mright\u001b[0m \u001b[1;33m=\u001b[0m \u001b[0mold_right\u001b[0m\u001b[1;33m\u001b[0m\u001b[1;33m\u001b[0m\u001b[0m\n\u001b[1;32m-> 3324\u001b[1;33m         \u001b[1;32mif\u001b[0m \u001b[0mleft\u001b[0m \u001b[1;33m==\u001b[0m \u001b[0mright\u001b[0m\u001b[1;33m:\u001b[0m\u001b[1;33m\u001b[0m\u001b[1;33m\u001b[0m\u001b[0m\n\u001b[0m\u001b[0;32m   3325\u001b[0m             cbook._warn_external(\n\u001b[0;32m   3326\u001b[0m                 \u001b[1;34mf\"Attempting to set identical left == right == {left} results \"\u001b[0m\u001b[1;33m\u001b[0m\u001b[1;33m\u001b[0m\u001b[0m\n",
      "\u001b[1;31mValueError\u001b[0m: The truth value of an array with more than one element is ambiguous. Use a.any() or a.all()"
     ]
    },
    {
     "data": {
      "image/png": "[encoded data removed]",
      "text/plain": [
       "<Figure size 576x432 with 1 Axes>"
      ]
     },
     "metadata": {
      "needs_background": "light"
     },
     "output_type": "display_data"
    }
   ],
   "source": [
    "get_error_plot(X1, X2, y, max(X2)) # Доделаю."
   ]
  },
  {
   "cell_type": "markdown",
   "metadata": {},
   "source": [
    "### Задание 2"
   ]
  },
  {
   "cell_type": "markdown",
   "metadata": {},
   "source": [
    "Модифицировать реализованный алгоритм, чтобы получился стохастический градиентный бустинг. Размер подвыборки принять равным 0.5. Сравнить на одном графике кривые изменения ошибки на тестовой выборке в зависимости от числа итераций."
   ]
  },
  {
   "cell_type": "markdown",
   "metadata": {},
   "source": [
    "### Задание 3"
   ]
  },
  {
   "cell_type": "markdown",
   "metadata": {},
   "source": [
    "Модифицировать алгоритм градиентного бустинга, взяв за основу реализацию решающего дерева из ДЗ_4 (для задачи регрессии). Сделать выводы о качестве алгоритма по сравнению с реализацией из п.1."
   ]
  }
 ],
 "metadata": {
  "kernelspec": {
   "display_name": "Python 3",
   "language": "python",
   "name": "python3"
  },
  "language_info": {
   "codemirror_mode": {
    "name": "ipython",
    "version": 3
   },
   "file_extension": ".py",
   "mimetype": "text/x-python",
   "name": "python",
   "nbconvert_exporter": "python",
   "pygments_lexer": "ipython3",
   "version": "3.8.5"
  }
 },
 "nbformat": 4,
 "nbformat_minor": 4
}
